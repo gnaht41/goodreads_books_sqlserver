{
 "cells": [
  {
   "cell_type": "markdown",
   "metadata": {},
   "source": [
    "#### Chuẩn bị các thư viện "
   ]
  },
  {
   "cell_type": "code",
   "execution_count": 1,
   "metadata": {},
   "outputs": [],
   "source": [
    "from pyspark.sql import SparkSession\n",
    "from pyspark.sql.functions import col, regexp_replace, to_date, monotonically_increasing_id, explode, split, date_format\n",
    "from pyspark.sql import SparkSession\n",
    "from pyspark.sql.functions import (\n",
    "    col, regexp_replace, to_date, monotonically_increasing_id,\n",
    "    explode, split,  when, trim, collect_list, coalesce, lit, count\n",
    ")"
   ]
  },
  {
   "cell_type": "markdown",
   "metadata": {},
   "source": [
    "####  Tạo kết nối, set up "
   ]
  },
  {
   "cell_type": "code",
   "execution_count": 2,
   "metadata": {},
   "outputs": [],
   "source": [
    "# Khởi tạo phiên Spark với MongoDB và PostgreSQL\n",
    "spark = SparkSession.builder \\\n",
    "    .appName(\"Goodreads Spark with MongoDB and PostgreSQL\") \\\n",
    "    .config(\"spark.jars.packages\", \"org.mongodb.spark:mongo-spark-connector_2.12:3.0.1,org.postgresql:postgresql:42.7.4\") \\\n",
    "    .config(\"spark.mongodb.read.connection.uri\", \"mongodb://localhost:27017/goodreads_db.books\") \\\n",
    "    .getOrCreate()"
   ]
  },
  {
   "cell_type": "code",
   "execution_count": 3,
   "metadata": {},
   "outputs": [],
   "source": [
    "# Thiết lập chính sách phân tích cú pháp thời gian thành LEGACY để xử lý ngày tháng cũ\n",
    "spark.conf.set(\"spark.sql.legacy.timeParserPolicy\", \"LEGACY\")"
   ]
  },
  {
   "cell_type": "code",
   "execution_count": 4,
   "metadata": {},
   "outputs": [],
   "source": [
    "# Cài đặt mức độ log: Đây là phương thức để thiết lập mức độ log của Spark. Khi bạn đặt mức log, Spark sẽ chỉ hiển thị các thông tin có mức độ quan trọng ngang hoặc cao hơn mức log đã đặt.\n",
    "spark.sparkContext.setLogLevel(\"INFO\")"
   ]
  },
  {
   "cell_type": "code",
   "execution_count": 5,
   "metadata": {},
   "outputs": [],
   "source": [
    "# Đọc dữ liệu từ MongoDB\n",
    "df = spark.read \\\n",
    "    .format(\"mongo\") \\\n",
    "    .option(\"uri\", \"mongodb://localhost:27017/goodreads_db.books\") \\\n",
    "    .load()"
   ]
  },
  {
   "cell_type": "markdown",
   "metadata": {},
   "source": [
    "#### Xử lí số liệu "
   ]
  },
  {
   "cell_type": "code",
   "execution_count": 6,
   "metadata": {},
   "outputs": [],
   "source": [
    "# Xử lý cột publish_date\n",
    "df = df.withColumn(\"cleaned_date\", regexp_replace(\n",
    "    col(\"Date\"), \"First published \", \"\"))\n",
    "\n",
    "# Chuyển đổi cột cleaned_date với các định dạng khác nhau và xử lý giá trị null\n",
    "date_formats = [\n",
    "    \"MMMM d, yyyy\",\n",
    "    \"yyyy\",\n",
    "    \"MMMM yyyy\"\n",
    "]\n",
    "\n",
    "# Khởi tạo publish_date với giá trị null\n",
    "df = df.withColumn(\"publish_date\", lit(None))\n",
    "\n",
    "# Lặp qua các định dạng ngày\n",
    "for date_format_str in date_formats:\n",
    "    df = df.withColumn(\"publish_date\",\n",
    "                       when(col(\"publish_date\").isNull(), to_date(\n",
    "                           col(\"cleaned_date\"), date_format_str))\n",
    "                       .otherwise(col(\"publish_date\")))\n",
    "\n",
    "# Xử lý giá trị null và chuyển đổi cột publish_date\n",
    "df = df.withColumn(\"publish_date\",\n",
    "                   coalesce(col(\"publish_date\"), lit(\"1900-01-01\")))\n",
    "\n",
    "# Chuyển đổi về kiểu dữ liệu date\n",
    "df = df.withColumn(\"publish_date\", to_date(col(\"publish_date\"), \"yyyy-MM-dd\"))"
   ]
  },
  {
   "cell_type": "code",
   "execution_count": 7,
   "metadata": {},
   "outputs": [
    {
     "name": "stdout",
     "output_type": "stream",
     "text": [
      "+--------------------+---------------------+---------------------------------+--------------------------------------------------------------------------------------------------------------------------------------------------------------------------------------------------------------------------------------------------------------------------------------------------------------------------------------------------------------------------------------------------------------------------------------------------------------------------------------------------------------------------------------------------------------------------------------------------------------------------------------------------------------------------------------------------------------------------------------------------------------------------------------------------------------------------------------------------------+-----------------------------------------------------------------------------------------+-----------------+-----+----+------+-------+-------+-------------------------------------------------------------------------+-----------------+------------+\n",
      "|Author              |Cover Type           |Date                             |Description                                                                                                                                                                                                                                                                                                                                                                                                                                                                                                                                                                                                                                                                                                                                                                                                                                             |Genres                                                                                   |Number of Ratings|Pages|Rank|Rating|Reviews|Score  |Title                                                                    |cleaned_date     |publish_date|\n",
      "+--------------------+---------------------+---------------------------------+--------------------------------------------------------------------------------------------------------------------------------------------------------------------------------------------------------------------------------------------------------------------------------------------------------------------------------------------------------------------------------------------------------------------------------------------------------------------------------------------------------------------------------------------------------------------------------------------------------------------------------------------------------------------------------------------------------------------------------------------------------------------------------------------------------------------------------------------------------+-----------------------------------------------------------------------------------------+-----------------+-----+----+------+-------+-------+-------------------------------------------------------------------------+-----------------+------------+\n",
      "|Kiersten Modglin    |Kindle Edition       |First published February 24, 2021|He thought his life couldnt get any worse                                                                                                                                                                                                                                                                                                                                                                                                                                                                                                                                                                                                                                                                                                                                                                                                               |Thriller, Psychological Thriller, Fiction, Mystery, Adventure, Mystery Thriller, Suspense|7757             |275  |703 |3.9   |610    |14560  |The Roommate                                                             |February 24, 2021|2021-02-24  |\n",
      "|Patrick Ness        |Paperback            |First published May 5, 2008      |Todd Hewitt is the only boy in a town of men Ever since the settlers were infected with the Noise germ Todd can hear everything the men think and they hear everything he thinks Todd is just a month away from becoming a man but in the midst of the cacophony he knows that the town is hiding something from him  something so awful Todd is forced to flee with only his dog whose simple loyal voice he hears too With hostile men from the town in pursuit the two stumble upon a strange and eerily silent creature a girl Who is she Why wasnt she killed by the germ like all the females on New World Propelled by Todds gritty narration readers are in for a whiteknuckle journey in which a boy on the cusp of manhood must unlearn everything he knows in order to figure out who he truly is                                            |Young Adult, Dystopia, Science Fiction, Fantasy, Fiction, Adventure, Audiobook           |197877           |528  |660 |3.97  |21196  |15768  |The Knife of Never Letting Go (Chaos Walking, #1)                        |May 5, 2008      |2008-05-05  |\n",
      "|Viktor E. Frankl    |Paperback            |First published January 1, 1946  |Psychiatrist Viktor Frankls memoir has riveted generations of readers with its descriptions of life in Nazi death camps and its lessons for spiritual survival Based on his own experience and the stories of his patients Frankl argues that we cannot avoid suffering but we can choose how to cope with it find meaning in it and move forward with renewed purpose At the heart of his theory known as logotherapy is a conviction that the primary human drive is not pleasure but the pursuit of what we find meaningful                                                                                                                                                                                                                                                                                                                          |Nonfiction, Psychology, Philosophy, Self Help, Memoir, Biography, Audiobook              |762458           |165  |239 |4.37  |42196  |68249  |Man’s Search for Meaning                                                 |January 1, 1946  |1946-01-01  |\n",
      "|Rick Riordan        |Paperback            |First published July 28, 2005    |Percy Jackson is a good kid but he cant seem to focus on his schoolwork or control his temper And lately being away at boarding school is only getting worse  Percy could have sworn his prealgebra teacher turned into a monster and tried to kill him When Percys mom finds out she knows its time that he knew the truth about where he came from and that he go to the one place hell be safe She sends Percy to Camp Half Blood a summer camp for demigods on Long Island where he learns that the father he never knew is Poseidon God of the Sea Soon a mystery unfolds and together with his friendsone a satyr and the other the demigod daughter of Athena  Percy sets out on a quest across the United States to reach the gates of the Underworld located in a recording studio in Hollywood and prevent a catastrophic war between the gods|Fantasy, Young Adult, Mythology, Fiction, Middle Grade, Adventure, Greek Mythology       |3166598          |377  |15  |4.31  |108831 |1118664|The Lightning Thief (Percy Jackson and the Olympians, #1)                |July 28, 2005    |2005-07-28  |\n",
      "|Laura Ingalls Wilder|Paperback            |First published January 1, 1932  |Based on the reallife adventures of Laura Ingalls Wilder Little House in the Big Woods is the first book in the awardwinning Little House series which has captivated generations of readers This edition features the classic blackandwhite artwork from Garth Williams                                                                                                                                                                                                                                                                                                                                                                                                                                                                                                                                                                                |Classics, Historical Fiction, Childrens, Fiction, Young Adult, Historical, Middle Grade  |275012           |224  |602 |4.21  |8238   |17399  |Little House in the Big Woods (Little House, #1)                         |January 1, 1932  |1932-01-01  |\n",
      "|J.D. Salinger       |Paperback            |First published January 1, 1957  |First published in                                                                                                                                                                                                                                                                                                                                                                                                                                                                                                                                                                                                                                                                                                                                                                                                                                      |Fiction, Short Stories, Literature, Classics, American, Novels, Literary Fiction         |228325           |201  |366 |3.96  |11425  |37741  |Franny and Zooey                                                         |January 1, 1957  |1957-01-01  |\n",
      "|Garth Stein         |Hardcover            |First published May 13, 2008     |Enzo knows he is different from other dogs a philosopher with a nearly human soul and an obsession with opposable thumbs he has educated himself by watching television extensively and by listening very closely to the words of his master Denny Swift an upandcoming race car driver                                                                                                                                                                                                                                                                                                                                                                                                                                                                                                                                                                 |Fiction, Animals, Dogs, Audiobook, Adult Fiction, Adult, Contemporary                    |532237           |336  |365 |4.23  |45094  |38100  |The Art of Racing in the Rain                                            |May 13, 2008     |2008-05-13  |\n",
      "|Pittacus Lore       |Hardcover            |First published August 3, 2010   |Nine of us came here We look like you We talk like you We live among you But we are not you We can do things you dream of doing We have powers you dream of having We are stronger and faster than anything you have ever seen We are the superheroes you worship in movies and comic booksbut we are real                                                                                                                                                                                                                                                                                                                                                                                                                                                                                                                                              |Young Adult, Fantasy, Science Fiction, Fiction, Aliens, Romance, Paranormal              |345688           |440  |638 |3.93  |17131  |16436  |I Am Number Four (Lorien Legacies, #1)                                   |August 3, 2010   |2010-08-03  |\n",
      "|Rebecca Wells       |Paperback            |First published May 22, 1996     |When Siddalee Walker oldest daughter of Vivi Abbott Walker YaYa extraordinaire is interviewed in the New York Times about a hit play shes directed her mother gets described as a tapdancing child abuser Enraged Vivi disowns Sidda Devastated Sidda begs forgiveness and postpones her upcoming wedding All looks bleak until the YaYas step in and convince Vivi to send Sidda a scrapbook of their girlhood mementos called Divine Secrets of the YaYa Sisterhood As Sidda struggles to analyze her mother she comes face to face with the tangled beauty of imperfect love and the fact that forgiveness more than understanding is often what the heart longs for                                                                                                                                                                                 |Fiction, Chick Lit, Contemporary, Adult Fiction, Historical Fiction, Southern, Adult     |561562           |383  |519 |3.86  |4889   |21985  |Divine Secrets of the Ya-Ya Sisterhood                                   |May 22, 1996     |1996-05-22  |\n",
      "|E.B. White          |Paperback            |First published October 15, 1952 |This beloved book by E B White author of                                                                                                                                                                                                                                                                                                                                                                                                                                                                                                                                                                                                                                                                                                                                                                                                                |Fiction, Childrens, Classics, Fantasy, Young Adult, Middle Grade, Animals                |1906633          |184  |34  |4.2   |24912  |795765 |Charlotte’s Web                                                          |October 15, 1952 |1952-10-15  |\n",
      "|Cassandra Clare     |Hardcover            |First published March 27, 2007   |When fifteenyearold Clary Fray heads out to the Pandemonium Club in New York City she hardly expects to witness a murder much less a murder committed by three teenagers covered with strange tattoos and brandishing bizarre weapons Then the body disappears into thin air Its hard to call the police when the murderers are invisible to everyone else and when there is nothingnot even a smear of bloodto show that a boy has died Or was he a boy                                                                                                                                                                                                                                                                                                                                                                                                |Fantasy, Young Adult, Romance, Paranormal, Urban Fantasy, Fiction, Vampires              |2054455          |485  |30  |4.07  |77961  |843049 |City of Bones (The Mortal Instruments, #1)                               |March 27, 2007   |2007-03-27  |\n",
      "|Dan       Brown     |Paperback            |First published January 1, 2003  |Alternate covers for 9780307277671 can be found                                                                                                                                                                                                                                                                                                                                                                                                                                                                                                                                                                                                                                                                                                                                                                                                         |Fiction, Mystery, Thriller, Mystery Thriller, Historical Fiction, Suspense, Adventure    |2407498          |489  |20  |3.92  |56303  |995769 |The da Vinci Code (Robert Langdon, #2)                                   |January 1, 2003  |2003-01-01  |\n",
      "|Jenny Han           |Paperback            |First published April 15, 2014   |To All the Boys Ive Loved Before is the story of Lara Jean who has never openly admitted her crushes but instead wrote each boy a letter about how she felt sealed it and hid it in a box under her bed                                                                                                                                                                                                                                                                                                                                                                                                                                                                                                                                                                                                                                                 |Romance, Contemporary, Young Adult, Fiction, Audiobook, Chick Lit, Realistic Fiction     |949209           |355  |699 |4.04  |51343  |14639  |To All the Boys I've Loved Before (To All the Boys I've Loved Before, #1)|April 15, 2014   |2014-04-15  |\n",
      "|W. Bruce Cameron    |Hardcover            |First published July 1, 2010     |This is the remarkable story of one endearing dogs search for his purpose over the course of several lives More than just another charming dog story this touches on the universal quest for an answer to lifes most basic question Why are we here                                                                                                                                                                                                                                                                                                                                                                                                                                                                                                                                                                                                     |Fiction, Animals, Dogs, Contemporary, Audiobook, Fantasy, Adult                          |135448           |319  |678 |4.35  |14867  |15161  |A Dog's Purpose (A Dog's Purpose, #1)                                    |July 1, 2010     |2010-07-01  |\n",
      "|Liane Moriarty      |Paperback            |First published December 25, 2014|A murderA tragic accidentOr just parents behaving badly Whats indisputable is that someone is dead                                                                                                                                                                                                                                                                                                                                                                                                                                                                                                                                                                                                                                                                                                                                                      |Fiction, Mystery, Contemporary, Thriller, Chick Lit, Audiobook, Mystery Thriller         |1043029          |460  |631 |4.31  |56547  |16583  |Big Little Lies                                                          |December 25, 2014|2014-12-25  |\n",
      "|Scott Westerfeld    |Paperback            |First published February 8, 2005 |Tally is about to turn sixteen and she cant wait In just a few weeks shell have the operation that will turn her from a repellent ugly into a stunning pretty And as a pretty shell be catapulted into a hightech paradise where her only job is to have fun                                                                                                                                                                                                                                                                                                                                                                                                                                                                                                                                                                                            |Young Adult, Dystopia, Science Fiction, Fiction, Fantasy, Romance, Teen                  |682939           |425  |261 |3.85  |28048  |59630  |Uglies (Uglies, #1)                                                      |February 8, 2005 |2005-02-08  |\n",
      "|Umberto Eco         |Paperback            |First published September 1, 1980|The year is 1327 Franciscans in a wealthy Italian abbey are suspected of heresy and Brother William of Baskerville arrives to investigate When his delicate mission is suddenly overshadowed by seven bizarre deaths Brother William turns to the logic of Aristotle the theology of Aquinas and the empirical insights of Roger Bacon to find the killer He collects evidence deciphers secret symbols and coded manuscripts and digs into the eerie labyrinth of the abbey where the most interesting things happen at night armed with a wry sense of humor and a ferocious curiosity                                                                                                                                                                                                                                                                |Fiction, Historical Fiction, Mystery, Historical, Literature, Italy, Crime               |374687           |552  |131 |4.14  |13781  |146934 |The Name of the Rose                                                     |September 1, 1980|1980-09-01  |\n",
      "|Sarah J. Maas       |Hardcover            |First published September 6, 2016|The long path to the throne has only just begun for Aelin Galathynius as war looms on the horizon Loyalties have been broken and bought friends have been lost and gained and those who possess magic find themselves at odds with those who dont                                                                                                                                                                                                                                                                                                                                                                                                                                                                                                                                                                                                       |Fantasy, Young Adult, Romance, Fae, New Adult, Fiction, Magic                            |855191           |689  |594 |4.63  |70164  |17645  |Empire of Storms (Throne of Glass, #5)                                   |September 6, 2016|2016-09-06  |\n",
      "|J.R. Ward           |Mass Market Paperback|First published March 7, 2006    |In the shadows of the night in Caldwell New York theres a deadly war raging between vampires and their slayers And there exists a secret band of brothers like no other  six vampire warriors defenders of their race Possessed by a deadly beast Rhage is the most dangerous of the Black Dagger Brotherhood                                                                                                                                                                                                                                                                                                                                                                                                                                                                                                                                           |Romance, Paranormal, Vampires, Paranormal Romance, Fantasy, Urban Fantasy, Adult         |195908           |441  |700 |4.32  |7833   |14638  |Lover Eternal (Black Dagger Brotherhood, #2)                             |March 7, 2006    |2006-03-07  |\n",
      "|Stephen Hawking     |Paperback            |First published September 1, 1988|A landmark volume in science writing by one of the great minds of our time Stephen Hawkings book explores such profound questions as How did the universe beginand what made its start possible Does time always flow forward Is the universe unendingor are there boundaries Are there other dimensions in space What will happen when it all ends                                                                                                                                                                                                                                                                                                                                                                                                                                                                                                     |Science, Nonfiction, Physics, History, Classics, Astronomy, Philosophy                   |447102           |226  |688 |4.21  |13037  |14890  |A Brief History of Time                                                  |September 1, 1988|1988-09-01  |\n",
      "+--------------------+---------------------+---------------------------------+--------------------------------------------------------------------------------------------------------------------------------------------------------------------------------------------------------------------------------------------------------------------------------------------------------------------------------------------------------------------------------------------------------------------------------------------------------------------------------------------------------------------------------------------------------------------------------------------------------------------------------------------------------------------------------------------------------------------------------------------------------------------------------------------------------------------------------------------------------+-----------------------------------------------------------------------------------------+-----------------+-----+----+------+-------+-------+-------------------------------------------------------------------------+-----------------+------------+\n",
      "only showing top 20 rows\n",
      "\n"
     ]
    }
   ],
   "source": [
    "from pyspark.sql import functions as F\n",
    "\n",
    "# Xử lý dữ liệu có dạng \"8,932,568\" - Loại bỏ dấu phẩy\n",
    "df = df.withColumn(\"Number of Ratings\", regexp_replace(col(\"Number of Ratings\"), \",\", \"\")) \\\n",
    "       .withColumn(\"Reviews\", regexp_replace(col(\"Reviews\"), \",\", \"\")) \\\n",
    "       .withColumn(\"Score\", regexp_replace(col(\"Score\"), \",\", \"\"))\n",
    "\n",
    "# Chuyển đổi kiểu dữ liệu sau khi loại bỏ dấu phẩy\n",
    "df = df.withColumn(\"Pages\", col(\"Pages\").cast(\"int\")) \\\n",
    "       .withColumn(\"Rating\", col(\"Rating\").cast(\"float\")) \\\n",
    "       .withColumn(\"Number of Ratings\", col(\"Number of Ratings\").cast(\"int\")) \\\n",
    "       .withColumn(\"Reviews\", col(\"Reviews\").cast(\"int\")) \\\n",
    "       .withColumn(\"Score\", col(\"Score\").cast(\"int\"))\n",
    "\n",
    "\n",
    "# Bước 4: Xử lý trường hợp Description không hợp lệ\n",
    "df = df.withColumn(\"Description\",\n",
    "                   F.when(col(\"Description\").isNull() | (F.trim(col(\"Description\"))\n",
    "                          == \"\"), \"No description available\")  # Thay thế NaN và chuỗi rỗng\n",
    "                   # Thay thế chỉ số\n",
    "                    .when(col(\"Description\").rlike(\"^[0-9]+$\"), \"No description available\")\n",
    "                   # Thay thế chuỗi chỉ có khoảng trắng\n",
    "                    .when(col(\"Description\").rlike(\"^[\\\\s]+$\"), \"No description available\")\n",
    "                   # Thay thế chuỗi không hợp lệ\n",
    "                    .when(col(\"Description\").rlike(\"^[0-9]+[a-zA-Z]+|[a-zA-Z]+[0-9]+$\"), \"No description available\")\n",
    "                    .otherwise(col(\"Description\")))\n",
    "\n",
    "# Bước 6: Xóa dấu nháy kép và ký tự không hợp lệ trong Description\n",
    "df = df.withColumn(\"Description\", regexp_replace(\n",
    "    col(\"Description\"), '\"', ''))  # Xóa dấu nháy kép\n",
    "df = df.withColumn(\"Description\", regexp_replace(\n",
    "    col(\"Description\"), '[^a-zA-Z0-9\\\\s]', ''))  # Xóa ký tự không hợp lệ\n",
    "\n",
    "# Bước 7: Xóa dữ liệu trùng lặp\n",
    "df = df.dropDuplicates()\n",
    "\n",
    "# Bước 8: Xóa cột _id nếu có\n",
    "df = df.drop(\"_id\")\n",
    "\n",
    "# Hiển thị DataFrame sau khi xử lý\n",
    "df.show(truncate=False)"
   ]
  },
  {
   "cell_type": "code",
   "execution_count": 8,
   "metadata": {},
   "outputs": [
    {
     "name": "stdout",
     "output_type": "stream",
     "text": [
      "+------+----------+----+-----------+------+-----------------+-----+----+------+-------+-----+-----+------------+------------+\n",
      "|Author|Cover Type|Date|Description|Genres|Number of Ratings|Pages|Rank|Rating|Reviews|Score|Title|cleaned_date|publish_date|\n",
      "+------+----------+----+-----------+------+-----------------+-----+----+------+-------+-----+-----+------------+------------+\n",
      "|0     |0         |0   |0          |0     |0                |0    |0   |0     |0      |0    |0    |0           |0           |\n",
      "+------+----------+----+-----------+------+-----------------+-----+----+------+-------+-----+-----+------------+------------+\n",
      "\n"
     ]
    }
   ],
   "source": [
    "from pyspark.sql import functions as F\n",
    "\n",
    "# Kiểm tra và điền giá trị mặc định cho các giá trị null\n",
    "df = df.na.fill({\n",
    "    \"Rank\": 0,\n",
    "    \"Title\": \"No title\",\n",
    "    \"Author\": \"no author\",\n",
    "    \"Rating\": 0.0,\n",
    "    \"Number of Ratings\": 0,\n",
    "    \"Description\": \"No description available\",\n",
    "    \"Reviews\": 0,\n",
    "    \"Pages\": 0,\n",
    "    \"Cover Type\": \"No cover type\",\n",
    "    \"Score\": 0.0,\n",
    "    \"Genres\": \"No genres\"\n",
    "})\n",
    "\n",
    "# # Thay thế giá trị null trong cột Date bằng ngày hiện tại\n",
    "df = df.withColumn(\"Date\",\n",
    "                   F.when(F.col(\"Date\").isNull(), F.current_date()).otherwise(F.col(\"Date\")))\n",
    "\n",
    "# # Định dạng clean_date thành dạng \"Published July 15, 2022\" nếu null\n",
    "df = df.withColumn(\"cleaned_date\",\n",
    "                   F.when(F.col(\"cleaned_date\").isNull(),\n",
    "                          F.concat(F.lit(\"Published \"),\n",
    "                                   F.date_format(F.current_date(), \"MMMM dd, yyyy\")))\n",
    "                   .otherwise(F.col(\"cleaned_date\")))\n",
    "\n",
    "# Kiểm tra lại số lượng giá trị null sau khi điền giá trị\n",
    "null_counts_after = df.select(\n",
    "    [count(when(col(c).isNull(), c)).alias(c) for c in df.columns])\n",
    "null_counts_after.show(truncate=False)"
   ]
  },
  {
   "cell_type": "code",
   "execution_count": 9,
   "metadata": {},
   "outputs": [
    {
     "name": "stdout",
     "output_type": "stream",
     "text": [
      "+--------------------+---------------------+---------------------------------+--------------------------------------------------------------------------------------------------------------------------------------------------------------------------------------------------------------------------------------------------------------------------------------------------------------------------------------------------------------------------------------------------------------------------------------------------------------------------------------------------------------------------------------------------------------------------------------------------------------------------------------------------------------------------------------------------------------------------------------------------------------------------------------------------------------------------------------------------------+-----------------------------------------------------------------------------------------+-----------------+-----+----+------+-------+-------+-------------------------------------------------------------------------+-----------------+------------+\n",
      "|Author              |Cover Type           |Date                             |Description                                                                                                                                                                                                                                                                                                                                                                                                                                                                                                                                                                                                                                                                                                                                                                                                                                             |Genres                                                                                   |Number of Ratings|Pages|Rank|Rating|Reviews|Score  |Title                                                                    |cleaned_date     |publish_date|\n",
      "+--------------------+---------------------+---------------------------------+--------------------------------------------------------------------------------------------------------------------------------------------------------------------------------------------------------------------------------------------------------------------------------------------------------------------------------------------------------------------------------------------------------------------------------------------------------------------------------------------------------------------------------------------------------------------------------------------------------------------------------------------------------------------------------------------------------------------------------------------------------------------------------------------------------------------------------------------------------+-----------------------------------------------------------------------------------------+-----------------+-----+----+------+-------+-------+-------------------------------------------------------------------------+-----------------+------------+\n",
      "|Kiersten Modglin    |Kindle Edition       |First published February 24, 2021|He thought his life couldnt get any worse                                                                                                                                                                                                                                                                                                                                                                                                                                                                                                                                                                                                                                                                                                                                                                                                               |Thriller, Psychological Thriller, Fiction, Mystery, Adventure, Mystery Thriller, Suspense|7757             |275  |703 |3.9   |610    |14560  |The Roommate                                                             |February 24, 2021|2021-02-24  |\n",
      "|Patrick Ness        |Paperback            |First published May 5, 2008      |Todd Hewitt is the only boy in a town of men Ever since the settlers were infected with the Noise germ Todd can hear everything the men think and they hear everything he thinks Todd is just a month away from becoming a man but in the midst of the cacophony he knows that the town is hiding something from him  something so awful Todd is forced to flee with only his dog whose simple loyal voice he hears too With hostile men from the town in pursuit the two stumble upon a strange and eerily silent creature a girl Who is she Why wasnt she killed by the germ like all the females on New World Propelled by Todds gritty narration readers are in for a whiteknuckle journey in which a boy on the cusp of manhood must unlearn everything he knows in order to figure out who he truly is                                            |Young Adult, Dystopia, Science Fiction, Fantasy, Fiction, Adventure, Audiobook           |197877           |528  |660 |3.97  |21196  |15768  |The Knife of Never Letting Go (Chaos Walking, #1)                        |May 5, 2008      |2008-05-05  |\n",
      "|Viktor E. Frankl    |Paperback            |First published January 1, 1946  |Psychiatrist Viktor Frankls memoir has riveted generations of readers with its descriptions of life in Nazi death camps and its lessons for spiritual survival Based on his own experience and the stories of his patients Frankl argues that we cannot avoid suffering but we can choose how to cope with it find meaning in it and move forward with renewed purpose At the heart of his theory known as logotherapy is a conviction that the primary human drive is not pleasure but the pursuit of what we find meaningful                                                                                                                                                                                                                                                                                                                          |Nonfiction, Psychology, Philosophy, Self Help, Memoir, Biography, Audiobook              |762458           |165  |239 |4.37  |42196  |68249  |Man’s Search for Meaning                                                 |January 1, 1946  |1946-01-01  |\n",
      "|Rick Riordan        |Paperback            |First published July 28, 2005    |Percy Jackson is a good kid but he cant seem to focus on his schoolwork or control his temper And lately being away at boarding school is only getting worse  Percy could have sworn his prealgebra teacher turned into a monster and tried to kill him When Percys mom finds out she knows its time that he knew the truth about where he came from and that he go to the one place hell be safe She sends Percy to Camp Half Blood a summer camp for demigods on Long Island where he learns that the father he never knew is Poseidon God of the Sea Soon a mystery unfolds and together with his friendsone a satyr and the other the demigod daughter of Athena  Percy sets out on a quest across the United States to reach the gates of the Underworld located in a recording studio in Hollywood and prevent a catastrophic war between the gods|Fantasy, Young Adult, Mythology, Fiction, Middle Grade, Adventure, Greek Mythology       |3166598          |377  |15  |4.31  |108831 |1118664|The Lightning Thief (Percy Jackson and the Olympians, #1)                |July 28, 2005    |2005-07-28  |\n",
      "|Laura Ingalls Wilder|Paperback            |First published January 1, 1932  |Based on the reallife adventures of Laura Ingalls Wilder Little House in the Big Woods is the first book in the awardwinning Little House series which has captivated generations of readers This edition features the classic blackandwhite artwork from Garth Williams                                                                                                                                                                                                                                                                                                                                                                                                                                                                                                                                                                                |Classics, Historical Fiction, Childrens, Fiction, Young Adult, Historical, Middle Grade  |275012           |224  |602 |4.21  |8238   |17399  |Little House in the Big Woods (Little House, #1)                         |January 1, 1932  |1932-01-01  |\n",
      "|J.D. Salinger       |Paperback            |First published January 1, 1957  |First published in                                                                                                                                                                                                                                                                                                                                                                                                                                                                                                                                                                                                                                                                                                                                                                                                                                      |Fiction, Short Stories, Literature, Classics, American, Novels, Literary Fiction         |228325           |201  |366 |3.96  |11425  |37741  |Franny and Zooey                                                         |January 1, 1957  |1957-01-01  |\n",
      "|Garth Stein         |Hardcover            |First published May 13, 2008     |Enzo knows he is different from other dogs a philosopher with a nearly human soul and an obsession with opposable thumbs he has educated himself by watching television extensively and by listening very closely to the words of his master Denny Swift an upandcoming race car driver                                                                                                                                                                                                                                                                                                                                                                                                                                                                                                                                                                 |Fiction, Animals, Dogs, Audiobook, Adult Fiction, Adult, Contemporary                    |532237           |336  |365 |4.23  |45094  |38100  |The Art of Racing in the Rain                                            |May 13, 2008     |2008-05-13  |\n",
      "|Pittacus Lore       |Hardcover            |First published August 3, 2010   |Nine of us came here We look like you We talk like you We live among you But we are not you We can do things you dream of doing We have powers you dream of having We are stronger and faster than anything you have ever seen We are the superheroes you worship in movies and comic booksbut we are real                                                                                                                                                                                                                                                                                                                                                                                                                                                                                                                                              |Young Adult, Fantasy, Science Fiction, Fiction, Aliens, Romance, Paranormal              |345688           |440  |638 |3.93  |17131  |16436  |I Am Number Four (Lorien Legacies, #1)                                   |August 3, 2010   |2010-08-03  |\n",
      "|Rebecca Wells       |Paperback            |First published May 22, 1996     |When Siddalee Walker oldest daughter of Vivi Abbott Walker YaYa extraordinaire is interviewed in the New York Times about a hit play shes directed her mother gets described as a tapdancing child abuser Enraged Vivi disowns Sidda Devastated Sidda begs forgiveness and postpones her upcoming wedding All looks bleak until the YaYas step in and convince Vivi to send Sidda a scrapbook of their girlhood mementos called Divine Secrets of the YaYa Sisterhood As Sidda struggles to analyze her mother she comes face to face with the tangled beauty of imperfect love and the fact that forgiveness more than understanding is often what the heart longs for                                                                                                                                                                                 |Fiction, Chick Lit, Contemporary, Adult Fiction, Historical Fiction, Southern, Adult     |561562           |383  |519 |3.86  |4889   |21985  |Divine Secrets of the Ya-Ya Sisterhood                                   |May 22, 1996     |1996-05-22  |\n",
      "|E.B. White          |Paperback            |First published October 15, 1952 |This beloved book by E B White author of                                                                                                                                                                                                                                                                                                                                                                                                                                                                                                                                                                                                                                                                                                                                                                                                                |Fiction, Childrens, Classics, Fantasy, Young Adult, Middle Grade, Animals                |1906633          |184  |34  |4.2   |24912  |795765 |Charlotte’s Web                                                          |October 15, 1952 |1952-10-15  |\n",
      "|Cassandra Clare     |Hardcover            |First published March 27, 2007   |When fifteenyearold Clary Fray heads out to the Pandemonium Club in New York City she hardly expects to witness a murder much less a murder committed by three teenagers covered with strange tattoos and brandishing bizarre weapons Then the body disappears into thin air Its hard to call the police when the murderers are invisible to everyone else and when there is nothingnot even a smear of bloodto show that a boy has died Or was he a boy                                                                                                                                                                                                                                                                                                                                                                                                |Fantasy, Young Adult, Romance, Paranormal, Urban Fantasy, Fiction, Vampires              |2054455          |485  |30  |4.07  |77961  |843049 |City of Bones (The Mortal Instruments, #1)                               |March 27, 2007   |2007-03-27  |\n",
      "|Dan       Brown     |Paperback            |First published January 1, 2003  |Alternate covers for 9780307277671 can be found                                                                                                                                                                                                                                                                                                                                                                                                                                                                                                                                                                                                                                                                                                                                                                                                         |Fiction, Mystery, Thriller, Mystery Thriller, Historical Fiction, Suspense, Adventure    |2407498          |489  |20  |3.92  |56303  |995769 |The da Vinci Code (Robert Langdon, #2)                                   |January 1, 2003  |2003-01-01  |\n",
      "|Jenny Han           |Paperback            |First published April 15, 2014   |To All the Boys Ive Loved Before is the story of Lara Jean who has never openly admitted her crushes but instead wrote each boy a letter about how she felt sealed it and hid it in a box under her bed                                                                                                                                                                                                                                                                                                                                                                                                                                                                                                                                                                                                                                                 |Romance, Contemporary, Young Adult, Fiction, Audiobook, Chick Lit, Realistic Fiction     |949209           |355  |699 |4.04  |51343  |14639  |To All the Boys I've Loved Before (To All the Boys I've Loved Before, #1)|April 15, 2014   |2014-04-15  |\n",
      "|W. Bruce Cameron    |Hardcover            |First published July 1, 2010     |This is the remarkable story of one endearing dogs search for his purpose over the course of several lives More than just another charming dog story this touches on the universal quest for an answer to lifes most basic question Why are we here                                                                                                                                                                                                                                                                                                                                                                                                                                                                                                                                                                                                     |Fiction, Animals, Dogs, Contemporary, Audiobook, Fantasy, Adult                          |135448           |319  |678 |4.35  |14867  |15161  |A Dog's Purpose (A Dog's Purpose, #1)                                    |July 1, 2010     |2010-07-01  |\n",
      "|Liane Moriarty      |Paperback            |First published December 25, 2014|A murderA tragic accidentOr just parents behaving badly Whats indisputable is that someone is dead                                                                                                                                                                                                                                                                                                                                                                                                                                                                                                                                                                                                                                                                                                                                                      |Fiction, Mystery, Contemporary, Thriller, Chick Lit, Audiobook, Mystery Thriller         |1043029          |460  |631 |4.31  |56547  |16583  |Big Little Lies                                                          |December 25, 2014|2014-12-25  |\n",
      "|Scott Westerfeld    |Paperback            |First published February 8, 2005 |Tally is about to turn sixteen and she cant wait In just a few weeks shell have the operation that will turn her from a repellent ugly into a stunning pretty And as a pretty shell be catapulted into a hightech paradise where her only job is to have fun                                                                                                                                                                                                                                                                                                                                                                                                                                                                                                                                                                                            |Young Adult, Dystopia, Science Fiction, Fiction, Fantasy, Romance, Teen                  |682939           |425  |261 |3.85  |28048  |59630  |Uglies (Uglies, #1)                                                      |February 8, 2005 |2005-02-08  |\n",
      "|Umberto Eco         |Paperback            |First published September 1, 1980|The year is 1327 Franciscans in a wealthy Italian abbey are suspected of heresy and Brother William of Baskerville arrives to investigate When his delicate mission is suddenly overshadowed by seven bizarre deaths Brother William turns to the logic of Aristotle the theology of Aquinas and the empirical insights of Roger Bacon to find the killer He collects evidence deciphers secret symbols and coded manuscripts and digs into the eerie labyrinth of the abbey where the most interesting things happen at night armed with a wry sense of humor and a ferocious curiosity                                                                                                                                                                                                                                                                |Fiction, Historical Fiction, Mystery, Historical, Literature, Italy, Crime               |374687           |552  |131 |4.14  |13781  |146934 |The Name of the Rose                                                     |September 1, 1980|1980-09-01  |\n",
      "|Sarah J. Maas       |Hardcover            |First published September 6, 2016|The long path to the throne has only just begun for Aelin Galathynius as war looms on the horizon Loyalties have been broken and bought friends have been lost and gained and those who possess magic find themselves at odds with those who dont                                                                                                                                                                                                                                                                                                                                                                                                                                                                                                                                                                                                       |Fantasy, Young Adult, Romance, Fae, New Adult, Fiction, Magic                            |855191           |689  |594 |4.63  |70164  |17645  |Empire of Storms (Throne of Glass, #5)                                   |September 6, 2016|2016-09-06  |\n",
      "|J.R. Ward           |Mass Market Paperback|First published March 7, 2006    |In the shadows of the night in Caldwell New York theres a deadly war raging between vampires and their slayers And there exists a secret band of brothers like no other  six vampire warriors defenders of their race Possessed by a deadly beast Rhage is the most dangerous of the Black Dagger Brotherhood                                                                                                                                                                                                                                                                                                                                                                                                                                                                                                                                           |Romance, Paranormal, Vampires, Paranormal Romance, Fantasy, Urban Fantasy, Adult         |195908           |441  |700 |4.32  |7833   |14638  |Lover Eternal (Black Dagger Brotherhood, #2)                             |March 7, 2006    |2006-03-07  |\n",
      "|Stephen Hawking     |Paperback            |First published September 1, 1988|A landmark volume in science writing by one of the great minds of our time Stephen Hawkings book explores such profound questions as How did the universe beginand what made its start possible Does time always flow forward Is the universe unendingor are there boundaries Are there other dimensions in space What will happen when it all ends                                                                                                                                                                                                                                                                                                                                                                                                                                                                                                     |Science, Nonfiction, Physics, History, Classics, Astronomy, Philosophy                   |447102           |226  |688 |4.21  |13037  |14890  |A Brief History of Time                                                  |September 1, 1988|1988-09-01  |\n",
      "+--------------------+---------------------+---------------------------------+--------------------------------------------------------------------------------------------------------------------------------------------------------------------------------------------------------------------------------------------------------------------------------------------------------------------------------------------------------------------------------------------------------------------------------------------------------------------------------------------------------------------------------------------------------------------------------------------------------------------------------------------------------------------------------------------------------------------------------------------------------------------------------------------------------------------------------------------------------+-----------------------------------------------------------------------------------------+-----------------+-----+----+------+-------+-------+-------------------------------------------------------------------------+-----------------+------------+\n",
      "only showing top 20 rows\n",
      "\n"
     ]
    }
   ],
   "source": [
    "# Hiển thị dữ liệu sau khi xử lý\n",
    "df.show(truncate=False)"
   ]
  },
  {
   "cell_type": "code",
   "execution_count": 10,
   "metadata": {},
   "outputs": [
    {
     "name": "stdout",
     "output_type": "stream",
     "text": [
      "root\n",
      " |-- Author: string (nullable = false)\n",
      " |-- Cover Type: string (nullable = false)\n",
      " |-- Date: string (nullable = true)\n",
      " |-- Description: string (nullable = false)\n",
      " |-- Genres: string (nullable = false)\n",
      " |-- Number of Ratings: integer (nullable = false)\n",
      " |-- Pages: integer (nullable = false)\n",
      " |-- Rank: string (nullable = false)\n",
      " |-- Rating: float (nullable = false)\n",
      " |-- Reviews: integer (nullable = false)\n",
      " |-- Score: integer (nullable = true)\n",
      " |-- Title: string (nullable = false)\n",
      " |-- cleaned_date: string (nullable = true)\n",
      " |-- publish_date: date (nullable = true)\n",
      "\n"
     ]
    }
   ],
   "source": [
    "# Kiểm tra kiểu dữ liệu của cột publish_date\n",
    "df.printSchema()"
   ]
  },
  {
   "cell_type": "markdown",
   "metadata": {},
   "source": [
    "#### Tạo các bảng từ dữ liệu"
   ]
  },
  {
   "cell_type": "code",
   "execution_count": 11,
   "metadata": {},
   "outputs": [
    {
     "name": "stdout",
     "output_type": "stream",
     "text": [
      "+-------+-------------------------------------------------------+---------+---------------------+------------+-----------------------------------------------------------------------------------+------+-------------------+-------------------------------------------------------------------------------------------------------------------------------------------------------------------------------------------------------------------------------------------------------------------------------------------------------------------------------------------------------------------------------------------------------------------------------------------------------------------------------------------------------------------------------------------------------------------------------------------------------------------------------------------------------------------------------------------------------------------------------------------------------------------------------------------------------------------------------------------------------------------------------------------------------------------------------------------------------------------------------------------------------------------------------------------------------------------------------------------------------------------------------------------------------------------------------------------------------------------------------------------------+\n",
      "|book_id|book_title                                             |num_pages|cover_type           |publish_date|Genres                                                                             |Rating|Author             |description                                                                                                                                                                                                                                                                                                                                                                                                                                                                                                                                                                                                                                                                                                                                                                                                                                                                                                                                                                                                                                                                                                                                                                                                                                      |\n",
      "+-------+-------------------------------------------------------+---------+---------------------+------------+-----------------------------------------------------------------------------------+------+-------------------+-------------------------------------------------------------------------------------------------------------------------------------------------------------------------------------------------------------------------------------------------------------------------------------------------------------------------------------------------------------------------------------------------------------------------------------------------------------------------------------------------------------------------------------------------------------------------------------------------------------------------------------------------------------------------------------------------------------------------------------------------------------------------------------------------------------------------------------------------------------------------------------------------------------------------------------------------------------------------------------------------------------------------------------------------------------------------------------------------------------------------------------------------------------------------------------------------------------------------------------------------+\n",
      "|226    |The Girl Who Was Taken                                 |449      |Kindle Edition       |2017-04-25  |Thriller, Mystery, Fiction, Mystery Thriller, Suspense, Audiobook, Crime           |4.2   |Charlie Donlea     |Two abducted girlsone who returns one who doesnt                                                                                                                                                                                                                                                                                                                                                                                                                                                                                                                                                                                                                                                                                                                                                                                                                                                                                                                                                                                                                                                                                                                                                                                                 |\n",
      "|416    |The House in the Cerulean Sea (Cerulean Chronicles, #1)|394      |Kindle Edition       |2020-03-16  |Fantasy, Fiction, LGBT, Romance, Audiobook, Queer, Young Adult                     |4.39  |T.J. Klune         |A magical island A dangerous task A burning secret                                                                                                                                                                                                                                                                                                                                                                                                                                                                                                                                                                                                                                                                                                                                                                                                                                                                                                                                                                                                                                                                                                                                                                                               |\n",
      "|577    |The Golden Compass (His Dark Materials, #1)            |399      |Hardcover            |1995-07-01  |Fantasy, Young Adult, Fiction, Childrens, Adventure, Middle Grade, Audiobook       |4.03  |Philip Pullman     |Lyra is rushing to the cold far North where witch clans and armored bears rule North where the Gobblers take the children they stealincluding her friend Roger North where her fearsome uncle Asriel is trying to build a bridge to a parallel world                                                                                                                                                                                                                                                                                                                                                                                                                                                                                                                                                                                                                                                                                                                                                                                                                                                                                                                                                                                             |\n",
      "|649    |Steppenwolf                                            |256      |Paperback            |1927-01-01  |Fiction, Classics, Philosophy, German Literature, Literature, Novels, Germany      |4.13  |Hermann Hesse      | is a poetical selfportrait of a man who felt himself to be halfhuman and halfwolf This Faustlike and magical story is evidence of Hesses searching philosophy and extraordinary sense of humanity as he tells of the humanization of a middleaged misanthrope Yet his novel can also be seen as a plea for rigorous selfexamination and an indictment of the intellectual hypocrisy of the period As Hesse himself remarked Of all my books                                                                                                                                                                                                                                                                                                                                                                                                                                                                                                                                                                                                                                                                                                                                                                                                     |\n",
      "|664    |Pet Sematary                                           |580      |Kindle Edition       |1983-11-14  |Horror, Fiction, Thriller, Fantasy, Audiobook, Paranormal, Adult                   |4.07  |Stephen        King|No description available                                                                                                                                                                                                                                                                                                                                                                                                                                                                                                                                                                                                                                                                                                                                                                                                                                                                                                                                                                                                                                                                                                                                                                                                                         |\n",
      "|886    |Death of a Salesman                                    |144      |Hardcover            |1949-01-01  |Classics, Plays, Fiction, Drama, School, Theatre, Literature                       |3.58  |Arthur Miller      |Willy Loman has been a salesman for 34 years At 60 he is cast aside his usefulness now exhausted With no future to dream about he must face the crushing disappointments of his past He takes one final brave action but is he heroic at last or a selfdeluding fool                                                                                                                                                                                                                                                                                                                                                                                                                                                                                                                                                                                                                                                                                                                                                                                                                                                                                                                                                                             |\n",
      "|931    |Graceling (Graceling Realm, #1)                        |471      |Hardcover            |2008-10-01  |Fantasy, Young Adult, Romance, Fiction, Young Adult Fantasy, Adventure, Magic      |4.07  |Kristin Cashore    |Katsa has been able to kill a man with her bare hands since she was eightshes a Graceling one of the rare people in her land born with an extreme skill As niece of the king she should be able to live a life of privilege but Graced as she is with killing she is forced to work as the kings thug                                                                                                                                                                                                                                                                                                                                                                                                                                                                                                                                                                                                                                                                                                                                                                                                                                                                                                                                            |\n",
      "|35     |Ask for Andrea                                         |272      |Kindle Edition       |2022-04-15  |Thriller, Horror, Mystery Thriller, Mystery, Fiction, Paranormal, Suspense         |4.1   |Noelle W. Ihli     |James Carson has gotten away with murder three times                                                                                                                                                                                                                                                                                                                                                                                                                                                                                                                                                                                                                                                                                                                                                                                                                                                                                                                                                                                                                                                                                                                                                                                             |\n",
      "|210    |Before I Go to Sleep                                   |359      |Hardcover            |2011-10-01  |Thriller, Fiction, Mystery, Mystery Thriller, Suspense, Crime, Contemporary        |3.9   |S.J. Watson        |Memories define us                                                                                                                                                                                                                                                                                                                                                                                                                                                                                                                                                                                                                                                                                                                                                                                                                                                                                                                                                                                                                                                                                                                                                                                                                               |\n",
      "|223    |Definitely Dead (Sookie Stackhouse, #6)                |324      |Mass Market Paperback|2006-04-17  |Fantasy, Vampires, Paranormal, Urban Fantasy, Romance, Fiction, Mystery            |4.01  |Charlaine Harris   |Since Louisiana cocktail waitress Sookie Stackhouse has so few living relatives she hates to lose one  even her cousin Hadley undead consort of the vampire Queen of Louisiana Hadleys left everything she has to Sookie but claiming that inheritance has a high risk factor Some people dont want her looking too deeply into Hadleys past                                                                                                                                                                                                                                                                                                                                                                                                                                                                                                                                                                                                                                                                                                                                                                                                                                                                                                     |\n",
      "|549    |زندگی مه آلود پریا                                     |204      |ebook                |2013-01-02  |Fiction                                                                            |3.33  |سید مرتضی مصطفوی   |Mystical story                                                                                                                                                                                                                                                                                                                                                                                                                                                                                                                                                                                                                                                                                                                                                                                                                                                                                                                                                                                                                                                                                                                                                                                                                                   |\n",
      "|673    |A Walk to Remember                                     |215      |Kindle Edition       |1999-10-01  |Romance, Fiction, Contemporary, Young Adult, Chick Lit, Adult, Contemporary Romance|4.2   |Nicholas Sparks    |There was a time when the world was sweeterwhen the women in Beaufort North Carolina wore dresses and the men donned hatswhen something happened to a seventeenyearold boy that would change his life forever Every April when the wind blows in from the sea and mingles with the scent of lilacs Landon Carter remembers his last year at Beaufort High It was 1958 and Landon had already dated a girl or two He even swore that he had once been in love Certainly the last person in town he thought hed fall for was Jamie Sullivan the daughter of the towns Baptist minister A quiet girl who always carried a Bible with her schoolbooks Jamie seemed content living in a world apart from the other teens She took care of her widowed father rescued hurt animals and helped out at the local orphanage No boy had ever asked her out Landon would never have dreamed of it Then a twist of fate made Jamie his partner for the homecoming dance and Landon Carters life would never be the same Being with Jamie would show him the depths of the human heart and lead him to a decision so stunning it would send him irrevocably on the road to manhood No other author today touches our emotions more deeply than Nicholas Sparks|\n",
      "|735    |Bridge to Terabithia                                   |190      |Kindle Edition       |1977-10-21  |Fiction, Young Adult, Classics, Fantasy, Childrens, Middle Grade, Realistic Fiction|4.05  |Katherine Paterson |No description available                                                                                                                                                                                                                                                                                                                                                                                                                                                                                                                                                                                                                                                                                                                                                                                                                                                                                                                                                                                                                                                                                                                                                                                                                         |\n",
      "|879    |Midnight Sun [2008 Draft]                              |264      |ebook                |2008-08-28  |Young Adult, Fantasy, Vampires, Romance, Paranormal, Fiction, Paranormal Romance   |4.01  |Stephenie Meyer    |No description available                                                                                                                                                                                                                                                                                                                                                                                                                                                                                                                                                                                                                                                                                                                                                                                                                                                                                                                                                                                                                                                                                                                                                                                                                         |\n",
      "|691    |How the Grinch Stole Christmas!                        |64       |Hardcover            |1957-10-12  |Childrens, Picture Books, Christmas, Classics, Fiction, Poetry, Fantasy            |4.38  |Dr. Seuss          |For 53 years the Grinch has lived in a cave on the side of a mountain looming above the Whos in Whoville The noisy holiday preparations and infernal singing of the happy little citizens below annoy him to no end The Grinch decides this frivolous merriment must stop His                                                                                                                                                                                                                                                                                                                                                                                                                                                                                                                                                                                                                                                                                                                                                                                                                                                                                                                                                                    |\n",
      "|633    |The Very Hungry Caterpillar                            |26       |Board book           |1969-06-03  |Picture Books, Childrens, Fiction, Animals, Classics, Food, Counting               |4.33  |Eric Carle         |THE alltime classic story from generation to generation sold somewhere in the world every 30 seconds Have you shared it with a child or grandchild in your life                                                                                                                                                                                                                                                                                                                                                                                                                                                                                                                                                                                                                                                                                                                                                                                                                                                                                                                                                                                                                                                                                  |\n",
      "|681    |Normal People                                          |273      |Hardcover            |2018-08-28  |Fiction, Contemporary, Literary Fiction, Audiobook, Ireland, Adult, Coming Of Age  |3.81  |Sally Rooney       |At school Connell and Marianne pretend not to know each other Hes popular and welladjusted star of the school soccer team while she is lonely proud and intensely private But when Connell comes to pick his mother up from her housekeeping job at Mariannes house a strange and indelible connection grows between the two teenagers  one they are determined to conceal                                                                                                                                                                                                                                                                                                                                                                                                                                                                                                                                                                                                                                                                                                                                                                                                                                                                       |\n",
      "|957    |Ethan Frome                                            |99       |Paperback            |1911-01-01  |Classics, Fiction, Romance, Literature, School, Historical Fiction, American       |3.45  |Edith Wharton      |The classic novel of despair forbidden emotions and sexual undercurrents set against the austere New England countryside                                                                                                                                                                                                                                                                                                                                                                                                                                                                                                                                                                                                                                                                                                                                                                                                                                                                                                                                                                                                                                                                                                                         |\n",
      "|123    |A Room of One’s Own                                    |112      |Paperback            |1929-10-24  |Classics, Nonfiction, Feminism, Essays, Philosophy, Writing, Literature            |4.21  |Virginia Woolf     | is an extended essay by Virginia Woolf First published on the 24th of October 1929 the essay was based on a series of lectures she delivered at Newnham College and Girton College two womens colleges at Cambridge University in October 1928 While this extended essay in fact employs a fictional narrator and narrative to explore women both as writers and characters in fiction the manuscript for the delivery of the series of lectures titled Women and Fiction and hence the essay are considered nonfiction The essay is seen as a feminist text and is noted in its argument for both a literal and figural space for women writers within a literary tradition dominated by patriarchy                                                                                                                                                                                                                                                                                                                                                                                                                                                                                                                                            |\n",
      "|414    |The Adventures of Sherlock Holmes (Sherlock Holmes, #3)|389      |Paperback            |1892-10-14  |Mystery, Fiction, Short Stories, Crime, Classics, Audiobook, Mystery Thriller      |4.3   |Arthur Conan Doyle | is the series of short stories that made the fortunes of the Strand magazine in which they were first published and won immense popularity for Sherlock Holmes and Dr Watson The detective is at the height of his powers and the volume is full of famous cases including The RedHeaded League The Blue Carbuncle and The Speckled Band                                                                                                                                                                                                                                                                                                                                                                                                                                                                                                                                                                                                                                                                                                                                                                                                                                                                                                        |\n",
      "+-------+-------------------------------------------------------+---------+---------------------+------------+-----------------------------------------------------------------------------------+------+-------------------+-------------------------------------------------------------------------------------------------------------------------------------------------------------------------------------------------------------------------------------------------------------------------------------------------------------------------------------------------------------------------------------------------------------------------------------------------------------------------------------------------------------------------------------------------------------------------------------------------------------------------------------------------------------------------------------------------------------------------------------------------------------------------------------------------------------------------------------------------------------------------------------------------------------------------------------------------------------------------------------------------------------------------------------------------------------------------------------------------------------------------------------------------------------------------------------------------------------------------------------------------+\n",
      "only showing top 20 rows\n",
      "\n"
     ]
    }
   ],
   "source": [
    "from pyspark.sql import functions as F\n",
    "from pyspark.sql.functions import monotonically_increasing_id, col, regexp_replace\n",
    "# Tạo bảng Books\n",
    "\n",
    "books_df = df.select(\"Title\", \"Pages\", \"Cover Type\", \"publish_date\", \"Genres\", \"Rating\", \"Author\", \"Description\") \\\n",
    "    .withColumnRenamed(\"Title\", \"book_title\") \\\n",
    "    .withColumnRenamed(\"Pages\", \"num_pages\") \\\n",
    "    .withColumnRenamed(\"Cover Type\", \"cover_type\") \\\n",
    "    .withColumnRenamed(\"Description\", \"description\") \\\n",
    "    .withColumn(\"book_id\", monotonically_increasing_id()) \\\n",
    "    .select(\"book_id\", \"book_title\", \"num_pages\", \"cover_type\", \"publish_date\", \"Genres\", \"Rating\", \"Author\", \"description\") \\\n",
    "    .withColumn(\"description\", regexp_replace(col(\"description\"), '\"', '')) \\\n",
    "    .withColumn(\"description\", regexp_replace(col(\"description\"), '[^a-zA-Z0-9\\\\s]', '')) \\\n",
    "    .withColumn(\"description\", F.when(col(\"description\").isNull() | (F.trim(col(\"description\")) == \"\"), \"No description available\")\n",
    "                .when(col(\"description\").rlike(\"^[0-9]+$\"), \"No description available\")\n",
    "                .when(col(\"description\").rlike(\"^[\\\\s]+$\"), \"No description available\")\n",
    "                .when(col(\"description\").rlike(\"^[0-9]+[a-zA-Z]+|[a-zA-Z]+[0-9]+$\"), \"No description available\")\n",
    "                .otherwise(col(\"description\"))) \\\n",
    "    .dropDuplicates()\n",
    "#  Xóa dấu nháy kép và ký tự không hợp lệ trong Description\n",
    "books_df = books_df.withColumn(\"description\", regexp_replace(\n",
    "    col(\"description\"), '\"', ''))  # Xóa dấu nháy kép\n",
    "books_df = books_df.withColumn(\"description\", regexp_replace(\n",
    "    col(\"description\"), '[^a-zA-Z0-9\\\\s]', ''))  # Xóa ký tự không hợp lệ\n",
    "\n",
    "#  Xử lý trường hợp Description không hợp lệ\n",
    "books_df = books_df.withColumn(\"description\",\n",
    "                               F.when(col(\"description\").isNull() | (F.trim(col(\n",
    "                                   \"description\")) == \"\"), \"No description available\")  # Thay thế NaN và chuỗi rỗng\n",
    "                               # Thay thế chỉ số\n",
    "                               .when(col(\"description\").rlike(\"^[0-9]+$\"), \"No description available\")\n",
    "                               # Thay thế chuỗi chỉ có khoảng trắng\n",
    "                               .when(col(\"description\").rlike(\"^[\\\\s]+$\"), \"No description available\")\n",
    "                               # Thay thế chuỗi không hợp lệ\n",
    "                               .when(col(\"description\").rlike(\"^[0-9]+[a-zA-Z]+|[a-zA-Z]+[0-9]+$\"), \"No description available\")\n",
    "                               .otherwise(col(\"description\")))\n",
    "\n",
    "\n",
    "# Xóa dữ liệu trùng lặp\n",
    "books_df = books_df.dropDuplicates()\n",
    "\n",
    "# Hiển thị dữ liệu trong books_df sau khi xử lý\n",
    "books_df.show(truncate=False)"
   ]
  },
  {
   "cell_type": "code",
   "execution_count": 12,
   "metadata": {},
   "outputs": [],
   "source": [
    "#  Bảng authors\n",
    "\n",
    "authors_df = df.select(\"Author\").distinct() \\\n",
    "    .withColumnRenamed(\"Author\", \"author_name\") \\\n",
    "    .withColumn(\"author_id\", monotonically_increasing_id()) \\\n",
    "    .select(\"author_id\", \"author_name\")"
   ]
  },
  {
   "cell_type": "code",
   "execution_count": 13,
   "metadata": {},
   "outputs": [],
   "source": [
    "# Bảng genres\n",
    "\n",
    "genres_df = df.select(explode(split(col(\"Genres\"), \",\")).alias(\"genre_name\")).distinct() \\\n",
    "    .withColumn(\"genre_id\", monotonically_increasing_id()) \\\n",
    "    .select(\"genre_id\", \"genre_name\")"
   ]
  },
  {
   "cell_type": "code",
   "execution_count": 14,
   "metadata": {},
   "outputs": [
    {
     "name": "stdout",
     "output_type": "stream",
     "text": [
      "+-------+--------+\n",
      "|book_id|genre_id|\n",
      "+-------+--------+\n",
      "|879    |118     |\n",
      "|213    |192     |\n",
      "|74     |216     |\n",
      "|554    |68      |\n",
      "|163    |93      |\n",
      "|68     |93      |\n",
      "|61     |34      |\n",
      "|693    |97      |\n",
      "|693    |144     |\n",
      "|11     |97      |\n",
      "|122    |188     |\n",
      "|410    |114     |\n",
      "|682    |97      |\n",
      "|700    |187     |\n",
      "|573    |202     |\n",
      "|676    |290     |\n",
      "|553    |34      |\n",
      "|208    |34      |\n",
      "|119    |263     |\n",
      "|51     |18      |\n",
      "+-------+--------+\n",
      "only showing top 20 rows\n",
      "\n"
     ]
    }
   ],
   "source": [
    "from pyspark.sql.functions import explode, split\n",
    "\n",
    "# Tạo bảng book_genres từ books_df và genres_df\n",
    "book_genres_df = books_df \\\n",
    "    .select(\"book_id\", explode(split(col(\"Genres\"), \",\")).alias(\"genre_name\")) \\\n",
    "    .join(genres_df, \"genre_name\", \"inner\") \\\n",
    "    .select(\"book_id\", \"genre_id\") \\\n",
    "    .dropDuplicates()\n",
    "\n",
    "# Hiển thị bảng book_genres\n",
    "book_genres_df.show(truncate=False)"
   ]
  },
  {
   "cell_type": "code",
   "execution_count": 15,
   "metadata": {},
   "outputs": [
    {
     "name": "stdout",
     "output_type": "stream",
     "text": [
      "+---------+-------------------------------------------------------------------------+------+-----------+-----------+-------+\n",
      "|rating_id|book_title                                                               |rating|num_ratings|num_reviews|score  |\n",
      "+---------+-------------------------------------------------------------------------+------+-----------+-----------+-------+\n",
      "|0        |The Roommate                                                             |3.9   |7757       |610        |14560  |\n",
      "|1        |The Knife of Never Letting Go (Chaos Walking, #1)                        |3.97  |197877     |21196      |15768  |\n",
      "|2        |Man’s Search for Meaning                                                 |4.37  |762458     |42196      |68249  |\n",
      "|3        |The Lightning Thief (Percy Jackson and the Olympians, #1)                |4.31  |3166598    |108831     |1118664|\n",
      "|4        |Little House in the Big Woods (Little House, #1)                         |4.21  |275012     |8238       |17399  |\n",
      "|5        |Franny and Zooey                                                         |3.96  |228325     |11425      |37741  |\n",
      "|6        |The Art of Racing in the Rain                                            |4.23  |532237     |45094      |38100  |\n",
      "|7        |I Am Number Four (Lorien Legacies, #1)                                   |3.93  |345688     |17131      |16436  |\n",
      "|8        |Divine Secrets of the Ya-Ya Sisterhood                                   |3.86  |561562     |4889       |21985  |\n",
      "|9        |Charlotte’s Web                                                          |4.2   |1906633    |24912      |795765 |\n",
      "|10       |City of Bones (The Mortal Instruments, #1)                               |4.07  |2054455    |77961      |843049 |\n",
      "|11       |The da Vinci Code (Robert Langdon, #2)                                   |3.92  |2407498    |56303      |995769 |\n",
      "|12       |To All the Boys I've Loved Before (To All the Boys I've Loved Before, #1)|4.04  |949209     |51343      |14639  |\n",
      "|13       |A Dog's Purpose (A Dog's Purpose, #1)                                    |4.35  |135448     |14867      |15161  |\n",
      "|14       |Big Little Lies                                                          |4.31  |1043029    |56547      |16583  |\n",
      "|15       |Uglies (Uglies, #1)                                                      |3.85  |682939     |28048      |59630  |\n",
      "|16       |The Name of the Rose                                                     |4.14  |374687     |13781      |146934 |\n",
      "|17       |Empire of Storms (Throne of Glass, #5)                                   |4.63  |855191     |70164      |17645  |\n",
      "|18       |Lover Eternal (Black Dagger Brotherhood, #2)                             |4.32  |195908     |7833       |14638  |\n",
      "|19       |A Brief History of Time                                                  |4.21  |447102     |13037      |14890  |\n",
      "+---------+-------------------------------------------------------------------------+------+-----------+-----------+-------+\n",
      "only showing top 20 rows\n",
      "\n"
     ]
    }
   ],
   "source": [
    "# Bảng ratings\n",
    "from pyspark.sql.functions import monotonically_increasing_id\n",
    "\n",
    "ratings_df = df.select(\"Title\", \"Rating\", \"Number of Ratings\", \"Reviews\", \"Score\") \\\n",
    "    .withColumnRenamed(\"Title\", \"book_title\") \\\n",
    "    .withColumnRenamed(\"Rating\", \"rating\") \\\n",
    "    .withColumnRenamed(\"Number of Ratings\", \"num_ratings\") \\\n",
    "    .withColumnRenamed(\"Reviews\", \"num_reviews\") \\\n",
    "    .withColumnRenamed(\"Score\", \"score\") \\\n",
    "    .withColumn(\"rating_id\", monotonically_increasing_id()) \\\n",
    "    .select(\"rating_id\", \"book_title\", \"rating\", \"num_ratings\", \"num_reviews\", \"score\")\n",
    "\n",
    "ratings_df.show(truncate=False)"
   ]
  },
  {
   "cell_type": "code",
   "execution_count": 16,
   "metadata": {},
   "outputs": [
    {
     "name": "stdout",
     "output_type": "stream",
     "text": [
      "+---------+-------+-------+-------+\n",
      "|review_id|book_id|Reviews|Score  |\n",
      "+---------+-------+-------+-------+\n",
      "|0        |0      |610    |14560  |\n",
      "|1        |1      |21196  |15768  |\n",
      "|2        |2      |42196  |68249  |\n",
      "|3        |3      |108831 |1118664|\n",
      "|4        |4      |8238   |17399  |\n",
      "|5        |5      |11425  |37741  |\n",
      "|6        |6      |45094  |38100  |\n",
      "|7        |7      |17131  |16436  |\n",
      "|8        |8      |4889   |21985  |\n",
      "|9        |9      |24912  |795765 |\n",
      "|10       |10     |77961  |843049 |\n",
      "|11       |11     |56303  |995769 |\n",
      "|12       |12     |51343  |14639  |\n",
      "|13       |13     |14867  |15161  |\n",
      "|14       |14     |56547  |16583  |\n",
      "|15       |15     |28048  |59630  |\n",
      "|16       |16     |13781  |146934 |\n",
      "|17       |17     |70164  |17645  |\n",
      "|18       |18     |7833   |14638  |\n",
      "|19       |19     |13037  |14890  |\n",
      "+---------+-------+-------+-------+\n",
      "only showing top 20 rows\n",
      "\n"
     ]
    }
   ],
   "source": [
    "#  Bảng reviews\n",
    "\n",
    "from pyspark.sql import functions as F\n",
    "from pyspark.sql.functions import monotonically_increasing_id\n",
    "\n",
    "reviews_df = (\n",
    "    df.select(\"Title\", \"Reviews\", \"Score\")\n",
    "      .withColumnRenamed(\"Title\", \"book_title\")\n",
    "      .join(books_df, \"book_title\", \"inner\")\n",
    "      .withColumn(\"review_id\", monotonically_increasing_id())\n",
    "      .select(\"review_id\", \"book_id\", \"Reviews\", \"Score\")\n",
    ")\n",
    "reviews_df.show(truncate=False)"
   ]
  },
  {
   "cell_type": "markdown",
   "metadata": {},
   "source": [
    "#### Tạo kết nối bảng với nhau"
   ]
  },
  {
   "cell_type": "code",
   "execution_count": 17,
   "metadata": {},
   "outputs": [
    {
     "name": "stdout",
     "output_type": "stream",
     "text": [
      "+-------+-------------------------------------------------------+---------+---------------------+------------+-----------------------------------------------------------------------------------+------+-------------------+-------------------------------------------------------------------------------------------------------------------------------------------------------------------------------------------------------------------------------------------------------------------------------------------------------------------------------------------------------------------------------------------------------------------------------------------------------------------------------------------------------------------------------------------------------------------------------------------------------------------------------------------------------------------------------------------------------------------------------------------------------------------------------------------------------------------------------------------------------------------------------------------------------------------------------------------------------------------------------------------------------------------------------------------------------------------------------------------------------------------------------------------------------------------------------------------------------------------------------------------------+---------+------+-----------+-----------+------+\n",
      "|book_id|book_title                                             |num_pages|cover_type           |publish_date|Genres                                                                             |Rating|Author             |description                                                                                                                                                                                                                                                                                                                                                                                                                                                                                                                                                                                                                                                                                                                                                                                                                                                                                                                                                                                                                                                                                                                                                                                                                                      |rating_id|rating|num_ratings|num_reviews|score |\n",
      "+-------+-------------------------------------------------------+---------+---------------------+------------+-----------------------------------------------------------------------------------+------+-------------------+-------------------------------------------------------------------------------------------------------------------------------------------------------------------------------------------------------------------------------------------------------------------------------------------------------------------------------------------------------------------------------------------------------------------------------------------------------------------------------------------------------------------------------------------------------------------------------------------------------------------------------------------------------------------------------------------------------------------------------------------------------------------------------------------------------------------------------------------------------------------------------------------------------------------------------------------------------------------------------------------------------------------------------------------------------------------------------------------------------------------------------------------------------------------------------------------------------------------------------------------------+---------+------+-----------+-----------+------+\n",
      "|226    |The Girl Who Was Taken                                 |449      |Kindle Edition       |2017-04-25  |Thriller, Mystery, Fiction, Mystery Thriller, Suspense, Audiobook, Crime           |4.2   |Charlie Donlea     |Two abducted girlsone who returns one who doesnt                                                                                                                                                                                                                                                                                                                                                                                                                                                                                                                                                                                                                                                                                                                                                                                                                                                                                                                                                                                                                                                                                                                                                                                                 |226      |4.2   |108074     |7518       |13922 |\n",
      "|416    |The House in the Cerulean Sea (Cerulean Chronicles, #1)|394      |Kindle Edition       |2020-03-16  |Fantasy, Fiction, LGBT, Romance, Audiobook, Queer, Young Adult                     |4.39  |T.J. Klune         |A magical island A dangerous task A burning secret                                                                                                                                                                                                                                                                                                                                                                                                                                                                                                                                                                                                                                                                                                                                                                                                                                                                                                                                                                                                                                                                                                                                                                                               |416      |4.39  |731610     |115022     |12508 |\n",
      "|577    |The Golden Compass (His Dark Materials, #1)            |399      |Hardcover            |1995-07-01  |Fantasy, Young Adult, Fiction, Childrens, Adventure, Middle Grade, Audiobook       |4.03  |Philip Pullman     |Lyra is rushing to the cold far North where witch clans and armored bears rule North where the Gobblers take the children they stealincluding her friend Roger North where her fearsome uncle Asriel is trying to build a bridge to a parallel world                                                                                                                                                                                                                                                                                                                                                                                                                                                                                                                                                                                                                                                                                                                                                                                                                                                                                                                                                                                             |577      |4.03  |1557344    |28615      |317911|\n",
      "|649    |Steppenwolf                                            |256      |Paperback            |1927-01-01  |Fiction, Classics, Philosophy, German Literature, Literature, Novels, Germany      |4.13  |Hermann Hesse      | is a poetical selfportrait of a man who felt himself to be halfhuman and halfwolf This Faustlike and magical story is evidence of Hesses searching philosophy and extraordinary sense of humanity as he tells of the humanization of a middleaged misanthrope Yet his novel can also be seen as a plea for rigorous selfexamination and an indictment of the intellectual hypocrisy of the period As Hesse himself remarked Of all my books                                                                                                                                                                                                                                                                                                                                                                                                                                                                                                                                                                                                                                                                                                                                                                                                     |649      |4.13  |194511     |8890       |32779 |\n",
      "|664    |Pet Sematary                                           |580      |Kindle Edition       |1983-11-14  |Horror, Fiction, Thriller, Fantasy, Audiobook, Paranormal, Adult                   |4.07  |Stephen        King|No description available                                                                                                                                                                                                                                                                                                                                                                                                                                                                                                                                                                                                                                                                                                                                                                                                                                                                                                                                                                                                                                                                                                                                                                                                                         |664      |4.07  |627864     |27194      |25680 |\n",
      "|886    |Death of a Salesman                                    |144      |Hardcover            |1949-01-01  |Classics, Plays, Fiction, Drama, School, Theatre, Literature                       |3.58  |Arthur Miller      |Willy Loman has been a salesman for 34 years At 60 he is cast aside his usefulness now exhausted With no future to dream about he must face the crushing disappointments of his past He takes one final brave action but is he heroic at last or a selfdeluding fool                                                                                                                                                                                                                                                                                                                                                                                                                                                                                                                                                                                                                                                                                                                                                                                                                                                                                                                                                                             |886      |3.58  |242486     |8460       |27339 |\n",
      "|931    |Graceling (Graceling Realm, #1)                        |471      |Hardcover            |2008-10-01  |Fantasy, Young Adult, Romance, Fiction, Young Adult Fantasy, Adventure, Magic      |4.07  |Kristin Cashore    |Katsa has been able to kill a man with her bare hands since she was eightshes a Graceling one of the rare people in her land born with an extreme skill As niece of the king she should be able to live a life of privilege but Graced as she is with killing she is forced to work as the kings thug                                                                                                                                                                                                                                                                                                                                                                                                                                                                                                                                                                                                                                                                                                                                                                                                                                                                                                                                            |931      |4.07  |469503     |27631      |45329 |\n",
      "|35     |Ask for Andrea                                         |272      |Kindle Edition       |2022-04-15  |Thriller, Horror, Mystery Thriller, Mystery, Fiction, Paranormal, Suspense         |4.1   |Noelle W. Ihli     |James Carson has gotten away with murder three times                                                                                                                                                                                                                                                                                                                                                                                                                                                                                                                                                                                                                                                                                                                                                                                                                                                                                                                                                                                                                                                                                                                                                                                             |35       |4.1   |126236     |10942      |15016 |\n",
      "|210    |Before I Go to Sleep                                   |359      |Hardcover            |2011-10-01  |Thriller, Fiction, Mystery, Mystery Thriller, Suspense, Crime, Contemporary        |3.9   |S.J. Watson        |Memories define us                                                                                                                                                                                                                                                                                                                                                                                                                                                                                                                                                                                                                                                                                                                                                                                                                                                                                                                                                                                                                                                                                                                                                                                                                               |210      |3.9   |347356     |25529      |16990 |\n",
      "|223    |Definitely Dead (Sookie Stackhouse, #6)                |324      |Mass Market Paperback|2006-04-17  |Fantasy, Vampires, Paranormal, Urban Fantasy, Romance, Fiction, Mystery            |4.01  |Charlaine Harris   |Since Louisiana cocktail waitress Sookie Stackhouse has so few living relatives she hates to lose one  even her cousin Hadley undead consort of the vampire Queen of Louisiana Hadleys left everything she has to Sookie but claiming that inheritance has a high risk factor Some people dont want her looking too deeply into Hadleys past                                                                                                                                                                                                                                                                                                                                                                                                                                                                                                                                                                                                                                                                                                                                                                                                                                                                                                     |223      |4.01  |207496     |4498       |8914  |\n",
      "|549    |زندگی مه آلود پریا                                     |204      |ebook                |2013-01-02  |Fiction                                                                            |3.33  |سید مرتضی مصطفوی   |Mystical story                                                                                                                                                                                                                                                                                                                                                                                                                                                                                                                                                                                                                                                                                                                                                                                                                                                                                                                                                                                                                                                                                                                                                                                                                                   |549      |3.33  |1027       |122        |30907 |\n",
      "|673    |A Walk to Remember                                     |215      |Kindle Edition       |1999-10-01  |Romance, Fiction, Contemporary, Young Adult, Chick Lit, Adult, Contemporary Romance|4.2   |Nicholas Sparks    |There was a time when the world was sweeterwhen the women in Beaufort North Carolina wore dresses and the men donned hatswhen something happened to a seventeenyearold boy that would change his life forever Every April when the wind blows in from the sea and mingles with the scent of lilacs Landon Carter remembers his last year at Beaufort High It was 1958 and Landon had already dated a girl or two He even swore that he had once been in love Certainly the last person in town he thought hed fall for was Jamie Sullivan the daughter of the towns Baptist minister A quiet girl who always carried a Bible with her schoolbooks Jamie seemed content living in a world apart from the other teens She took care of her widowed father rescued hurt animals and helped out at the local orphanage No boy had ever asked her out Landon would never have dreamed of it Then a twist of fate made Jamie his partner for the homecoming dance and Landon Carters life would never be the same Being with Jamie would show him the depths of the human heart and lead him to a decision so stunning it would send him irrevocably on the road to manhood No other author today touches our emotions more deeply than Nicholas Sparks|673      |4.2   |821171     |17385      |112956|\n",
      "|735    |Bridge to Terabithia                                   |190      |Kindle Edition       |1977-10-21  |Fiction, Young Adult, Classics, Fantasy, Childrens, Middle Grade, Realistic Fiction|4.05  |Katherine Paterson |No description available                                                                                                                                                                                                                                                                                                                                                                                                                                                                                                                                                                                                                                                                                                                                                                                                                                                                                                                                                                                                                                                                                                                                                                                                                         |735      |4.05  |561076     |17179      |96204 |\n",
      "|879    |Midnight Sun [2008 Draft]                              |264      |ebook                |2008-08-28  |Young Adult, Fantasy, Vampires, Romance, Paranormal, Fiction, Paranormal Romance   |4.01  |Stephenie Meyer    |No description available                                                                                                                                                                                                                                                                                                                                                                                                                                                                                                                                                                                                                                                                                                                                                                                                                                                                                                                                                                                                                                                                                                                                                                                                                         |879      |4.01  |148950     |9304       |49098 |\n",
      "|691    |How the Grinch Stole Christmas!                        |64       |Hardcover            |1957-10-12  |Childrens, Picture Books, Christmas, Classics, Fiction, Poetry, Fantasy            |4.38  |Dr. Seuss          |For 53 years the Grinch has lived in a cave on the side of a mountain looming above the Whos in Whoville The noisy holiday preparations and infernal singing of the happy little citizens below annoy him to no end The Grinch decides this frivolous merriment must stop His                                                                                                                                                                                                                                                                                                                                                                                                                                                                                                                                                                                                                                                                                                                                                                                                                                                                                                                                                                    |691      |4.38  |423872     |4760       |109770|\n",
      "|633    |The Very Hungry Caterpillar                            |26       |Board book           |1969-06-03  |Picture Books, Childrens, Fiction, Animals, Classics, Food, Counting               |4.33  |Eric Carle         |THE alltime classic story from generation to generation sold somewhere in the world every 30 seconds Have you shared it with a child or grandchild in your life                                                                                                                                                                                                                                                                                                                                                                                                                                                                                                                                                                                                                                                                                                                                                                                                                                                                                                                                                                                                                                                                                  |633      |4.33  |522284     |10872      |159784|\n",
      "|681    |Normal People                                          |273      |Hardcover            |2018-08-28  |Fiction, Contemporary, Literary Fiction, Audiobook, Ireland, Adult, Coming Of Age  |3.81  |Sally Rooney       |At school Connell and Marianne pretend not to know each other Hes popular and welladjusted star of the school soccer team while she is lonely proud and intensely private But when Connell comes to pick his mother up from her housekeeping job at Mariannes house a strange and indelible connection grows between the two teenagers  one they are determined to conceal                                                                                                                                                                                                                                                                                                                                                                                                                                                                                                                                                                                                                                                                                                                                                                                                                                                                       |681      |3.81  |1545151    |152974     |13876 |\n",
      "|957    |Ethan Frome                                            |99       |Paperback            |1911-01-01  |Classics, Fiction, Romance, Literature, School, Historical Fiction, American       |3.45  |Edith Wharton      |The classic novel of despair forbidden emotions and sexual undercurrents set against the austere New England countryside                                                                                                                                                                                                                                                                                                                                                                                                                                                                                                                                                                                                                                                                                                                                                                                                                                                                                                                                                                                                                                                                                                                         |957      |3.45  |130459     |7897       |9727  |\n",
      "|123    |A Room of One’s Own                                    |112      |Paperback            |1929-10-24  |Classics, Nonfiction, Feminism, Essays, Philosophy, Writing, Literature            |4.21  |Virginia Woolf     | is an extended essay by Virginia Woolf First published on the 24th of October 1929 the essay was based on a series of lectures she delivered at Newnham College and Girton College two womens colleges at Cambridge University in October 1928 While this extended essay in fact employs a fictional narrator and narrative to explore women both as writers and characters in fiction the manuscript for the delivery of the series of lectures titled Women and Fiction and hence the essay are considered nonfiction The essay is seen as a feminist text and is noted in its argument for both a literal and figural space for women writers within a literary tradition dominated by patriarchy                                                                                                                                                                                                                                                                                                                                                                                                                                                                                                                                            |123      |4.21  |223616     |19640      |9254  |\n",
      "|414    |The Adventures of Sherlock Holmes (Sherlock Holmes, #3)|389      |Paperback            |1892-10-14  |Mystery, Fiction, Short Stories, Crime, Classics, Audiobook, Mystery Thriller      |4.3   |Arthur Conan Doyle | is the series of short stories that made the fortunes of the Strand magazine in which they were first published and won immense popularity for Sherlock Holmes and Dr Watson The detective is at the height of his powers and the volume is full of famous cases including The RedHeaded League The Blue Carbuncle and The Speckled Band                                                                                                                                                                                                                                                                                                                                                                                                                                                                                                                                                                                                                                                                                                                                                                                                                                                                                                        |414      |4.3   |309943     |9917       |432488|\n",
      "+-------+-------------------------------------------------------+---------+---------------------+------------+-----------------------------------------------------------------------------------+------+-------------------+-------------------------------------------------------------------------------------------------------------------------------------------------------------------------------------------------------------------------------------------------------------------------------------------------------------------------------------------------------------------------------------------------------------------------------------------------------------------------------------------------------------------------------------------------------------------------------------------------------------------------------------------------------------------------------------------------------------------------------------------------------------------------------------------------------------------------------------------------------------------------------------------------------------------------------------------------------------------------------------------------------------------------------------------------------------------------------------------------------------------------------------------------------------------------------------------------------------------------------------------------+---------+------+-----------+-----------+------+\n",
      "only showing top 20 rows\n",
      "\n"
     ]
    }
   ],
   "source": [
    "# Giả sử books_df và ratings_df đã được chuẩn bị và có cột book_title\n",
    "books_with_ratings = books_df \\\n",
    "    .join(ratings_df, books_df.book_title == ratings_df.book_title, \"left\") \\\n",
    "    .select(\n",
    "        books_df[\"*\"],\n",
    "        ratings_df[\"rating_id\"],\n",
    "        ratings_df[\"rating\"],\n",
    "        ratings_df[\"num_ratings\"],\n",
    "        ratings_df[\"num_reviews\"],\n",
    "        ratings_df[\"score\"]\n",
    "    )\n",
    "\n",
    "# Hiển thị kết quả sau khi nối\n",
    "books_with_ratings.show(truncate=False)"
   ]
  },
  {
   "cell_type": "code",
   "execution_count": 18,
   "metadata": {},
   "outputs": [
    {
     "name": "stdout",
     "output_type": "stream",
     "text": [
      "+-------+------------------------------------------------------------+---------+--------------+------------+------+------------------+-----------------------------------------------------------------------------------------------------------------------------------------------------------------------------------------------------------------------------------------------------------------------------------------------------------------------------------------------------------------------------------------------------------------------------------------------------------------------------------------------------------------------------------------------------------------------------------------------------------------------------------------------------------------------------------------------------------------------------------------------------------------------------------------------------------------------------------------------------------------------------------------------------------------------------------------------------------------------------------------------------------------------------------+-------------------+\n",
      "|book_id|book_title                                                  |num_pages|cover_type    |publish_date|Rating|Author            |description                                                                                                                                                                                                                                                                                                                                                                                                                                                                                                                                                                                                                                                                                                                                                                                                                                                                                                                                                                                                                        |genre_name         |\n",
      "+-------+------------------------------------------------------------+---------+--------------+------------+------+------------------+-----------------------------------------------------------------------------------------------------------------------------------------------------------------------------------------------------------------------------------------------------------------------------------------------------------------------------------------------------------------------------------------------------------------------------------------------------------------------------------------------------------------------------------------------------------------------------------------------------------------------------------------------------------------------------------------------------------------------------------------------------------------------------------------------------------------------------------------------------------------------------------------------------------------------------------------------------------------------------------------------------------------------------------+-------------------+\n",
      "|879    |Midnight Sun [2008 Draft]                                   |264      |ebook         |2008-08-28  |4.01  |Stephenie Meyer   |No description available                                                                                                                                                                                                                                                                                                                                                                                                                                                                                                                                                                                                                                                                                                                                                                                                                                                                                                                                                                                                           |Young Adult        |\n",
      "|213    |If on a Winter’s Night a Traveler                           |260      |Paperback     |1979-06-02  |4.03  |Italo Calvino     | is a marvel of ingenuity an experimental text that looks longingly back to the great age of narrationwhen time no longer seemed stopped and did not yet seem to have exploded Italo Calvinos novel is in one sense a comedy in which the two protagonists the Reader and the Other Reader ultimately end up married having almost finished                                                                                                                                                                                                                                                                                                                                                                                                                                                                                                                                                                                                                                                                                        | Italy             |\n",
      "|74     |The Iron King (The Iron Fey, #1)                            |363      |Paperback     |2010-01-19  |3.88  |Julie Kagawa      |Something has always felt slightly off in Meghans life ever since her father disappeared before her eyes when she was six She has never quite fit in at school or at home                                                                                                                                                                                                                                                                                                                                                                                                                                                                                                                                                                                                                                                                                                                                                                                                                                                          | Paranormal        |\n",
      "|554    |Travels with Charley: In Search of America                  |214      |Paperback     |1961-01-01  |4.08  |John Steinbeck    |To hear the speech of the real America to smell the grass and the trees to see the colors and the lightthese were John Steinbecks goals as he set out at the age of fiftyeight to rediscover the country he had been writing about for so many years                                                                                                                                                                                                                                                                                                                                                                                                                                                                                                                                                                                                                                                                                                                                                                               | Classics          |\n",
      "|163    |Beautiful Disaster (Beautiful, #1)                          |432      |Kindle Edition|2011-05-26  |4.0   |Jamie McGuire     |The new Abby Abernathy is a good girl She doesnt drink or swear and she has the appropriate number of cardigans in her wardrobe Abby believes she has enough distance from the darkness of her past but when she arrives at college with her best friend her path to a new beginning is quickly challenged by Eastern Universitys Walking OneNight Stand                                                                                                                                                                                                                                                                                                                                                                                                                                                                                                                                                                                                                                                                           | Young Adult       |\n",
      "|68     |Crooked Kingdom (Six of Crows, #2)                          |561      |Kindle Edition|2016-09-27  |4.59  |Leigh Bardugo     |Welcome to the world of the Grisha                                                                                                                                                                                                                                                                                                                                                                                                                                                                                                                                                                                                                                                                                                                                                                                                                                                                                                                                                                                                 | Young Adult       |\n",
      "|61     |The Awakening (Darkest Powers, #2)                          |360      |Hardcover     |2009-04-28  |4.14  |Kelley Armstrong  |If you had met me a few weeks ago you probably would have described me as an average teenage girl  someone normal Now my life has changed forever and Im as far away from normal as it gets A living science experiment  not only can I see ghosts but I was genetically altered by a sinister organization called Edison Group What does that mean For starters Im a teenage necromancer whose powers are out of control I raise the dead without even trying Trust me that is not a power you want to have Ever                                                                                                                                                                                                                                                                                                                                                                                                                                                                                                                  | Romance           |\n",
      "|693    |The Odyssey                                                 |541      |Paperback     |0701-01-01  |3.81  |Homer             |So begins Robert Fagles magnificent translation of the                                                                                                                                                                                                                                                                                                                                                                                                                                                                                                                                                                                                                                                                                                                                                                                                                                                                                                                                                                             |Fiction            |\n",
      "|693    |The Odyssey                                                 |541      |Paperback     |0701-01-01  |3.81  |Homer             |So begins Robert Fagles magnificent translation of the                                                                                                                                                                                                                                                                                                                                                                                                                                                                                                                                                                                                                                                                                                                                                                                                                                                                                                                                                                             | Literature        |\n",
      "|11     |The da Vinci Code (Robert Langdon, #2)                      |489      |Paperback     |2003-01-01  |3.92  |Dan       Brown   |Alternate covers for 9780307277671 can be found                                                                                                                                                                                                                                                                                                                                                                                                                                                                                                                                                                                                                                                                                                                                                                                                                                                                                                                                                                                    |Fiction            |\n",
      "|122    |Harry Potter and the Order of the Phoenix (Harry Potter, #5)|912      |Paperback     |2003-06-21  |4.5   |J.K. Rowling      |Harry Potter is about to start his fifth year at Hogwarts School of Witchcraft and Wizardry Unlike most schoolboys Harry never enjoys his summer holidays but this summer is even worse than usual The Dursleys of course are making his life a misery but even his best friends Ron and Hermione seem to be neglecting him                                                                                                                                                                                                                                                                                                                                                                                                                                                                                                                                                                                                                                                                                                        | Childrens         |\n",
      "|410    |I'll Give You the Sun                                       |371      |Hardcover     |2014-09-16  |4.16  |Jandy Nelson      |At first Jude and her twin brother Noah are inseparable Noah draws constantly and is falling in love with the charismatic boy next door while daredevil Jude wears redred lipstick cliffdives and does all the talking for both of them                                                                                                                                                                                                                                                                                                                                                                                                                                                                                                                                                                                                                                                                                                                                                                                            | LGBT              |\n",
      "|682    |Gravity’s Rainbow                                           |776      |Paperback     |1973-02-28  |4.01  |Thomas Pynchon    |Winner of the 1973 National Book Award Gravitys Rainbow is a postmodern epic a work as exhaustively significant to the second half of the 20th century as Joyces Ulysses was to the first Its sprawling encyclopedic narrative and penetrating analysis of the impact of technology on society make it an intellectual tour de force                                                                                                                                                                                                                                                                                                                                                                                                                                                                                                                                                                                                                                                                                               |Fiction            |\n",
      "|700    |The Voyage of the Dawn Treader (Chronicles of Narnia, #3)   |248      |Hardcover     |1952-09-15  |4.09  |C.S. Lewis        |NARNIA the world of wicked dragons and magic spells where the very best is brought out of even the worst people where anything can happen and most often does and where the adventure begins                                                                                                                                                                                                                                                                                                                                                                                                                                                                                                                                                                                                                                                                                                                                                                                                                                       | Middle Grade      |\n",
      "|573    |Jane Eyre                                                   |532      |Paperback     |1847-10-16  |4.15  |Charlotte Brontë  |No description available                                                                                                                                                                                                                                                                                                                                                                                                                                                                                                                                                                                                                                                                                                                                                                                                                                                                                                                                                                                                           | School            |\n",
      "|676    |1Q84 (1Q84, #1-3)                                           |944      |Hardcover     |2009-08-28  |3.95  |Haruki Murakami   |A young woman named Aomame follows a taxi drivers enigmatic suggestion and begins to notice puzzling discrepancies in the world around her She has entered she realizes a parallel existence which she calls 1Q84 Q is for question mark A world that bears a question Meanwhile an aspiring writer named Tengo takes on a suspect ghostwriting project He becomes so wrapped up with the work and its unusual author that soon his previously placid life begins to come unraveled                                                                                                                                                                                                                                                                                                                                                                                                                                                                                                                                                | Science Fiction   |\n",
      "|553    |Carry On (Simon Snow, #1)                                   |522      |Paperback     |2015-10-06  |4.17  |Rainbow Rowell    |Simon Snow is the worst Chosen One whos ever been chosen                                                                                                                                                                                                                                                                                                                                                                                                                                                                                                                                                                                                                                                                                                                                                                                                                                                                                                                                                                           | Romance           |\n",
      "|208    |Corelli’s Mandolin                                          |437      |Paperback     |1994-01-01  |4.02  |Louis de Bernières| is set in the early days of the second world war before Benito Mussolini invaded Greece Dr Iannis practices medicine on the island of Cephalonia accompanied by his daughter Pelagia to whom he imparts much of his healing art Even when the Italians do invade life isnt so badat first anyway The officer in command of the Italian garrison is the cultured Captain Antonio Corelli who responds to a Nazi greeting of Heil Hitler with his own Heil Puccini and whose most precious possession is his mandolin It isnt long before Corelli and Pelagia are involved in a heated affairdespite her engagement to a young fisherman Mandras who has gone off to join Greek partisans Love is complicated enough in wartime even when the lovers are on the same side And for Corelli and Pelagia it becomes increasingly difficult to negotiate the minefield of allegiances both personal and political as all around them atrocities mount former friends become enemies and the ugliness of war infects everyone it touches | Romance           |\n",
      "|119    |Sense and Sensibility                                       |409      |Paperback     |1811-10-30  |4.09  |Jane Austen       |Marianne Dashwood wears her heart on her sleeve and when she falls in love with the dashing but unsuitable John Willoughby she ignores her sister Elinors warning that her impulsive behaviour leaves her open to gossip and innuendo Meanwhile Elinor always sensitive to social convention is struggling to conceal her own romantic disappointment even from those closest to her Through their parallel experience of loveand its threatened lossthe sisters learn that sense must mix with sensibility if they are to find personal happiness in a society where status and money govern the rules of love                                                                                                                                                                                                                                                                                                                                                                                                                    | Classic Literature|\n",
      "|51     |The Sea of Tranquility                                      |449      |Kindle Edition|2012-09-05  |4.29  |Katja Millay      |Former piano prodigy Nastya Kashnikov wants two things to get through high school without anyone learning about her past and to make the boy who took everything from herher identity her spirit her will to livepay                                                                                                                                                                                                                                                                                                                                                                                                                                                                                                                                                                                                                                                                                                                                                                                                               | New Adult         |\n",
      "+-------+------------------------------------------------------------+---------+--------------+------------+------+------------------+-----------------------------------------------------------------------------------------------------------------------------------------------------------------------------------------------------------------------------------------------------------------------------------------------------------------------------------------------------------------------------------------------------------------------------------------------------------------------------------------------------------------------------------------------------------------------------------------------------------------------------------------------------------------------------------------------------------------------------------------------------------------------------------------------------------------------------------------------------------------------------------------------------------------------------------------------------------------------------------------------------------------------------------+-------------------+\n",
      "only showing top 20 rows\n",
      "\n"
     ]
    }
   ],
   "source": [
    "# Nối ba bảng: books, genres, và book_genres\n",
    "final_df = books_df \\\n",
    "    .join(book_genres_df, \"book_id\", \"inner\") \\\n",
    "    .join(genres_df, \"genre_id\", \"inner\") \\\n",
    "    .select(\"book_id\", \"book_title\", \"num_pages\", \"cover_type\", \"publish_date\",\n",
    "            \"Rating\", \"Author\", \"description\", \"genre_name\")\n",
    "\n",
    "# Hiển thị kết quả cuối cùng\n",
    "final_df.show(truncate=False)"
   ]
  },
  {
   "cell_type": "code",
   "execution_count": 19,
   "metadata": {},
   "outputs": [
    {
     "name": "stdout",
     "output_type": "stream",
     "text": [
      "+-------+---------+\n",
      "|book_id|rating_id|\n",
      "+-------+---------+\n",
      "|26     |0        |\n",
      "|32     |1        |\n",
      "|849    |2        |\n",
      "|113    |3        |\n",
      "|346    |4        |\n",
      "|659    |5        |\n",
      "|593    |6        |\n",
      "|626    |7        |\n",
      "|835    |8        |\n",
      "|558    |9        |\n",
      "|192    |10       |\n",
      "|214    |11       |\n",
      "|942    |12       |\n",
      "|318    |13       |\n",
      "|893    |14       |\n",
      "|415    |15       |\n",
      "|856    |16       |\n",
      "|512    |17       |\n",
      "|65     |18       |\n",
      "|962    |19       |\n",
      "+-------+---------+\n",
      "only showing top 20 rows\n",
      "\n"
     ]
    }
   ],
   "source": [
    "# Tạo khóa chính cho bảng books_df (giả định rằng chưa có book_id)\n",
    "from pyspark.sql.functions import monotonically_increasing_id\n",
    "\n",
    "books_df = books_df.withColumn(\"book_id\", monotonically_increasing_id())\n",
    "ratings_df = ratings_df.select(\"book_title\", \"rating\", \"num_ratings\", \"num_reviews\", \"score\") \\\n",
    "    .withColumn(\"rating_id\", monotonically_increasing_id()) \\\n",
    "    .select(\"rating_id\", \"book_title\", \"rating\", \"num_ratings\", \"num_reviews\", \"score\")\n",
    "books_ratings_df = books_df \\\n",
    "    .join(ratings_df, books_df.book_title == ratings_df.book_title, \"inner\") \\\n",
    "    .select(books_df[\"book_id\"], ratings_df[\"rating_id\"])\n",
    "books_ratings_df.show(truncate=False)"
   ]
  },
  {
   "cell_type": "code",
   "execution_count": 20,
   "metadata": {},
   "outputs": [
    {
     "name": "stdout",
     "output_type": "stream",
     "text": [
      "+-------+-------------------------------------------------------------------------+---------+---------------------+------------+-----------------------------------------------------------------------------------------+------+--------------------+--------------------------------------------------------------------------------------------------------------------------------------------------------------------------------------------------------------------------------------------------------------------------------------------------------------------------------------------------------------------------------------------------------------------------------------------------------------------------------------------------------------------------------------------------------------------------------------------------------------------------------------------------------------------------------------------------------------------------------------------------------------------------------------------------------------------------------------------------------+---------+\n",
      "|book_id|book_title                                                               |num_pages|cover_type           |publish_date|Genres                                                                                   |Rating|Author              |description                                                                                                                                                                                                                                                                                                                                                                                                                                                                                                                                                                                                                                                                                                                                                                                                                                             |rating_id|\n",
      "+-------+-------------------------------------------------------------------------+---------+---------------------+------------+-----------------------------------------------------------------------------------------+------+--------------------+--------------------------------------------------------------------------------------------------------------------------------------------------------------------------------------------------------------------------------------------------------------------------------------------------------------------------------------------------------------------------------------------------------------------------------------------------------------------------------------------------------------------------------------------------------------------------------------------------------------------------------------------------------------------------------------------------------------------------------------------------------------------------------------------------------------------------------------------------------+---------+\n",
      "|26     |The Roommate                                                             |275      |Kindle Edition       |2021-02-24  |Thriller, Psychological Thriller, Fiction, Mystery, Adventure, Mystery Thriller, Suspense|3.9   |Kiersten Modglin    |He thought his life couldnt get any worse                                                                                                                                                                                                                                                                                                                                                                                                                                                                                                                                                                                                                                                                                                                                                                                                               |0        |\n",
      "|32     |The Knife of Never Letting Go (Chaos Walking, #1)                        |528      |Paperback            |2008-05-05  |Young Adult, Dystopia, Science Fiction, Fantasy, Fiction, Adventure, Audiobook           |3.97  |Patrick Ness        |Todd Hewitt is the only boy in a town of men Ever since the settlers were infected with the Noise germ Todd can hear everything the men think and they hear everything he thinks Todd is just a month away from becoming a man but in the midst of the cacophony he knows that the town is hiding something from him  something so awful Todd is forced to flee with only his dog whose simple loyal voice he hears too With hostile men from the town in pursuit the two stumble upon a strange and eerily silent creature a girl Who is she Why wasnt she killed by the germ like all the females on New World Propelled by Todds gritty narration readers are in for a whiteknuckle journey in which a boy on the cusp of manhood must unlearn everything he knows in order to figure out who he truly is                                            |1        |\n",
      "|849    |Man’s Search for Meaning                                                 |165      |Paperback            |1946-01-01  |Nonfiction, Psychology, Philosophy, Self Help, Memoir, Biography, Audiobook              |4.37  |Viktor E. Frankl    |Psychiatrist Viktor Frankls memoir has riveted generations of readers with its descriptions of life in Nazi death camps and its lessons for spiritual survival Based on his own experience and the stories of his patients Frankl argues that we cannot avoid suffering but we can choose how to cope with it find meaning in it and move forward with renewed purpose At the heart of his theory known as logotherapy is a conviction that the primary human drive is not pleasure but the pursuit of what we find meaningful                                                                                                                                                                                                                                                                                                                          |2        |\n",
      "|113    |The Lightning Thief (Percy Jackson and the Olympians, #1)                |377      |Paperback            |2005-07-28  |Fantasy, Young Adult, Mythology, Fiction, Middle Grade, Adventure, Greek Mythology       |4.31  |Rick Riordan        |Percy Jackson is a good kid but he cant seem to focus on his schoolwork or control his temper And lately being away at boarding school is only getting worse  Percy could have sworn his prealgebra teacher turned into a monster and tried to kill him When Percys mom finds out she knows its time that he knew the truth about where he came from and that he go to the one place hell be safe She sends Percy to Camp Half Blood a summer camp for demigods on Long Island where he learns that the father he never knew is Poseidon God of the Sea Soon a mystery unfolds and together with his friendsone a satyr and the other the demigod daughter of Athena  Percy sets out on a quest across the United States to reach the gates of the Underworld located in a recording studio in Hollywood and prevent a catastrophic war between the gods|3        |\n",
      "|346    |Little House in the Big Woods (Little House, #1)                         |224      |Paperback            |1932-01-01  |Classics, Historical Fiction, Childrens, Fiction, Young Adult, Historical, Middle Grade  |4.21  |Laura Ingalls Wilder|Based on the reallife adventures of Laura Ingalls Wilder Little House in the Big Woods is the first book in the awardwinning Little House series which has captivated generations of readers This edition features the classic blackandwhite artwork from Garth Williams                                                                                                                                                                                                                                                                                                                                                                                                                                                                                                                                                                                |4        |\n",
      "|659    |Franny and Zooey                                                         |201      |Paperback            |1957-01-01  |Fiction, Short Stories, Literature, Classics, American, Novels, Literary Fiction         |3.96  |J.D. Salinger       |First published in                                                                                                                                                                                                                                                                                                                                                                                                                                                                                                                                                                                                                                                                                                                                                                                                                                      |5        |\n",
      "|593    |The Art of Racing in the Rain                                            |336      |Hardcover            |2008-05-13  |Fiction, Animals, Dogs, Audiobook, Adult Fiction, Adult, Contemporary                    |4.23  |Garth Stein         |Enzo knows he is different from other dogs a philosopher with a nearly human soul and an obsession with opposable thumbs he has educated himself by watching television extensively and by listening very closely to the words of his master Denny Swift an upandcoming race car driver                                                                                                                                                                                                                                                                                                                                                                                                                                                                                                                                                                 |6        |\n",
      "|626    |I Am Number Four (Lorien Legacies, #1)                                   |440      |Hardcover            |2010-08-03  |Young Adult, Fantasy, Science Fiction, Fiction, Aliens, Romance, Paranormal              |3.93  |Pittacus Lore       |Nine of us came here We look like you We talk like you We live among you But we are not you We can do things you dream of doing We have powers you dream of having We are stronger and faster than anything you have ever seen We are the superheroes you worship in movies and comic booksbut we are real                                                                                                                                                                                                                                                                                                                                                                                                                                                                                                                                              |7        |\n",
      "|835    |Divine Secrets of the Ya-Ya Sisterhood                                   |383      |Paperback            |1996-05-22  |Fiction, Chick Lit, Contemporary, Adult Fiction, Historical Fiction, Southern, Adult     |3.86  |Rebecca Wells       |When Siddalee Walker oldest daughter of Vivi Abbott Walker YaYa extraordinaire is interviewed in the New York Times about a hit play shes directed her mother gets described as a tapdancing child abuser Enraged Vivi disowns Sidda Devastated Sidda begs forgiveness and postpones her upcoming wedding All looks bleak until the YaYas step in and convince Vivi to send Sidda a scrapbook of their girlhood mementos called Divine Secrets of the YaYa Sisterhood As Sidda struggles to analyze her mother she comes face to face with the tangled beauty of imperfect love and the fact that forgiveness more than understanding is often what the heart longs for                                                                                                                                                                                 |8        |\n",
      "|558    |Charlotte’s Web                                                          |184      |Paperback            |1952-10-15  |Fiction, Childrens, Classics, Fantasy, Young Adult, Middle Grade, Animals                |4.2   |E.B. White          |This beloved book by E B White author of                                                                                                                                                                                                                                                                                                                                                                                                                                                                                                                                                                                                                                                                                                                                                                                                                |9        |\n",
      "|192    |City of Bones (The Mortal Instruments, #1)                               |485      |Hardcover            |2007-03-27  |Fantasy, Young Adult, Romance, Paranormal, Urban Fantasy, Fiction, Vampires              |4.07  |Cassandra Clare     |When fifteenyearold Clary Fray heads out to the Pandemonium Club in New York City she hardly expects to witness a murder much less a murder committed by three teenagers covered with strange tattoos and brandishing bizarre weapons Then the body disappears into thin air Its hard to call the police when the murderers are invisible to everyone else and when there is nothingnot even a smear of bloodto show that a boy has died Or was he a boy                                                                                                                                                                                                                                                                                                                                                                                                |10       |\n",
      "|214    |The da Vinci Code (Robert Langdon, #2)                                   |489      |Paperback            |2003-01-01  |Fiction, Mystery, Thriller, Mystery Thriller, Historical Fiction, Suspense, Adventure    |3.92  |Dan       Brown     |Alternate covers for 9780307277671 can be found                                                                                                                                                                                                                                                                                                                                                                                                                                                                                                                                                                                                                                                                                                                                                                                                         |11       |\n",
      "|942    |To All the Boys I've Loved Before (To All the Boys I've Loved Before, #1)|355      |Paperback            |2014-04-15  |Romance, Contemporary, Young Adult, Fiction, Audiobook, Chick Lit, Realistic Fiction     |4.04  |Jenny Han           |To All the Boys Ive Loved Before is the story of Lara Jean who has never openly admitted her crushes but instead wrote each boy a letter about how she felt sealed it and hid it in a box under her bed                                                                                                                                                                                                                                                                                                                                                                                                                                                                                                                                                                                                                                                 |12       |\n",
      "|318    |A Dog's Purpose (A Dog's Purpose, #1)                                    |319      |Hardcover            |2010-07-01  |Fiction, Animals, Dogs, Contemporary, Audiobook, Fantasy, Adult                          |4.35  |W. Bruce Cameron    |This is the remarkable story of one endearing dogs search for his purpose over the course of several lives More than just another charming dog story this touches on the universal quest for an answer to lifes most basic question Why are we here                                                                                                                                                                                                                                                                                                                                                                                                                                                                                                                                                                                                     |13       |\n",
      "|893    |Big Little Lies                                                          |460      |Paperback            |2014-12-25  |Fiction, Mystery, Contemporary, Thriller, Chick Lit, Audiobook, Mystery Thriller         |4.31  |Liane Moriarty      |A murderA tragic accidentOr just parents behaving badly Whats indisputable is that someone is dead                                                                                                                                                                                                                                                                                                                                                                                                                                                                                                                                                                                                                                                                                                                                                      |14       |\n",
      "|415    |Uglies (Uglies, #1)                                                      |425      |Paperback            |2005-02-08  |Young Adult, Dystopia, Science Fiction, Fiction, Fantasy, Romance, Teen                  |3.85  |Scott Westerfeld    |Tally is about to turn sixteen and she cant wait In just a few weeks shell have the operation that will turn her from a repellent ugly into a stunning pretty And as a pretty shell be catapulted into a hightech paradise where her only job is to have fun                                                                                                                                                                                                                                                                                                                                                                                                                                                                                                                                                                                            |15       |\n",
      "|856    |The Name of the Rose                                                     |552      |Paperback            |1980-09-01  |Fiction, Historical Fiction, Mystery, Historical, Literature, Italy, Crime               |4.14  |Umberto Eco         |The year is 1327 Franciscans in a wealthy Italian abbey are suspected of heresy and Brother William of Baskerville arrives to investigate When his delicate mission is suddenly overshadowed by seven bizarre deaths Brother William turns to the logic of Aristotle the theology of Aquinas and the empirical insights of Roger Bacon to find the killer He collects evidence deciphers secret symbols and coded manuscripts and digs into the eerie labyrinth of the abbey where the most interesting things happen at night armed with a wry sense of humor and a ferocious curiosity                                                                                                                                                                                                                                                                |16       |\n",
      "|512    |Empire of Storms (Throne of Glass, #5)                                   |689      |Hardcover            |2016-09-06  |Fantasy, Young Adult, Romance, Fae, New Adult, Fiction, Magic                            |4.63  |Sarah J. Maas       |The long path to the throne has only just begun for Aelin Galathynius as war looms on the horizon Loyalties have been broken and bought friends have been lost and gained and those who possess magic find themselves at odds with those who dont                                                                                                                                                                                                                                                                                                                                                                                                                                                                                                                                                                                                       |17       |\n",
      "|65     |Lover Eternal (Black Dagger Brotherhood, #2)                             |441      |Mass Market Paperback|2006-03-07  |Romance, Paranormal, Vampires, Paranormal Romance, Fantasy, Urban Fantasy, Adult         |4.32  |J.R. Ward           |In the shadows of the night in Caldwell New York theres a deadly war raging between vampires and their slayers And there exists a secret band of brothers like no other  six vampire warriors defenders of their race Possessed by a deadly beast Rhage is the most dangerous of the Black Dagger Brotherhood                                                                                                                                                                                                                                                                                                                                                                                                                                                                                                                                           |18       |\n",
      "|962    |A Brief History of Time                                                  |226      |Paperback            |1988-09-01  |Science, Nonfiction, Physics, History, Classics, Astronomy, Philosophy                   |4.21  |Stephen Hawking     |A landmark volume in science writing by one of the great minds of our time Stephen Hawkings book explores such profound questions as How did the universe beginand what made its start possible Does time always flow forward Is the universe unendingor are there boundaries Are there other dimensions in space What will happen when it all ends                                                                                                                                                                                                                                                                                                                                                                                                                                                                                                     |19       |\n",
      "+-------+-------------------------------------------------------------------------+---------+---------------------+------------+-----------------------------------------------------------------------------------------+------+--------------------+--------------------------------------------------------------------------------------------------------------------------------------------------------------------------------------------------------------------------------------------------------------------------------------------------------------------------------------------------------------------------------------------------------------------------------------------------------------------------------------------------------------------------------------------------------------------------------------------------------------------------------------------------------------------------------------------------------------------------------------------------------------------------------------------------------------------------------------------------------+---------+\n",
      "only showing top 20 rows\n",
      "\n"
     ]
    }
   ],
   "source": [
    "# Nối bảng books_ratings_df với books_df qua book_id\n",
    "books_ratings_with_details_df = books_ratings_df \\\n",
    "    .join(books_df, \"book_id\", \"inner\") \\\n",
    "    .select(books_ratings_df[\"book_id\"],\n",
    "            books_df[\"book_title\"],\n",
    "            books_df[\"num_pages\"],\n",
    "            books_df[\"cover_type\"],\n",
    "            books_df[\"publish_date\"],\n",
    "            books_df[\"Genres\"],\n",
    "            books_df[\"Rating\"],\n",
    "            books_df[\"Author\"],\n",
    "            books_df[\"description\"],\n",
    "            books_ratings_df[\"rating_id\"])\n",
    "\n",
    "# Hiển thị kết quả\n",
    "books_ratings_with_details_df.show(truncate=False)"
   ]
  },
  {
   "cell_type": "code",
   "execution_count": 21,
   "metadata": {},
   "outputs": [
    {
     "name": "stdout",
     "output_type": "stream",
     "text": [
      "+---------+-------+-------+-------+\n",
      "|review_id|book_id|Reviews|Score  |\n",
      "+---------+-------+-------+-------+\n",
      "|0        |26     |610    |14560  |\n",
      "|1        |32     |21196  |15768  |\n",
      "|2        |849    |42196  |68249  |\n",
      "|3        |113    |108831 |1118664|\n",
      "|4        |346    |8238   |17399  |\n",
      "|5        |659    |11425  |37741  |\n",
      "|6        |593    |45094  |38100  |\n",
      "|7        |626    |17131  |16436  |\n",
      "|8        |835    |4889   |21985  |\n",
      "|9        |558    |24912  |795765 |\n",
      "|10       |192    |77961  |843049 |\n",
      "|11       |214    |56303  |995769 |\n",
      "|12       |942    |51343  |14639  |\n",
      "|13       |318    |14867  |15161  |\n",
      "|14       |893    |56547  |16583  |\n",
      "|15       |415    |28048  |59630  |\n",
      "|16       |856    |13781  |146934 |\n",
      "|17       |512    |70164  |17645  |\n",
      "|18       |65     |7833   |14638  |\n",
      "|19       |962    |13037  |14890  |\n",
      "+---------+-------+-------+-------+\n",
      "only showing top 20 rows\n",
      "\n"
     ]
    }
   ],
   "source": [
    "from pyspark.sql import functions as F\n",
    "from pyspark.sql.functions import monotonically_increasing_id\n",
    "\n",
    "# Tạo cột book_id cho bảng df thông qua book_title\n",
    "reviews_df = (\n",
    "    df.select(\"Title\", \"Reviews\", \"Score\")\n",
    "      .withColumnRenamed(\"Title\", \"book_title\")  # Đổi tên cột cho phù hợp\n",
    "    # Nối với books_df qua cột book_title\n",
    "      .join(books_df, \"book_title\", \"inner\")\n",
    "    # Tạo review_id duy nhất\n",
    "      .withColumn(\"review_id\", monotonically_increasing_id())\n",
    "    # Chọn các cột cần thiết\n",
    "      .select(\"review_id\", \"book_id\", \"Reviews\", \"Score\")\n",
    ")\n",
    "\n",
    "# Hiển thị kết quả\n",
    "reviews_df.show(truncate=False)"
   ]
  },
  {
   "cell_type": "code",
   "execution_count": 22,
   "metadata": {},
   "outputs": [],
   "source": [
    "from pyspark.sql import functions as F\n",
    "\n",
    "# Kết nối bảng books với authors theo tên tác giả (author_name)\n",
    "books_with_authors = books_df.join(authors_df, books_df.Author == authors_df.author_name, \"left\") \\\n",
    "    .select(books_df[\"*\"], authors_df[\"author_id\"])\n",
    "\n",
    "# Đổi tên cột Genres thành book_genres\n",
    "books_with_authors = books_with_authors.withColumnRenamed(\n",
    "    \"Genres\", \"book_genres\")\n",
    "\n",
    "# Tách cột book_genres thành các giá trị riêng biệt và nối với bảng genres\n",
    "books_with_authors = books_with_authors \\\n",
    "    .withColumn(\"book_genres\", F.explode(F.split(F.col(\"book_genres\"), \",\"))) \\\n",
    "    .join(genres_df, F.col(\"book_genres\") == genres_df.genre_name, \"left\") \\\n",
    "    .select(\n",
    "        \"book_id\",\n",
    "        \"book_title\",\n",
    "        \"author_id\",\n",
    "        \"num_pages\",\n",
    "        \"cover_type\",\n",
    "        \"publish_date\",\n",
    "        \"description\",\n",
    "        genres_df[\"genre_id\"]\n",
    "    )\n",
    "\n",
    "# Nhóm lại theo book_id, book_title, author_id và các cột khác\n",
    "books_final = books_with_authors \\\n",
    "    .groupBy(\"book_id\", \"book_title\", \"author_id\", \"num_pages\", \"cover_type\", \"publish_date\", \"description\") \\\n",
    "    .agg(F.collect_list(\"genre_id\").alias(\"genre_ids\"))\n",
    "\n",
    "# Định dạng lại cột publish_date theo kiểu dd-MM-yyyy\n",
    "books_final = books_final.withColumn(\n",
    "    \"publish_date\", F.date_format(F.col(\"publish_date\"), \"dd-MM-yyyy\")\n",
    ")"
   ]
  },
  {
   "cell_type": "code",
   "execution_count": 23,
   "metadata": {},
   "outputs": [
    {
     "name": "stdout",
     "output_type": "stream",
     "text": [
      "+-------+-------------------------------------------------------------------------+---------+---------------------+------------+-----------------------------------------------------------------------------------------+------+--------------------+--------------------------------------------------------------------------------------------------------------------------------------------------------------------------------------------------------------------------------------------------------------------------------------------------------------------------------------------------------------------------------------------------------------------------------------------------------------------------------------------------------------------------------------------------------------------------------------------------------------------------------------------------------------------------------------------------------------------------------------------------------------------------------------------------------------------------------------------------------+---------+------+-----------+-----------+-------+\n",
      "|book_id|book_title                                                               |num_pages|cover_type           |publish_date|Genres                                                                                   |Rating|Author              |description                                                                                                                                                                                                                                                                                                                                                                                                                                                                                                                                                                                                                                                                                                                                                                                                                                             |rating_id|rating|num_ratings|num_reviews|score  |\n",
      "+-------+-------------------------------------------------------------------------+---------+---------------------+------------+-----------------------------------------------------------------------------------------+------+--------------------+--------------------------------------------------------------------------------------------------------------------------------------------------------------------------------------------------------------------------------------------------------------------------------------------------------------------------------------------------------------------------------------------------------------------------------------------------------------------------------------------------------------------------------------------------------------------------------------------------------------------------------------------------------------------------------------------------------------------------------------------------------------------------------------------------------------------------------------------------------+---------+------+-----------+-----------+-------+\n",
      "|26     |The Roommate                                                             |275      |Kindle Edition       |2021-02-24  |Thriller, Psychological Thriller, Fiction, Mystery, Adventure, Mystery Thriller, Suspense|3.9   |Kiersten Modglin    |He thought his life couldnt get any worse                                                                                                                                                                                                                                                                                                                                                                                                                                                                                                                                                                                                                                                                                                                                                                                                               |0        |3.9   |7757       |610        |14560  |\n",
      "|32     |The Knife of Never Letting Go (Chaos Walking, #1)                        |528      |Paperback            |2008-05-05  |Young Adult, Dystopia, Science Fiction, Fantasy, Fiction, Adventure, Audiobook           |3.97  |Patrick Ness        |Todd Hewitt is the only boy in a town of men Ever since the settlers were infected with the Noise germ Todd can hear everything the men think and they hear everything he thinks Todd is just a month away from becoming a man but in the midst of the cacophony he knows that the town is hiding something from him  something so awful Todd is forced to flee with only his dog whose simple loyal voice he hears too With hostile men from the town in pursuit the two stumble upon a strange and eerily silent creature a girl Who is she Why wasnt she killed by the germ like all the females on New World Propelled by Todds gritty narration readers are in for a whiteknuckle journey in which a boy on the cusp of manhood must unlearn everything he knows in order to figure out who he truly is                                            |1        |3.97  |197877     |21196      |15768  |\n",
      "|849    |Man’s Search for Meaning                                                 |165      |Paperback            |1946-01-01  |Nonfiction, Psychology, Philosophy, Self Help, Memoir, Biography, Audiobook              |4.37  |Viktor E. Frankl    |Psychiatrist Viktor Frankls memoir has riveted generations of readers with its descriptions of life in Nazi death camps and its lessons for spiritual survival Based on his own experience and the stories of his patients Frankl argues that we cannot avoid suffering but we can choose how to cope with it find meaning in it and move forward with renewed purpose At the heart of his theory known as logotherapy is a conviction that the primary human drive is not pleasure but the pursuit of what we find meaningful                                                                                                                                                                                                                                                                                                                          |2        |4.37  |762458     |42196      |68249  |\n",
      "|113    |The Lightning Thief (Percy Jackson and the Olympians, #1)                |377      |Paperback            |2005-07-28  |Fantasy, Young Adult, Mythology, Fiction, Middle Grade, Adventure, Greek Mythology       |4.31  |Rick Riordan        |Percy Jackson is a good kid but he cant seem to focus on his schoolwork or control his temper And lately being away at boarding school is only getting worse  Percy could have sworn his prealgebra teacher turned into a monster and tried to kill him When Percys mom finds out she knows its time that he knew the truth about where he came from and that he go to the one place hell be safe She sends Percy to Camp Half Blood a summer camp for demigods on Long Island where he learns that the father he never knew is Poseidon God of the Sea Soon a mystery unfolds and together with his friendsone a satyr and the other the demigod daughter of Athena  Percy sets out on a quest across the United States to reach the gates of the Underworld located in a recording studio in Hollywood and prevent a catastrophic war between the gods|3        |4.31  |3166598    |108831     |1118664|\n",
      "|346    |Little House in the Big Woods (Little House, #1)                         |224      |Paperback            |1932-01-01  |Classics, Historical Fiction, Childrens, Fiction, Young Adult, Historical, Middle Grade  |4.21  |Laura Ingalls Wilder|Based on the reallife adventures of Laura Ingalls Wilder Little House in the Big Woods is the first book in the awardwinning Little House series which has captivated generations of readers This edition features the classic blackandwhite artwork from Garth Williams                                                                                                                                                                                                                                                                                                                                                                                                                                                                                                                                                                                |4        |4.21  |275012     |8238       |17399  |\n",
      "|659    |Franny and Zooey                                                         |201      |Paperback            |1957-01-01  |Fiction, Short Stories, Literature, Classics, American, Novels, Literary Fiction         |3.96  |J.D. Salinger       |First published in                                                                                                                                                                                                                                                                                                                                                                                                                                                                                                                                                                                                                                                                                                                                                                                                                                      |5        |3.96  |228325     |11425      |37741  |\n",
      "|593    |The Art of Racing in the Rain                                            |336      |Hardcover            |2008-05-13  |Fiction, Animals, Dogs, Audiobook, Adult Fiction, Adult, Contemporary                    |4.23  |Garth Stein         |Enzo knows he is different from other dogs a philosopher with a nearly human soul and an obsession with opposable thumbs he has educated himself by watching television extensively and by listening very closely to the words of his master Denny Swift an upandcoming race car driver                                                                                                                                                                                                                                                                                                                                                                                                                                                                                                                                                                 |6        |4.23  |532237     |45094      |38100  |\n",
      "|626    |I Am Number Four (Lorien Legacies, #1)                                   |440      |Hardcover            |2010-08-03  |Young Adult, Fantasy, Science Fiction, Fiction, Aliens, Romance, Paranormal              |3.93  |Pittacus Lore       |Nine of us came here We look like you We talk like you We live among you But we are not you We can do things you dream of doing We have powers you dream of having We are stronger and faster than anything you have ever seen We are the superheroes you worship in movies and comic booksbut we are real                                                                                                                                                                                                                                                                                                                                                                                                                                                                                                                                              |7        |3.93  |345688     |17131      |16436  |\n",
      "|835    |Divine Secrets of the Ya-Ya Sisterhood                                   |383      |Paperback            |1996-05-22  |Fiction, Chick Lit, Contemporary, Adult Fiction, Historical Fiction, Southern, Adult     |3.86  |Rebecca Wells       |When Siddalee Walker oldest daughter of Vivi Abbott Walker YaYa extraordinaire is interviewed in the New York Times about a hit play shes directed her mother gets described as a tapdancing child abuser Enraged Vivi disowns Sidda Devastated Sidda begs forgiveness and postpones her upcoming wedding All looks bleak until the YaYas step in and convince Vivi to send Sidda a scrapbook of their girlhood mementos called Divine Secrets of the YaYa Sisterhood As Sidda struggles to analyze her mother she comes face to face with the tangled beauty of imperfect love and the fact that forgiveness more than understanding is often what the heart longs for                                                                                                                                                                                 |8        |3.86  |561562     |4889       |21985  |\n",
      "|558    |Charlotte’s Web                                                          |184      |Paperback            |1952-10-15  |Fiction, Childrens, Classics, Fantasy, Young Adult, Middle Grade, Animals                |4.2   |E.B. White          |This beloved book by E B White author of                                                                                                                                                                                                                                                                                                                                                                                                                                                                                                                                                                                                                                                                                                                                                                                                                |9        |4.2   |1906633    |24912      |795765 |\n",
      "|192    |City of Bones (The Mortal Instruments, #1)                               |485      |Hardcover            |2007-03-27  |Fantasy, Young Adult, Romance, Paranormal, Urban Fantasy, Fiction, Vampires              |4.07  |Cassandra Clare     |When fifteenyearold Clary Fray heads out to the Pandemonium Club in New York City she hardly expects to witness a murder much less a murder committed by three teenagers covered with strange tattoos and brandishing bizarre weapons Then the body disappears into thin air Its hard to call the police when the murderers are invisible to everyone else and when there is nothingnot even a smear of bloodto show that a boy has died Or was he a boy                                                                                                                                                                                                                                                                                                                                                                                                |10       |4.07  |2054455    |77961      |843049 |\n",
      "|214    |The da Vinci Code (Robert Langdon, #2)                                   |489      |Paperback            |2003-01-01  |Fiction, Mystery, Thriller, Mystery Thriller, Historical Fiction, Suspense, Adventure    |3.92  |Dan       Brown     |Alternate covers for 9780307277671 can be found                                                                                                                                                                                                                                                                                                                                                                                                                                                                                                                                                                                                                                                                                                                                                                                                         |11       |3.92  |2407498    |56303      |995769 |\n",
      "|942    |To All the Boys I've Loved Before (To All the Boys I've Loved Before, #1)|355      |Paperback            |2014-04-15  |Romance, Contemporary, Young Adult, Fiction, Audiobook, Chick Lit, Realistic Fiction     |4.04  |Jenny Han           |To All the Boys Ive Loved Before is the story of Lara Jean who has never openly admitted her crushes but instead wrote each boy a letter about how she felt sealed it and hid it in a box under her bed                                                                                                                                                                                                                                                                                                                                                                                                                                                                                                                                                                                                                                                 |12       |4.04  |949209     |51343      |14639  |\n",
      "|318    |A Dog's Purpose (A Dog's Purpose, #1)                                    |319      |Hardcover            |2010-07-01  |Fiction, Animals, Dogs, Contemporary, Audiobook, Fantasy, Adult                          |4.35  |W. Bruce Cameron    |This is the remarkable story of one endearing dogs search for his purpose over the course of several lives More than just another charming dog story this touches on the universal quest for an answer to lifes most basic question Why are we here                                                                                                                                                                                                                                                                                                                                                                                                                                                                                                                                                                                                     |13       |4.35  |135448     |14867      |15161  |\n",
      "|893    |Big Little Lies                                                          |460      |Paperback            |2014-12-25  |Fiction, Mystery, Contemporary, Thriller, Chick Lit, Audiobook, Mystery Thriller         |4.31  |Liane Moriarty      |A murderA tragic accidentOr just parents behaving badly Whats indisputable is that someone is dead                                                                                                                                                                                                                                                                                                                                                                                                                                                                                                                                                                                                                                                                                                                                                      |14       |4.31  |1043029    |56547      |16583  |\n",
      "|415    |Uglies (Uglies, #1)                                                      |425      |Paperback            |2005-02-08  |Young Adult, Dystopia, Science Fiction, Fiction, Fantasy, Romance, Teen                  |3.85  |Scott Westerfeld    |Tally is about to turn sixteen and she cant wait In just a few weeks shell have the operation that will turn her from a repellent ugly into a stunning pretty And as a pretty shell be catapulted into a hightech paradise where her only job is to have fun                                                                                                                                                                                                                                                                                                                                                                                                                                                                                                                                                                                            |15       |3.85  |682939     |28048      |59630  |\n",
      "|856    |The Name of the Rose                                                     |552      |Paperback            |1980-09-01  |Fiction, Historical Fiction, Mystery, Historical, Literature, Italy, Crime               |4.14  |Umberto Eco         |The year is 1327 Franciscans in a wealthy Italian abbey are suspected of heresy and Brother William of Baskerville arrives to investigate When his delicate mission is suddenly overshadowed by seven bizarre deaths Brother William turns to the logic of Aristotle the theology of Aquinas and the empirical insights of Roger Bacon to find the killer He collects evidence deciphers secret symbols and coded manuscripts and digs into the eerie labyrinth of the abbey where the most interesting things happen at night armed with a wry sense of humor and a ferocious curiosity                                                                                                                                                                                                                                                                |16       |4.14  |374687     |13781      |146934 |\n",
      "|512    |Empire of Storms (Throne of Glass, #5)                                   |689      |Hardcover            |2016-09-06  |Fantasy, Young Adult, Romance, Fae, New Adult, Fiction, Magic                            |4.63  |Sarah J. Maas       |The long path to the throne has only just begun for Aelin Galathynius as war looms on the horizon Loyalties have been broken and bought friends have been lost and gained and those who possess magic find themselves at odds with those who dont                                                                                                                                                                                                                                                                                                                                                                                                                                                                                                                                                                                                       |17       |4.63  |855191     |70164      |17645  |\n",
      "|65     |Lover Eternal (Black Dagger Brotherhood, #2)                             |441      |Mass Market Paperback|2006-03-07  |Romance, Paranormal, Vampires, Paranormal Romance, Fantasy, Urban Fantasy, Adult         |4.32  |J.R. Ward           |In the shadows of the night in Caldwell New York theres a deadly war raging between vampires and their slayers And there exists a secret band of brothers like no other  six vampire warriors defenders of their race Possessed by a deadly beast Rhage is the most dangerous of the Black Dagger Brotherhood                                                                                                                                                                                                                                                                                                                                                                                                                                                                                                                                           |18       |4.32  |195908     |7833       |14638  |\n",
      "|962    |A Brief History of Time                                                  |226      |Paperback            |1988-09-01  |Science, Nonfiction, Physics, History, Classics, Astronomy, Philosophy                   |4.21  |Stephen Hawking     |A landmark volume in science writing by one of the great minds of our time Stephen Hawkings book explores such profound questions as How did the universe beginand what made its start possible Does time always flow forward Is the universe unendingor are there boundaries Are there other dimensions in space What will happen when it all ends                                                                                                                                                                                                                                                                                                                                                                                                                                                                                                     |19       |4.21  |447102     |13037      |14890  |\n",
      "+-------+-------------------------------------------------------------------------+---------+---------------------+------------+-----------------------------------------------------------------------------------------+------+--------------------+--------------------------------------------------------------------------------------------------------------------------------------------------------------------------------------------------------------------------------------------------------------------------------------------------------------------------------------------------------------------------------------------------------------------------------------------------------------------------------------------------------------------------------------------------------------------------------------------------------------------------------------------------------------------------------------------------------------------------------------------------------------------------------------------------------------------------------------------------------+---------+------+-----------+-----------+-------+\n",
      "only showing top 20 rows\n",
      "\n"
     ]
    }
   ],
   "source": [
    "from pyspark.sql.functions import monotonically_increasing_id\n",
    "\n",
    "# Chuẩn bị bảng ratings_df với các cột cần thiết và tạo rating_id\n",
    "ratings_df = df.select(\"Title\", \"Rating\", \"Number of Ratings\", \"Reviews\", \"Score\") \\\n",
    "    .withColumnRenamed(\"Title\", \"book_title\") \\\n",
    "    .withColumnRenamed(\"Rating\", \"rating\") \\\n",
    "    .withColumnRenamed(\"Number of Ratings\", \"num_ratings\") \\\n",
    "    .withColumnRenamed(\"Reviews\", \"num_reviews\") \\\n",
    "    .withColumnRenamed(\"Score\", \"score\") \\\n",
    "    .withColumn(\"rating_id\", monotonically_increasing_id())\n",
    "\n",
    "# Nối bảng ratings_df với books_df để lấy book_id và tạo bảng books_with_ratings\n",
    "books_with_ratings = ratings_df.join(books_df, ratings_df.book_title == books_df.book_title, \"left\") \\\n",
    "    .select(\n",
    "        books_df[\"*\"],\n",
    "        ratings_df[\"rating_id\"],\n",
    "        ratings_df[\"rating\"],\n",
    "        ratings_df[\"num_ratings\"],\n",
    "        ratings_df[\"num_reviews\"],\n",
    "        ratings_df[\"score\"]\n",
    ")\n",
    "\n",
    "# Hiển thị bảng books_with_ratings sau khi nối\n",
    "books_with_ratings.show(truncate=False)"
   ]
  },
  {
   "cell_type": "code",
   "execution_count": 24,
   "metadata": {},
   "outputs": [
    {
     "name": "stdout",
     "output_type": "stream",
     "text": [
      "+-------+-------------------------------------------------------+---------+---------------------+------------+-----------------------------------------------------------------------------------+------+-------------------+-------------------------------------------------------------------------------------------------------------------------------------------------------------------------------------------------------------------------------------------------------------------------------------------------------------------------------------------------------------------------------------------------------------------------------------------------------------------------------------------------------------------------------------------------------------------------------------------------------------------------------------------------------------------------------------------------------------------------------------------------------------------------------------------------------------------------------------------------------------------------------------------------------------------------------------------------------------------------------------------------------------------------------------------------------------------------------------------------------------------------------------------------------------------------------------------------------------------------------------------------+-------------------------------------------------------+------+-----------+-----------+------+---------+\n",
      "|book_id|book_title                                             |num_pages|cover_type           |publish_date|Genres                                                                             |Rating|Author             |description                                                                                                                                                                                                                                                                                                                                                                                                                                                                                                                                                                                                                                                                                                                                                                                                                                                                                                                                                                                                                                                                                                                                                                                                                                      |book_title                                             |rating|num_ratings|num_reviews|score |rating_id|\n",
      "+-------+-------------------------------------------------------+---------+---------------------+------------+-----------------------------------------------------------------------------------+------+-------------------+-------------------------------------------------------------------------------------------------------------------------------------------------------------------------------------------------------------------------------------------------------------------------------------------------------------------------------------------------------------------------------------------------------------------------------------------------------------------------------------------------------------------------------------------------------------------------------------------------------------------------------------------------------------------------------------------------------------------------------------------------------------------------------------------------------------------------------------------------------------------------------------------------------------------------------------------------------------------------------------------------------------------------------------------------------------------------------------------------------------------------------------------------------------------------------------------------------------------------------------------------+-------------------------------------------------------+------+-----------+-----------+------+---------+\n",
      "|0      |The Girl Who Was Taken                                 |449      |Kindle Edition       |2017-04-25  |Thriller, Mystery, Fiction, Mystery Thriller, Suspense, Audiobook, Crime           |4.2   |Charlie Donlea     |Two abducted girlsone who returns one who doesnt                                                                                                                                                                                                                                                                                                                                                                                                                                                                                                                                                                                                                                                                                                                                                                                                                                                                                                                                                                                                                                                                                                                                                                                                 |The Girl Who Was Taken                                 |4.2   |108074     |7518       |13922 |226      |\n",
      "|1      |The House in the Cerulean Sea (Cerulean Chronicles, #1)|394      |Kindle Edition       |2020-03-16  |Fantasy, Fiction, LGBT, Romance, Audiobook, Queer, Young Adult                     |4.39  |T.J. Klune         |A magical island A dangerous task A burning secret                                                                                                                                                                                                                                                                                                                                                                                                                                                                                                                                                                                                                                                                                                                                                                                                                                                                                                                                                                                                                                                                                                                                                                                               |The House in the Cerulean Sea (Cerulean Chronicles, #1)|4.39  |731610     |115022     |12508 |416      |\n",
      "|2      |The Golden Compass (His Dark Materials, #1)            |399      |Hardcover            |1995-07-01  |Fantasy, Young Adult, Fiction, Childrens, Adventure, Middle Grade, Audiobook       |4.03  |Philip Pullman     |Lyra is rushing to the cold far North where witch clans and armored bears rule North where the Gobblers take the children they stealincluding her friend Roger North where her fearsome uncle Asriel is trying to build a bridge to a parallel world                                                                                                                                                                                                                                                                                                                                                                                                                                                                                                                                                                                                                                                                                                                                                                                                                                                                                                                                                                                             |The Golden Compass (His Dark Materials, #1)            |4.03  |1557344    |28615      |317911|577      |\n",
      "|3      |Steppenwolf                                            |256      |Paperback            |1927-01-01  |Fiction, Classics, Philosophy, German Literature, Literature, Novels, Germany      |4.13  |Hermann Hesse      | is a poetical selfportrait of a man who felt himself to be halfhuman and halfwolf This Faustlike and magical story is evidence of Hesses searching philosophy and extraordinary sense of humanity as he tells of the humanization of a middleaged misanthrope Yet his novel can also be seen as a plea for rigorous selfexamination and an indictment of the intellectual hypocrisy of the period As Hesse himself remarked Of all my books                                                                                                                                                                                                                                                                                                                                                                                                                                                                                                                                                                                                                                                                                                                                                                                                     |Steppenwolf                                            |4.13  |194511     |8890       |32779 |649      |\n",
      "|4      |Pet Sematary                                           |580      |Kindle Edition       |1983-11-14  |Horror, Fiction, Thriller, Fantasy, Audiobook, Paranormal, Adult                   |4.07  |Stephen        King|No description available                                                                                                                                                                                                                                                                                                                                                                                                                                                                                                                                                                                                                                                                                                                                                                                                                                                                                                                                                                                                                                                                                                                                                                                                                         |Pet Sematary                                           |4.07  |627864     |27194      |25680 |664      |\n",
      "|5      |Death of a Salesman                                    |144      |Hardcover            |1949-01-01  |Classics, Plays, Fiction, Drama, School, Theatre, Literature                       |3.58  |Arthur Miller      |Willy Loman has been a salesman for 34 years At 60 he is cast aside his usefulness now exhausted With no future to dream about he must face the crushing disappointments of his past He takes one final brave action but is he heroic at last or a selfdeluding fool                                                                                                                                                                                                                                                                                                                                                                                                                                                                                                                                                                                                                                                                                                                                                                                                                                                                                                                                                                             |Death of a Salesman                                    |3.58  |242486     |8460       |27339 |886      |\n",
      "|6      |Graceling (Graceling Realm, #1)                        |471      |Hardcover            |2008-10-01  |Fantasy, Young Adult, Romance, Fiction, Young Adult Fantasy, Adventure, Magic      |4.07  |Kristin Cashore    |Katsa has been able to kill a man with her bare hands since she was eightshes a Graceling one of the rare people in her land born with an extreme skill As niece of the king she should be able to live a life of privilege but Graced as she is with killing she is forced to work as the kings thug                                                                                                                                                                                                                                                                                                                                                                                                                                                                                                                                                                                                                                                                                                                                                                                                                                                                                                                                            |Graceling (Graceling Realm, #1)                        |4.07  |469503     |27631      |45329 |931      |\n",
      "|7      |Ask for Andrea                                         |272      |Kindle Edition       |2022-04-15  |Thriller, Horror, Mystery Thriller, Mystery, Fiction, Paranormal, Suspense         |4.1   |Noelle W. Ihli     |James Carson has gotten away with murder three times                                                                                                                                                                                                                                                                                                                                                                                                                                                                                                                                                                                                                                                                                                                                                                                                                                                                                                                                                                                                                                                                                                                                                                                             |Ask for Andrea                                         |4.1   |126236     |10942      |15016 |35       |\n",
      "|8      |Before I Go to Sleep                                   |359      |Hardcover            |2011-10-01  |Thriller, Fiction, Mystery, Mystery Thriller, Suspense, Crime, Contemporary        |3.9   |S.J. Watson        |Memories define us                                                                                                                                                                                                                                                                                                                                                                                                                                                                                                                                                                                                                                                                                                                                                                                                                                                                                                                                                                                                                                                                                                                                                                                                                               |Before I Go to Sleep                                   |3.9   |347356     |25529      |16990 |210      |\n",
      "|9      |Definitely Dead (Sookie Stackhouse, #6)                |324      |Mass Market Paperback|2006-04-17  |Fantasy, Vampires, Paranormal, Urban Fantasy, Romance, Fiction, Mystery            |4.01  |Charlaine Harris   |Since Louisiana cocktail waitress Sookie Stackhouse has so few living relatives she hates to lose one  even her cousin Hadley undead consort of the vampire Queen of Louisiana Hadleys left everything she has to Sookie but claiming that inheritance has a high risk factor Some people dont want her looking too deeply into Hadleys past                                                                                                                                                                                                                                                                                                                                                                                                                                                                                                                                                                                                                                                                                                                                                                                                                                                                                                     |Definitely Dead (Sookie Stackhouse, #6)                |4.01  |207496     |4498       |8914  |223      |\n",
      "|10     |زندگی مه آلود پریا                                     |204      |ebook                |2013-01-02  |Fiction                                                                            |3.33  |سید مرتضی مصطفوی   |Mystical story                                                                                                                                                                                                                                                                                                                                                                                                                                                                                                                                                                                                                                                                                                                                                                                                                                                                                                                                                                                                                                                                                                                                                                                                                                   |زندگی مه آلود پریا                                     |3.33  |1027       |122        |30907 |549      |\n",
      "|11     |A Walk to Remember                                     |215      |Kindle Edition       |1999-10-01  |Romance, Fiction, Contemporary, Young Adult, Chick Lit, Adult, Contemporary Romance|4.2   |Nicholas Sparks    |There was a time when the world was sweeterwhen the women in Beaufort North Carolina wore dresses and the men donned hatswhen something happened to a seventeenyearold boy that would change his life forever Every April when the wind blows in from the sea and mingles with the scent of lilacs Landon Carter remembers his last year at Beaufort High It was 1958 and Landon had already dated a girl or two He even swore that he had once been in love Certainly the last person in town he thought hed fall for was Jamie Sullivan the daughter of the towns Baptist minister A quiet girl who always carried a Bible with her schoolbooks Jamie seemed content living in a world apart from the other teens She took care of her widowed father rescued hurt animals and helped out at the local orphanage No boy had ever asked her out Landon would never have dreamed of it Then a twist of fate made Jamie his partner for the homecoming dance and Landon Carters life would never be the same Being with Jamie would show him the depths of the human heart and lead him to a decision so stunning it would send him irrevocably on the road to manhood No other author today touches our emotions more deeply than Nicholas Sparks|A Walk to Remember                                     |4.2   |821171     |17385      |112956|673      |\n",
      "|12     |Bridge to Terabithia                                   |190      |Kindle Edition       |1977-10-21  |Fiction, Young Adult, Classics, Fantasy, Childrens, Middle Grade, Realistic Fiction|4.05  |Katherine Paterson |No description available                                                                                                                                                                                                                                                                                                                                                                                                                                                                                                                                                                                                                                                                                                                                                                                                                                                                                                                                                                                                                                                                                                                                                                                                                         |Bridge to Terabithia                                   |4.05  |561076     |17179      |96204 |735      |\n",
      "|13     |Midnight Sun [2008 Draft]                              |264      |ebook                |2008-08-28  |Young Adult, Fantasy, Vampires, Romance, Paranormal, Fiction, Paranormal Romance   |4.01  |Stephenie Meyer    |No description available                                                                                                                                                                                                                                                                                                                                                                                                                                                                                                                                                                                                                                                                                                                                                                                                                                                                                                                                                                                                                                                                                                                                                                                                                         |Midnight Sun [2008 Draft]                              |4.01  |148950     |9304       |49098 |879      |\n",
      "|14     |How the Grinch Stole Christmas!                        |64       |Hardcover            |1957-10-12  |Childrens, Picture Books, Christmas, Classics, Fiction, Poetry, Fantasy            |4.38  |Dr. Seuss          |For 53 years the Grinch has lived in a cave on the side of a mountain looming above the Whos in Whoville The noisy holiday preparations and infernal singing of the happy little citizens below annoy him to no end The Grinch decides this frivolous merriment must stop His                                                                                                                                                                                                                                                                                                                                                                                                                                                                                                                                                                                                                                                                                                                                                                                                                                                                                                                                                                    |How the Grinch Stole Christmas!                        |4.38  |423872     |4760       |109770|691      |\n",
      "|15     |The Very Hungry Caterpillar                            |26       |Board book           |1969-06-03  |Picture Books, Childrens, Fiction, Animals, Classics, Food, Counting               |4.33  |Eric Carle         |THE alltime classic story from generation to generation sold somewhere in the world every 30 seconds Have you shared it with a child or grandchild in your life                                                                                                                                                                                                                                                                                                                                                                                                                                                                                                                                                                                                                                                                                                                                                                                                                                                                                                                                                                                                                                                                                  |The Very Hungry Caterpillar                            |4.33  |522284     |10872      |159784|633      |\n",
      "|16     |Normal People                                          |273      |Hardcover            |2018-08-28  |Fiction, Contemporary, Literary Fiction, Audiobook, Ireland, Adult, Coming Of Age  |3.81  |Sally Rooney       |At school Connell and Marianne pretend not to know each other Hes popular and welladjusted star of the school soccer team while she is lonely proud and intensely private But when Connell comes to pick his mother up from her housekeeping job at Mariannes house a strange and indelible connection grows between the two teenagers  one they are determined to conceal                                                                                                                                                                                                                                                                                                                                                                                                                                                                                                                                                                                                                                                                                                                                                                                                                                                                       |Normal People                                          |3.81  |1545151    |152974     |13876 |681      |\n",
      "|17     |Ethan Frome                                            |99       |Paperback            |1911-01-01  |Classics, Fiction, Romance, Literature, School, Historical Fiction, American       |3.45  |Edith Wharton      |The classic novel of despair forbidden emotions and sexual undercurrents set against the austere New England countryside                                                                                                                                                                                                                                                                                                                                                                                                                                                                                                                                                                                                                                                                                                                                                                                                                                                                                                                                                                                                                                                                                                                         |Ethan Frome                                            |3.45  |130459     |7897       |9727  |957      |\n",
      "|18     |A Room of One’s Own                                    |112      |Paperback            |1929-10-24  |Classics, Nonfiction, Feminism, Essays, Philosophy, Writing, Literature            |4.21  |Virginia Woolf     | is an extended essay by Virginia Woolf First published on the 24th of October 1929 the essay was based on a series of lectures she delivered at Newnham College and Girton College two womens colleges at Cambridge University in October 1928 While this extended essay in fact employs a fictional narrator and narrative to explore women both as writers and characters in fiction the manuscript for the delivery of the series of lectures titled Women and Fiction and hence the essay are considered nonfiction The essay is seen as a feminist text and is noted in its argument for both a literal and figural space for women writers within a literary tradition dominated by patriarchy                                                                                                                                                                                                                                                                                                                                                                                                                                                                                                                                            |A Room of One’s Own                                    |4.21  |223616     |19640      |9254  |123      |\n",
      "|19     |The Adventures of Sherlock Holmes (Sherlock Holmes, #3)|389      |Paperback            |1892-10-14  |Mystery, Fiction, Short Stories, Crime, Classics, Audiobook, Mystery Thriller      |4.3   |Arthur Conan Doyle | is the series of short stories that made the fortunes of the Strand magazine in which they were first published and won immense popularity for Sherlock Holmes and Dr Watson The detective is at the height of his powers and the volume is full of famous cases including The RedHeaded League The Blue Carbuncle and The Speckled Band                                                                                                                                                                                                                                                                                                                                                                                                                                                                                                                                                                                                                                                                                                                                                                                                                                                                                                        |The Adventures of Sherlock Holmes (Sherlock Holmes, #3)|4.3   |309943     |9917       |432488|414      |\n",
      "+-------+-------------------------------------------------------+---------+---------------------+------------+-----------------------------------------------------------------------------------+------+-------------------+-------------------------------------------------------------------------------------------------------------------------------------------------------------------------------------------------------------------------------------------------------------------------------------------------------------------------------------------------------------------------------------------------------------------------------------------------------------------------------------------------------------------------------------------------------------------------------------------------------------------------------------------------------------------------------------------------------------------------------------------------------------------------------------------------------------------------------------------------------------------------------------------------------------------------------------------------------------------------------------------------------------------------------------------------------------------------------------------------------------------------------------------------------------------------------------------------------------------------------------------------+-------------------------------------------------------+------+-----------+-----------+------+---------+\n",
      "only showing top 20 rows\n",
      "\n"
     ]
    }
   ],
   "source": [
    "# Thực hiện phép nối giữa books_df và ratings_df dựa trên cột book_title\n",
    "books_with_ratings_df = books_df.join(\n",
    "    ratings_df,\n",
    "    books_df.book_title == ratings_df.book_title,\n",
    "    how=\"left\"  # Sử dụng \"left\" join để giữ lại tất cả các sách, ngay cả khi không có đánh giá\n",
    ")\n",
    "\n",
    "# Hiển thị kết quả\n",
    "books_with_ratings_df.show(truncate=False)"
   ]
  },
  {
   "cell_type": "code",
   "execution_count": 25,
   "metadata": {},
   "outputs": [
    {
     "name": "stdout",
     "output_type": "stream",
     "text": [
      "+-------+---------+\n",
      "|book_id|rating_id|\n",
      "+-------+---------+\n",
      "|26     |0        |\n",
      "|32     |1        |\n",
      "|849    |2        |\n",
      "|113    |3        |\n",
      "|346    |4        |\n",
      "|659    |5        |\n",
      "|593    |6        |\n",
      "|626    |7        |\n",
      "|835    |8        |\n",
      "|558    |9        |\n",
      "|192    |10       |\n",
      "|214    |11       |\n",
      "|942    |12       |\n",
      "|318    |13       |\n",
      "|893    |14       |\n",
      "|415    |15       |\n",
      "|856    |16       |\n",
      "|512    |17       |\n",
      "|65     |18       |\n",
      "|962    |19       |\n",
      "+-------+---------+\n",
      "only showing top 20 rows\n",
      "\n"
     ]
    }
   ],
   "source": [
    "from pyspark.sql import functions as F\n",
    "\n",
    "# Thực hiện phép nối giữa books_df và ratings_df dựa trên cột book_title để tạo bảng trung gian\n",
    "book_ratings_df = books_df.join(\n",
    "    ratings_df,\n",
    "    books_df.book_title == ratings_df.book_title,\n",
    "    how=\"inner\"\n",
    ").select(\n",
    "    books_df[\"book_id\"],\n",
    "    ratings_df[\"rating_id\"]\n",
    ")\n",
    "\n",
    "# Hiển thị bảng trung gian với các cột book_id và rating_id\n",
    "book_ratings_df.show(truncate=False)"
   ]
  },
  {
   "cell_type": "code",
   "execution_count": 26,
   "metadata": {},
   "outputs": [
    {
     "name": "stdout",
     "output_type": "stream",
     "text": [
      "+-------+-------------------------------------------------------------------------+---------+---------------------+------------+-----------------------------------------------------------------------------------------+------+--------------------+--------------------------------------------------------------------------------------------------------------------------------------------------------------------------------------------------------------------------------------------------------------------------------------------------------------------------------------------------------------------------------------------------------------------------------------------------------------------------------------------------------------------------------------------------------------------------------------------------------------------------------------------------------------------------------------------------------------------------------------------------------------------------------------------------------------------------------------------------------+---------+-------+-------+\n",
      "|book_id|book_title                                                               |num_pages|cover_type           |publish_date|Genres                                                                                   |Rating|Author              |description                                                                                                                                                                                                                                                                                                                                                                                                                                                                                                                                                                                                                                                                                                                                                                                                                                             |review_id|Reviews|Score  |\n",
      "+-------+-------------------------------------------------------------------------+---------+---------------------+------------+-----------------------------------------------------------------------------------------+------+--------------------+--------------------------------------------------------------------------------------------------------------------------------------------------------------------------------------------------------------------------------------------------------------------------------------------------------------------------------------------------------------------------------------------------------------------------------------------------------------------------------------------------------------------------------------------------------------------------------------------------------------------------------------------------------------------------------------------------------------------------------------------------------------------------------------------------------------------------------------------------------+---------+-------+-------+\n",
      "|26     |The Roommate                                                             |275      |Kindle Edition       |2021-02-24  |Thriller, Psychological Thriller, Fiction, Mystery, Adventure, Mystery Thriller, Suspense|3.9   |Kiersten Modglin    |He thought his life couldnt get any worse                                                                                                                                                                                                                                                                                                                                                                                                                                                                                                                                                                                                                                                                                                                                                                                                               |0        |610    |14560  |\n",
      "|32     |The Knife of Never Letting Go (Chaos Walking, #1)                        |528      |Paperback            |2008-05-05  |Young Adult, Dystopia, Science Fiction, Fantasy, Fiction, Adventure, Audiobook           |3.97  |Patrick Ness        |Todd Hewitt is the only boy in a town of men Ever since the settlers were infected with the Noise germ Todd can hear everything the men think and they hear everything he thinks Todd is just a month away from becoming a man but in the midst of the cacophony he knows that the town is hiding something from him  something so awful Todd is forced to flee with only his dog whose simple loyal voice he hears too With hostile men from the town in pursuit the two stumble upon a strange and eerily silent creature a girl Who is she Why wasnt she killed by the germ like all the females on New World Propelled by Todds gritty narration readers are in for a whiteknuckle journey in which a boy on the cusp of manhood must unlearn everything he knows in order to figure out who he truly is                                            |1        |21196  |15768  |\n",
      "|849    |Man’s Search for Meaning                                                 |165      |Paperback            |1946-01-01  |Nonfiction, Psychology, Philosophy, Self Help, Memoir, Biography, Audiobook              |4.37  |Viktor E. Frankl    |Psychiatrist Viktor Frankls memoir has riveted generations of readers with its descriptions of life in Nazi death camps and its lessons for spiritual survival Based on his own experience and the stories of his patients Frankl argues that we cannot avoid suffering but we can choose how to cope with it find meaning in it and move forward with renewed purpose At the heart of his theory known as logotherapy is a conviction that the primary human drive is not pleasure but the pursuit of what we find meaningful                                                                                                                                                                                                                                                                                                                          |2        |42196  |68249  |\n",
      "|113    |The Lightning Thief (Percy Jackson and the Olympians, #1)                |377      |Paperback            |2005-07-28  |Fantasy, Young Adult, Mythology, Fiction, Middle Grade, Adventure, Greek Mythology       |4.31  |Rick Riordan        |Percy Jackson is a good kid but he cant seem to focus on his schoolwork or control his temper And lately being away at boarding school is only getting worse  Percy could have sworn his prealgebra teacher turned into a monster and tried to kill him When Percys mom finds out she knows its time that he knew the truth about where he came from and that he go to the one place hell be safe She sends Percy to Camp Half Blood a summer camp for demigods on Long Island where he learns that the father he never knew is Poseidon God of the Sea Soon a mystery unfolds and together with his friendsone a satyr and the other the demigod daughter of Athena  Percy sets out on a quest across the United States to reach the gates of the Underworld located in a recording studio in Hollywood and prevent a catastrophic war between the gods|3        |108831 |1118664|\n",
      "|346    |Little House in the Big Woods (Little House, #1)                         |224      |Paperback            |1932-01-01  |Classics, Historical Fiction, Childrens, Fiction, Young Adult, Historical, Middle Grade  |4.21  |Laura Ingalls Wilder|Based on the reallife adventures of Laura Ingalls Wilder Little House in the Big Woods is the first book in the awardwinning Little House series which has captivated generations of readers This edition features the classic blackandwhite artwork from Garth Williams                                                                                                                                                                                                                                                                                                                                                                                                                                                                                                                                                                                |4        |8238   |17399  |\n",
      "|659    |Franny and Zooey                                                         |201      |Paperback            |1957-01-01  |Fiction, Short Stories, Literature, Classics, American, Novels, Literary Fiction         |3.96  |J.D. Salinger       |First published in                                                                                                                                                                                                                                                                                                                                                                                                                                                                                                                                                                                                                                                                                                                                                                                                                                      |5        |11425  |37741  |\n",
      "|593    |The Art of Racing in the Rain                                            |336      |Hardcover            |2008-05-13  |Fiction, Animals, Dogs, Audiobook, Adult Fiction, Adult, Contemporary                    |4.23  |Garth Stein         |Enzo knows he is different from other dogs a philosopher with a nearly human soul and an obsession with opposable thumbs he has educated himself by watching television extensively and by listening very closely to the words of his master Denny Swift an upandcoming race car driver                                                                                                                                                                                                                                                                                                                                                                                                                                                                                                                                                                 |6        |45094  |38100  |\n",
      "|626    |I Am Number Four (Lorien Legacies, #1)                                   |440      |Hardcover            |2010-08-03  |Young Adult, Fantasy, Science Fiction, Fiction, Aliens, Romance, Paranormal              |3.93  |Pittacus Lore       |Nine of us came here We look like you We talk like you We live among you But we are not you We can do things you dream of doing We have powers you dream of having We are stronger and faster than anything you have ever seen We are the superheroes you worship in movies and comic booksbut we are real                                                                                                                                                                                                                                                                                                                                                                                                                                                                                                                                              |7        |17131  |16436  |\n",
      "|835    |Divine Secrets of the Ya-Ya Sisterhood                                   |383      |Paperback            |1996-05-22  |Fiction, Chick Lit, Contemporary, Adult Fiction, Historical Fiction, Southern, Adult     |3.86  |Rebecca Wells       |When Siddalee Walker oldest daughter of Vivi Abbott Walker YaYa extraordinaire is interviewed in the New York Times about a hit play shes directed her mother gets described as a tapdancing child abuser Enraged Vivi disowns Sidda Devastated Sidda begs forgiveness and postpones her upcoming wedding All looks bleak until the YaYas step in and convince Vivi to send Sidda a scrapbook of their girlhood mementos called Divine Secrets of the YaYa Sisterhood As Sidda struggles to analyze her mother she comes face to face with the tangled beauty of imperfect love and the fact that forgiveness more than understanding is often what the heart longs for                                                                                                                                                                                 |8        |4889   |21985  |\n",
      "|558    |Charlotte’s Web                                                          |184      |Paperback            |1952-10-15  |Fiction, Childrens, Classics, Fantasy, Young Adult, Middle Grade, Animals                |4.2   |E.B. White          |This beloved book by E B White author of                                                                                                                                                                                                                                                                                                                                                                                                                                                                                                                                                                                                                                                                                                                                                                                                                |9        |24912  |795765 |\n",
      "|192    |City of Bones (The Mortal Instruments, #1)                               |485      |Hardcover            |2007-03-27  |Fantasy, Young Adult, Romance, Paranormal, Urban Fantasy, Fiction, Vampires              |4.07  |Cassandra Clare     |When fifteenyearold Clary Fray heads out to the Pandemonium Club in New York City she hardly expects to witness a murder much less a murder committed by three teenagers covered with strange tattoos and brandishing bizarre weapons Then the body disappears into thin air Its hard to call the police when the murderers are invisible to everyone else and when there is nothingnot even a smear of bloodto show that a boy has died Or was he a boy                                                                                                                                                                                                                                                                                                                                                                                                |10       |77961  |843049 |\n",
      "|214    |The da Vinci Code (Robert Langdon, #2)                                   |489      |Paperback            |2003-01-01  |Fiction, Mystery, Thriller, Mystery Thriller, Historical Fiction, Suspense, Adventure    |3.92  |Dan       Brown     |Alternate covers for 9780307277671 can be found                                                                                                                                                                                                                                                                                                                                                                                                                                                                                                                                                                                                                                                                                                                                                                                                         |11       |56303  |995769 |\n",
      "|942    |To All the Boys I've Loved Before (To All the Boys I've Loved Before, #1)|355      |Paperback            |2014-04-15  |Romance, Contemporary, Young Adult, Fiction, Audiobook, Chick Lit, Realistic Fiction     |4.04  |Jenny Han           |To All the Boys Ive Loved Before is the story of Lara Jean who has never openly admitted her crushes but instead wrote each boy a letter about how she felt sealed it and hid it in a box under her bed                                                                                                                                                                                                                                                                                                                                                                                                                                                                                                                                                                                                                                                 |12       |51343  |14639  |\n",
      "|318    |A Dog's Purpose (A Dog's Purpose, #1)                                    |319      |Hardcover            |2010-07-01  |Fiction, Animals, Dogs, Contemporary, Audiobook, Fantasy, Adult                          |4.35  |W. Bruce Cameron    |This is the remarkable story of one endearing dogs search for his purpose over the course of several lives More than just another charming dog story this touches on the universal quest for an answer to lifes most basic question Why are we here                                                                                                                                                                                                                                                                                                                                                                                                                                                                                                                                                                                                     |13       |14867  |15161  |\n",
      "|893    |Big Little Lies                                                          |460      |Paperback            |2014-12-25  |Fiction, Mystery, Contemporary, Thriller, Chick Lit, Audiobook, Mystery Thriller         |4.31  |Liane Moriarty      |A murderA tragic accidentOr just parents behaving badly Whats indisputable is that someone is dead                                                                                                                                                                                                                                                                                                                                                                                                                                                                                                                                                                                                                                                                                                                                                      |14       |56547  |16583  |\n",
      "|415    |Uglies (Uglies, #1)                                                      |425      |Paperback            |2005-02-08  |Young Adult, Dystopia, Science Fiction, Fiction, Fantasy, Romance, Teen                  |3.85  |Scott Westerfeld    |Tally is about to turn sixteen and she cant wait In just a few weeks shell have the operation that will turn her from a repellent ugly into a stunning pretty And as a pretty shell be catapulted into a hightech paradise where her only job is to have fun                                                                                                                                                                                                                                                                                                                                                                                                                                                                                                                                                                                            |15       |28048  |59630  |\n",
      "|856    |The Name of the Rose                                                     |552      |Paperback            |1980-09-01  |Fiction, Historical Fiction, Mystery, Historical, Literature, Italy, Crime               |4.14  |Umberto Eco         |The year is 1327 Franciscans in a wealthy Italian abbey are suspected of heresy and Brother William of Baskerville arrives to investigate When his delicate mission is suddenly overshadowed by seven bizarre deaths Brother William turns to the logic of Aristotle the theology of Aquinas and the empirical insights of Roger Bacon to find the killer He collects evidence deciphers secret symbols and coded manuscripts and digs into the eerie labyrinth of the abbey where the most interesting things happen at night armed with a wry sense of humor and a ferocious curiosity                                                                                                                                                                                                                                                                |16       |13781  |146934 |\n",
      "|512    |Empire of Storms (Throne of Glass, #5)                                   |689      |Hardcover            |2016-09-06  |Fantasy, Young Adult, Romance, Fae, New Adult, Fiction, Magic                            |4.63  |Sarah J. Maas       |The long path to the throne has only just begun for Aelin Galathynius as war looms on the horizon Loyalties have been broken and bought friends have been lost and gained and those who possess magic find themselves at odds with those who dont                                                                                                                                                                                                                                                                                                                                                                                                                                                                                                                                                                                                       |17       |70164  |17645  |\n",
      "|65     |Lover Eternal (Black Dagger Brotherhood, #2)                             |441      |Mass Market Paperback|2006-03-07  |Romance, Paranormal, Vampires, Paranormal Romance, Fantasy, Urban Fantasy, Adult         |4.32  |J.R. Ward           |In the shadows of the night in Caldwell New York theres a deadly war raging between vampires and their slayers And there exists a secret band of brothers like no other  six vampire warriors defenders of their race Possessed by a deadly beast Rhage is the most dangerous of the Black Dagger Brotherhood                                                                                                                                                                                                                                                                                                                                                                                                                                                                                                                                           |18       |7833   |14638  |\n",
      "|962    |A Brief History of Time                                                  |226      |Paperback            |1988-09-01  |Science, Nonfiction, Physics, History, Classics, Astronomy, Philosophy                   |4.21  |Stephen Hawking     |A landmark volume in science writing by one of the great minds of our time Stephen Hawkings book explores such profound questions as How did the universe beginand what made its start possible Does time always flow forward Is the universe unendingor are there boundaries Are there other dimensions in space What will happen when it all ends                                                                                                                                                                                                                                                                                                                                                                                                                                                                                                     |19       |13037  |14890  |\n",
      "+-------+-------------------------------------------------------------------------+---------+---------------------+------------+-----------------------------------------------------------------------------------------+------+--------------------+--------------------------------------------------------------------------------------------------------------------------------------------------------------------------------------------------------------------------------------------------------------------------------------------------------------------------------------------------------------------------------------------------------------------------------------------------------------------------------------------------------------------------------------------------------------------------------------------------------------------------------------------------------------------------------------------------------------------------------------------------------------------------------------------------------------------------------------------------------+---------+-------+-------+\n",
      "only showing top 20 rows\n",
      "\n"
     ]
    }
   ],
   "source": [
    "# Nối bảng books_df với reviews_df qua cột book_id\n",
    "books_reviews_df = books_df.join(reviews_df, \"book_id\", \"inner\")\n",
    "\n",
    "# Hiển thị kết quả\n",
    "books_reviews_df.show(truncate=False)"
   ]
  },
  {
   "cell_type": "markdown",
   "metadata": {},
   "source": [
    "####  Thống kê"
   ]
  },
  {
   "cell_type": "code",
   "execution_count": 27,
   "metadata": {},
   "outputs": [
    {
     "name": "stdout",
     "output_type": "stream",
     "text": [
      "+-------------------+-----+\n",
      "|author_name        |count|\n",
      "+-------------------+-----+\n",
      "|Stephen        King|16   |\n",
      "|Sarah J. Maas      |14   |\n",
      "|William Shakespeare|12   |\n",
      "|Rick Riordan       |11   |\n",
      "|Cassandra Clare    |10   |\n",
      "|J.K. Rowling       |9    |\n",
      "|C.S. Lewis         |9    |\n",
      "|Richelle Mead      |8    |\n",
      "|Jane Austen        |7    |\n",
      "|P.C. Cast          |7    |\n",
      "|J.R. Ward          |7    |\n",
      "|J.R.R. Tolkien     |7    |\n",
      "|Charles Dickens    |6    |\n",
      "|Terry Pratchett    |6    |\n",
      "|Dan       Brown    |6    |\n",
      "|Dr. Seuss          |6    |\n",
      "|Neil Gaiman        |6    |\n",
      "|John Steinbeck     |6    |\n",
      "|Johnathon Nicolaou |6    |\n",
      "|Diana Gabaldon     |6    |\n",
      "+-------------------+-----+\n",
      "only showing top 20 rows\n",
      "\n"
     ]
    }
   ],
   "source": [
    "# Thống kê số lượng sách theo tác giả\n",
    "author_book_counts = books_final.groupBy(\"author_id\").count() \\\n",
    "    .join(authors_df, \"author_id\") \\\n",
    "    .select(\"author_name\", \"count\") \\\n",
    "    .orderBy(col(\"count\").desc())\n",
    "\n",
    "author_book_counts.show(truncate=False)"
   ]
  },
  {
   "cell_type": "code",
   "execution_count": 28,
   "metadata": {},
   "outputs": [
    {
     "name": "stdout",
     "output_type": "stream",
     "text": [
      "+-------------------+-----+\n",
      "|genre_name         |count|\n",
      "+-------------------+-----+\n",
      "| Fiction           |604  |\n",
      "| Classics          |300  |\n",
      "|Fiction            |278  |\n",
      "| Audiobook         |241  |\n",
      "| Literature        |231  |\n",
      "| Romance           |230  |\n",
      "| Fantasy           |230  |\n",
      "| Young Adult       |219  |\n",
      "| Historical Fiction|198  |\n",
      "|Fantasy            |177  |\n",
      "| Novels            |176  |\n",
      "| Contemporary      |172  |\n",
      "| Mystery           |128  |\n",
      "| Historical        |127  |\n",
      "| Adventure         |124  |\n",
      "| Adult             |105  |\n",
      "| Science Fiction   |102  |\n",
      "|Young Adult        |96   |\n",
      "| Thriller          |95   |\n",
      "| Paranormal        |92   |\n",
      "+-------------------+-----+\n",
      "only showing top 20 rows\n",
      "\n"
     ]
    }
   ],
   "source": [
    "# Thống kê số lượng sách theo thể loại\n",
    "from pyspark.sql import functions as F\n",
    "\n",
    "genre_book_counts = books_final \\\n",
    "    .withColumn(\"genre_id\", F.explode(\"genre_ids\")) \\\n",
    "    .groupBy(\"genre_id\") \\\n",
    "    .count() \\\n",
    "    .join(genres_df, \"genre_id\") \\\n",
    "    .select(\"genre_name\", \"count\") \\\n",
    "    .orderBy(F.col(\"count\").desc())\n",
    "\n",
    "\n",
    "genre_book_counts.show(truncate=False)"
   ]
  },
  {
   "cell_type": "code",
   "execution_count": 29,
   "metadata": {},
   "outputs": [
    {
     "name": "stdout",
     "output_type": "stream",
     "text": [
      "+---------------------------------------------------------------------+-------------+-----------------+-------------+\n",
      "|book_title                                                           |total_ratings|average_rating   |total_reviews|\n",
      "+---------------------------------------------------------------------+-------------+-----------------+-------------+\n",
      "|The Complete Calvin and Hobbes                                       |40983        |4.809999942779541|1210         |\n",
      "|The Addiction Manifesto                                              |1209         |4.800000190734863|52           |\n",
      "|Words of Radiance (The Stormlight Archive, #2)                       |390706       |4.760000228881836|25282        |\n",
      "|Harry Potter Series Box Set (Harry Potter, #1-7)                     |292928       |4.739999771118164|8471         |\n",
      "|The High Auction (Wisdom Revolution, #1)                             |15219        |4.710000038146973|1985         |\n",
      "|Kingdom of Ash (Throne of Glass, #7)                                 |727873       |4.699999809265137|76593        |\n",
      "|The Way of Kings (The Stormlight Archive, #1)                        |545907       |4.659999847412109|41223        |\n",
      "|A Court of Mist and Fury (A Court of Thorns and Roses, #2)           |4817840      |4.650000095367432|407750       |\n",
      "|The Nightingale                                                      |1562481      |4.630000114440918|127998       |\n",
      "|Empire of Storms (Throne of Glass, #5)                               |855191       |4.630000114440918|70164        |\n",
      "|Harry Potter and the Deathly Hallows (Harry Potter, #7)              |3842409      |4.619999885559082|89799        |\n",
      "|Holy Bible: New International Version                                |90332        |4.619999885559082|3328         |\n",
      "|Magical Midlife Awakening (Leveling Up, #9)                          |9206         |4.619999885559082|597          |\n",
      "|العصبي                                                               |2779         |4.610000133514404|363          |\n",
      "|Queen of Shadows (Throne of Glass, #4)                               |995776       |4.610000133514404|73027        |\n",
      "|J.R.R. Tolkien 4-Book Boxed Set: The Hobbit and The Lord of the Rings|137136       |4.610000133514404|2335         |\n",
      "|The Lost Artefacts - The Complete Collection                         |201          |4.599999904632568|11           |\n",
      "|Crooked Kingdom (Six of Crows, #2)                                   |685712       |4.590000152587891|76664        |\n",
      "|Miracle                                                              |291          |4.590000152587891|40           |\n",
      "|Harry Potter and the Half-Blood Prince (Harry Potter, #6)            |3401999      |4.579999923706055|61721        |\n",
      "+---------------------------------------------------------------------+-------------+-----------------+-------------+\n",
      "only showing top 20 rows\n",
      "\n"
     ]
    }
   ],
   "source": [
    "# Tính điểm trung bình và số lượng đánh giá cho từng cuốn sách\n",
    "book_ratings = ratings_df.groupBy(\"book_title\") \\\n",
    "    .agg({\n",
    "        \"rating\": \"avg\",\n",
    "        \"num_ratings\": \"sum\",\n",
    "        \"num_reviews\": \"sum\"\n",
    "    }) \\\n",
    "    .withColumnRenamed(\"avg(rating)\", \"average_rating\") \\\n",
    "    .withColumnRenamed(\"sum(num_ratings)\", \"total_ratings\") \\\n",
    "    .withColumnRenamed(\"sum(num_reviews)\", \"total_reviews\") \\\n",
    "    .orderBy(col(\"average_rating\").desc())\n",
    "\n",
    "book_ratings.show(truncate=False)"
   ]
  },
  {
   "cell_type": "markdown",
   "metadata": {},
   "source": [
    "#### Kiểm tra dữ liệu lần nữa "
   ]
  },
  {
   "cell_type": "code",
   "execution_count": 30,
   "metadata": {},
   "outputs": [
    {
     "name": "stdout",
     "output_type": "stream",
     "text": [
      "+------+----------+----+-----------+------+-----------------+-----+----+------+-------+-----+-----+------------+------------+\n",
      "|Author|Cover Type|Date|Description|Genres|Number of Ratings|Pages|Rank|Rating|Reviews|Score|Title|cleaned_date|publish_date|\n",
      "+------+----------+----+-----------+------+-----------------+-----+----+------+-------+-----+-----+------------+------------+\n",
      "|0     |0         |0   |0          |0     |0                |0    |0   |0     |0      |0    |0    |0           |0           |\n",
      "+------+----------+----+-----------+------+-----------------+-----+----+------+-------+-----+-----+------------+------------+\n",
      "\n"
     ]
    }
   ],
   "source": [
    "from pyspark.sql.functions import col, current_date, to_date, lit\n",
    "\n",
    "from pyspark.sql.functions import col, count, when\n",
    "\n",
    "# Tính số lượng giá trị null trong mỗi cột\n",
    "null_counts = df.select(\n",
    "    [count(when(col(c).isNull(), c)).alias(c) for c in df.columns])\n",
    "null_counts.show(truncate=False)"
   ]
  },
  {
   "cell_type": "code",
   "execution_count": 31,
   "metadata": {},
   "outputs": [],
   "source": [
    "books_final = books_final.withColumn(\n",
    "    \"publish_date\", F.to_date(\"publish_date\", \"dd-MM-yyyy\")\n",
    ")"
   ]
  },
  {
   "cell_type": "markdown",
   "metadata": {},
   "source": [
    "#### Thêm dữ liệu vào CSV  "
   ]
  },
  {
   "cell_type": "markdown",
   "metadata": {},
   "source": [
    "##### 1. Authors"
   ]
  },
  {
   "cell_type": "code",
   "execution_count": 32,
   "metadata": {},
   "outputs": [
    {
     "name": "stdout",
     "output_type": "stream",
     "text": [
      "Dữ liệu đã được lưu vào D:\\My Projects\\crawl-data-ptdl\\spark_with_sql\\save_table_sql\\authors.csv\n",
      "Dữ liệu đã được lưu vào authors.csv\n"
     ]
    }
   ],
   "source": [
    "import shutil\n",
    "import os\n",
    "\n",
    "# Ghi dữ liệu vào thư mục tạm thời\n",
    "authors_df.coalesce(1).write.format(\"csv\").option(\"header\", \"true\").save(\n",
    "    \"D:\\\\My Projects\\\\crawl-data-ptdl\\\\spark_with_sql\\\\save_table_sql\\\\authors_temp\")\n",
    "\n",
    "# Lấy file phân mảnh và di chuyển vào tên file mong muốn\n",
    "temp_path = \"D:\\\\My Projects\\\\crawl-data-ptdl\\\\spark_with_sql\\\\save_table_sql\\\\authors_temp\"\n",
    "destination_path = \"D:\\\\My Projects\\\\crawl-data-ptdl\\\\spark_with_sql\\\\save_table_sql\\\\authors.csv\"\n",
    "\n",
    "# Tìm file .csv duy nhất và di chuyển\n",
    "for file in os.listdir(temp_path):\n",
    "    if file.startswith(\"part-\"):\n",
    "        shutil.move(os.path.join(temp_path, file), destination_path)\n",
    "        break\n",
    "\n",
    "# Xóa thư mục tạm thời\n",
    "shutil.rmtree(temp_path)\n",
    "\n",
    "print(f\"Dữ liệu đã được lưu vào {destination_path}\")\n",
    "# Chuyển dữ liệu từ Spark DataFrame sang Pandas DataFrame\n",
    "authors_pandas_df = authors_df.toPandas()\n",
    "\n",
    "# Lưu dữ liệu vào CSV\n",
    "authors_pandas_df.to_csv(\n",
    "    \"D:\\\\My Projects\\\\crawl-data-ptdl\\\\spark_with_sql\\\\save_table_sql\\\\authors.csv\", index=False)\n",
    "\n",
    "print(\"Dữ liệu đã được lưu vào authors.csv\")"
   ]
  },
  {
   "cell_type": "markdown",
   "metadata": {},
   "source": [
    "##### 2. Books"
   ]
  },
  {
   "cell_type": "code",
   "execution_count": 33,
   "metadata": {},
   "outputs": [
    {
     "name": "stdout",
     "output_type": "stream",
     "text": [
      "Dữ liệu đã được lưu vào D:\\My Projects\\crawl-data-ptdl\\spark_with_sql\\save_table_sql\\books.csv\n"
     ]
    }
   ],
   "source": [
    "from pyspark.sql import functions as F\n",
    "\n",
    "# Chuyển cột 'genre_ids' từ kiểu ARRAY thành chuỗi (string)\n",
    "books_final = books_final.withColumn(\n",
    "    \"genre_ids\", F.concat_ws(\",\", F.col(\"genre_ids\"))\n",
    ")\n",
    "\n",
    "# Ghi dữ liệu vào thư mục tạm thời (coalesce(1) để chỉ xuất ra 1 file)\n",
    "books_final.coalesce(1).write.format(\"csv\").option(\"header\", \"true\").save(\n",
    "    \"D:\\\\My Projects\\\\crawl-data-ptdl\\\\spark_with_sql\\\\save_table_sql\\\\books_temp\")\n",
    "\n",
    "# Lấy file phân mảnh và di chuyển vào tên file mong muốn\n",
    "temp_path = \"D:\\\\My Projects\\\\crawl-data-ptdl\\\\spark_with_sql\\\\save_table_sql\\\\books_temp\"\n",
    "destination_path = \"D:\\\\My Projects\\\\crawl-data-ptdl\\\\spark_with_sql\\\\save_table_sql\\\\books.csv\"\n",
    "\n",
    "# Tìm file .csv duy nhất và di chuyển\n",
    "for file in os.listdir(temp_path):\n",
    "    if file.startswith(\"part-\"):\n",
    "        shutil.move(os.path.join(temp_path, file), destination_path)\n",
    "        break\n",
    "\n",
    "# Xóa thư mục tạm thời\n",
    "shutil.rmtree(temp_path)\n",
    "\n",
    "# Thông báo đã lưu dữ liệu vào CSV\n",
    "print(f\"Dữ liệu đã được lưu vào {destination_path}\")"
   ]
  },
  {
   "cell_type": "markdown",
   "metadata": {},
   "source": [
    "##### 3. Ratings"
   ]
  },
  {
   "cell_type": "code",
   "execution_count": 34,
   "metadata": {},
   "outputs": [
    {
     "name": "stdout",
     "output_type": "stream",
     "text": [
      "File đã được di chuyển vào D:\\My Projects\\crawl-data-ptdl\\spark_with_sql\\save_table_sql\\ratings.csv\n",
      "Đã xóa thư mục tạm thời: D:\\My Projects\\crawl-data-ptdl\\spark_with_sql\\save_table_sql\\ratings_temp\n",
      "Dữ liệu đã được lưu vào ratings.csv\n"
     ]
    }
   ],
   "source": [
    "import shutil\n",
    "import os\n",
    "\n",
    "# Đường dẫn thư mục tạm thời và đích\n",
    "temp_path = \"D:\\\\My Projects\\\\crawl-data-ptdl\\\\spark_with_sql\\\\save_table_sql\\\\ratings_temp\"\n",
    "destination_path = \"D:\\\\My Projects\\\\crawl-data-ptdl\\\\spark_with_sql\\\\save_table_sql\\\\ratings.csv\"\n",
    "\n",
    "# Ghi dữ liệu vào thư mục tạm thời cho ratings_df\n",
    "ratings_df.coalesce(1).write.format(\"csv\").option(\n",
    "    \"header\", \"true\").save(temp_path)\n",
    "\n",
    "# Kiểm tra và di chuyển file .csv duy nhất từ thư mục tạm thời vào thư mục đích\n",
    "file_moved = False\n",
    "for file in os.listdir(temp_path):\n",
    "    if file.startswith(\"part-\"):\n",
    "        shutil.move(os.path.join(temp_path, file), destination_path)\n",
    "        file_moved = True\n",
    "        print(f\"File đã được di chuyển vào {destination_path}\")\n",
    "        break\n",
    "\n",
    "if not file_moved:\n",
    "    print(\"Không tìm thấy file .csv để di chuyển!\")\n",
    "\n",
    "# Xóa thư mục tạm thời sau khi di chuyển file\n",
    "shutil.rmtree(temp_path)\n",
    "print(f\"Đã xóa thư mục tạm thời: {temp_path}\")\n",
    "\n",
    "# Chuyển dữ liệu từ Spark DataFrame sang Pandas DataFrame (nếu cần)\n",
    "ratings_pandas_df = ratings_df.toPandas()\n",
    "\n",
    "# Lưu dữ liệu vào CSV bằng Pandas\n",
    "ratings_pandas_df.to_csv(destination_path, index=False)\n",
    "print(\"Dữ liệu đã được lưu vào ratings.csv\")"
   ]
  },
  {
   "cell_type": "markdown",
   "metadata": {},
   "source": [
    "##### 4. Genres "
   ]
  },
  {
   "cell_type": "code",
   "execution_count": 35,
   "metadata": {},
   "outputs": [
    {
     "name": "stdout",
     "output_type": "stream",
     "text": [
      "Dữ liệu đã được lưu vào D:\\My Projects\\crawl-data-ptdl\\spark_with_sql\\save_table_sql\\genres.csv\n"
     ]
    }
   ],
   "source": [
    "from pyspark.sql import SparkSession\n",
    "from pyspark.sql.functions import explode, split, monotonically_increasing_id, col\n",
    "import shutil\n",
    "import os\n",
    "spark = SparkSession.builder.appName(\"GenresProcessing\").getOrCreate()\n",
    "genres_df.coalesce(1).write.format(\"csv\").option(\"header\", \"true\").save(\n",
    "    \"D:\\\\My Projects\\\\crawl-data-ptdl\\\\spark_with_sql\\\\save_table_sql\\\\genres_temp\")\n",
    "temp_path = \"D:\\\\My Projects\\\\crawl-data-ptdl\\\\spark_with_sql\\\\save_table_sql\\\\genres_temp\"\n",
    "destination_path = \"D:\\\\My Projects\\\\crawl-data-ptdl\\\\spark_with_sql\\\\save_table_sql\\\\genres.csv\"\n",
    "\n",
    "for file in os.listdir(temp_path):\n",
    "    if file.startswith(\"part-\"):\n",
    "        shutil.move(os.path.join(temp_path, file), destination_path)\n",
    "        break\n",
    "\n",
    "shutil.rmtree(temp_path)\n",
    "\n",
    "print(f\"Dữ liệu đã được lưu vào {destination_path}\")"
   ]
  },
  {
   "cell_type": "markdown",
   "metadata": {},
   "source": [
    "##### 5. Reviews "
   ]
  },
  {
   "cell_type": "code",
   "execution_count": 36,
   "metadata": {},
   "outputs": [
    {
     "name": "stdout",
     "output_type": "stream",
     "text": [
      "Dữ liệu đã được lưu vào D:\\My Projects\\crawl-data-ptdl\\spark_with_sql\\save_table_sql\\reviews.csv\n"
     ]
    }
   ],
   "source": [
    "# Lưu reviews_df thành file CSV\n",
    "import shutil\n",
    "reviews_df.coalesce(1).write.format(\"csv\").option(\"header\", \"true\") \\\n",
    "    .save(\"D:\\\\My Projects\\\\crawl-data-ptdl\\\\spark_with_sql\\\\save_table_sql\\\\reviews_temp\")\n",
    "\n",
    "# Di chuyển file CSV từ thư mục tạm thời\n",
    "temp_path = \"D:\\\\My Projects\\\\crawl-data-ptdl\\\\spark_with_sql\\\\save_table_sql\\\\reviews_temp\"\n",
    "destination_path = \"D:\\\\My Projects\\\\crawl-data-ptdl\\\\spark_with_sql\\\\save_table_sql\\\\reviews.csv\"\n",
    "\n",
    "# Tìm file CSV duy nhất và di chuyển\n",
    "for file in os.listdir(temp_path):\n",
    "    if file.startswith(\"part-\"):\n",
    "        shutil.move(os.path.join(temp_path, file), destination_path)\n",
    "        break\n",
    "\n",
    "# Xóa thư mục tạm thời\n",
    "shutil.rmtree(temp_path)\n",
    "\n",
    "print(f\"Dữ liệu đã được lưu vào {destination_path}\")"
   ]
  },
  {
   "cell_type": "markdown",
   "metadata": {},
   "source": [
    "##### 6. Book_genres"
   ]
  },
  {
   "cell_type": "code",
   "execution_count": 37,
   "metadata": {},
   "outputs": [
    {
     "name": "stdout",
     "output_type": "stream",
     "text": [
      "Dữ liệu đã được lưu vào D:\\My Projects\\crawl-data-ptdl\\spark_with_sql\\save_table_sql\\book_genres.csv\n"
     ]
    }
   ],
   "source": [
    "from pyspark.sql.functions import explode, split\n",
    "import shutil\n",
    "import os\n",
    "\n",
    "# Tạo bảng book_genres từ books_df và genres_df\n",
    "book_genres_df = books_df \\\n",
    "    .select(\"book_id\", explode(split(col(\"Genres\"), \",\")).alias(\"genre_name\")) \\\n",
    "    .join(genres_df, \"genre_name\", \"inner\") \\\n",
    "    .select(\"book_id\", \"genre_id\") \\\n",
    "    .dropDuplicates()\n",
    "\n",
    "\n",
    "# Lưu book_genres_df thành file CSV\n",
    "book_genres_df.coalesce(1).write.format(\"csv\").option(\"header\", \"true\") \\\n",
    "    .save(\"D:\\\\My Projects\\\\crawl-data-ptdl\\\\spark_with_sql\\\\save_table_sql\\\\book_genres_temp\")\n",
    "\n",
    "# Di chuyển file CSV từ thư mục tạm thời\n",
    "temp_path = \"D:\\\\My Projects\\\\crawl-data-ptdl\\\\spark_with_sql\\\\save_table_sql\\\\book_genres_temp\"\n",
    "destination_path = \"D:\\\\My Projects\\\\crawl-data-ptdl\\\\spark_with_sql\\\\save_table_sql\\\\book_genres.csv\"\n",
    "\n",
    "# Tìm file CSV duy nhất và di chuyển\n",
    "for file in os.listdir(temp_path):\n",
    "    if file.startswith(\"part-\"):\n",
    "        shutil.move(os.path.join(temp_path, file), destination_path)\n",
    "        break\n",
    "\n",
    "# Xóa thư mục tạm thời\n",
    "shutil.rmtree(temp_path)\n",
    "\n",
    "print(f\"Dữ liệu đã được lưu vào {destination_path}\")"
   ]
  },
  {
   "cell_type": "markdown",
   "metadata": {},
   "source": [
    "##### 7. Ratings"
   ]
  },
  {
   "cell_type": "code",
   "execution_count": 38,
   "metadata": {},
   "outputs": [
    {
     "name": "stdout",
     "output_type": "stream",
     "text": [
      "Số bản ghi hợp lệ sau khi lọc: 1009\n",
      "Dữ liệu hợp lệ đã được lưu vào D:\\My Projects\\crawl-data-ptdl\\spark_with_sql\\save_table_sql\\book_ratings.csv\n"
     ]
    }
   ],
   "source": [
    "from pyspark.sql import functions as F\n",
    "import shutil\n",
    "import os\n",
    "\n",
    "# Thực hiện phép nối giữa books_df và ratings_df dựa trên cột book_title\n",
    "book_ratings_df = books_df.join(\n",
    "    ratings_df,\n",
    "    books_df.book_title == ratings_df.book_title,\n",
    "    how=\"inner\"\n",
    ").select(\n",
    "    books_df[\"book_id\"],\n",
    "    ratings_df[\"rating_id\"]\n",
    ")\n",
    "\n",
    "# Kiểm tra tính hợp lệ của book_id trong bảng books và rating_id trong bảng ratings\n",
    "# Giả sử books_df và ratings_df đều có các cột book_id và rating_id\n",
    "# Giả sử bạn đã có df_books chứa danh sách book_id hợp lệ\n",
    "valid_books_df = books_df.select(\"book_id\")\n",
    "# Giả sử bạn đã có df_ratings chứa danh sách rating_id hợp lệ\n",
    "valid_ratings_df = ratings_df.select(\"rating_id\")\n",
    "\n",
    "# Lọc book_ratings_df chỉ giữ lại các bản ghi có book_id hợp lệ trong bảng books và rating_id hợp lệ trong bảng ratings\n",
    "book_ratings_df = book_ratings_df.join(\n",
    "    valid_books_df, on=\"book_id\", how=\"inner\")\n",
    "book_ratings_df = book_ratings_df.join(\n",
    "    valid_ratings_df, on=\"rating_id\", how=\"inner\")\n",
    "\n",
    "# Kiểm tra kết quả sau khi lọc\n",
    "print(f\"Số bản ghi hợp lệ sau khi lọc: {book_ratings_df.count()}\")\n",
    "\n",
    "# Đường dẫn tạm thời và đích để lưu file CSV\n",
    "temp_path = \"D:\\\\My Projects\\\\crawl-data-ptdl\\\\spark_with_sql\\\\save_table_sql\\\\book_ratings_temp\"\n",
    "destination_path = \"D:\\\\My Projects\\\\crawl-data-ptdl\\\\spark_with_sql\\\\save_table_sql\\\\book_ratings.csv\"\n",
    "\n",
    "# Kiểm tra nếu file đã tồn tại và xóa nó\n",
    "if os.path.exists(destination_path):\n",
    "    os.remove(destination_path)\n",
    "    print(f\"Đã xóa file cũ tại {destination_path}\")\n",
    "\n",
    "# Lưu book_ratings_df thành file CSV\n",
    "book_ratings_df.coalesce(1).write.format(\"csv\").option(\"header\", \"true\") \\\n",
    "    .save(temp_path)\n",
    "\n",
    "# Di chuyển file CSV từ thư mục tạm thời\n",
    "for file in os.listdir(temp_path):\n",
    "    if file.startswith(\"part-\"):\n",
    "        shutil.move(os.path.join(temp_path, file), destination_path)\n",
    "        break\n",
    "\n",
    "# Xóa thư mục tạm thời\n",
    "shutil.rmtree(temp_path)\n",
    "\n",
    "print(f\"Dữ liệu hợp lệ đã được lưu vào {destination_path}\")"
   ]
  },
  {
   "cell_type": "markdown",
   "metadata": {},
   "source": [
    "#### Chuyển qua SQl"
   ]
  },
  {
   "cell_type": "markdown",
   "metadata": {},
   "source": [
    "##### 1. Authors "
   ]
  },
  {
   "cell_type": "code",
   "execution_count": 39,
   "metadata": {},
   "outputs": [
    {
     "name": "stdout",
     "output_type": "stream",
     "text": [
      "Đọc dữ liệu từ file CSV thành công.\n",
      "Kết nối tới SQL Server thành công.\n",
      "Lỗi khi xóa và chèn dữ liệu vào SQL Server: Not an executable object: 'ALTER TABLE books NOCHECK CONSTRAINT FK_books_authors1'\n"
     ]
    }
   ],
   "source": [
    "import pandas as pd\n",
    "import sqlalchemy\n",
    "from sqlalchemy.exc import SQLAlchemyError\n",
    "\n",
    "# Đọc file CSV vào DataFrame\n",
    "csv_file_path = \"D:\\\\My Projects\\\\crawl-data-ptdl\\\\spark_with_sql\\\\save_table_sql\\\\authors.csv\"\n",
    "try:\n",
    "    df = pd.read_csv(csv_file_path)\n",
    "    print(\"Đọc dữ liệu từ file CSV thành công.\")\n",
    "except FileNotFoundError:\n",
    "    print(f\"Không tìm thấy file tại {csv_file_path}.\")\n",
    "    exit()\n",
    "\n",
    "# Tạo chuỗi kết nối tới SQL Server\n",
    "connection_string = \"mssql+pyodbc://@GNAHT41\\\\SQLEXPRESS/goodreads_books?driver=ODBC+Driver+17+for+SQL+Server\"\n",
    "\n",
    "# Kết nối tới SQL Server\n",
    "try:\n",
    "    engine = sqlalchemy.create_engine(connection_string)\n",
    "    with engine.connect() as connection:\n",
    "        print(\"Kết nối tới SQL Server thành công.\")\n",
    "except SQLAlchemyError as e:\n",
    "    print(f\"Lỗi khi kết nối tới SQL Server: {e}\")\n",
    "    exit()\n",
    "\n",
    "# Xóa dữ liệu cũ và chèn dữ liệu mới\n",
    "try:\n",
    "    with engine.connect() as connection:\n",
    "        # Tạm thời xóa ràng buộc khóa ngoại\n",
    "        connection.execute(\n",
    "            \"ALTER TABLE books NOCHECK CONSTRAINT FK_books_authors1\")\n",
    "        print(\"Ràng buộc khóa ngoại đã bị tắt.\")\n",
    "\n",
    "        # Xóa toàn bộ dữ liệu trong bảng authors\n",
    "        connection.execute(\"DELETE FROM authors\")\n",
    "        print(\"Dữ liệu cũ trong bảng 'authors' đã được xóa.\")\n",
    "\n",
    "        # Chèn dữ liệu mới từ file CSV\n",
    "        df.to_sql('authors', con=engine, if_exists='append', index=False)\n",
    "        print(\"Dữ liệu mới đã được chèn vào bảng 'authors'.\")\n",
    "\n",
    "        # Khôi phục lại ràng buộc khóa ngoại\n",
    "        connection.execute(\n",
    "            \"ALTER TABLE books CHECK CONSTRAINT FK_books_authors1\")\n",
    "        print(\"Ràng buộc khóa ngoại đã được khôi phục.\")\n",
    "except SQLAlchemyError as e:\n",
    "    print(f\"Lỗi khi xóa và chèn dữ liệu vào SQL Server: {e}\")"
   ]
  },
  {
   "cell_type": "markdown",
   "metadata": {},
   "source": [
    "##### 2. Books"
   ]
  },
  {
   "cell_type": "code",
   "execution_count": 40,
   "metadata": {},
   "outputs": [
    {
     "name": "stdout",
     "output_type": "stream",
     "text": [
      "Kết nối đến SQL Server thành công!\n",
      "Dữ liệu đã được đưa vào bảng 'books' trong SQL Server.\n"
     ]
    }
   ],
   "source": [
    "import pandas as pd\n",
    "import sqlalchemy\n",
    "\n",
    "\n",
    "# Đọc file CSV vào DataFrame\n",
    "csv_file_path = \"D:\\\\My Projects\\\\crawl-data-ptdl\\\\spark_with_sql\\\\save_table_sql\\\\books.csv\"\n",
    "# Dùng 'on_bad_lines' để bỏ qua các dòng lỗi nếu có\n",
    "df = pd.read_csv(csv_file_path, on_bad_lines='skip')\n",
    "\n",
    "# Loại bỏ cột 'book_id' nếu nó là identity column\n",
    "df = df.drop(columns=['book_id'])\n",
    "\n",
    "# Chuyển cột publish_date thành kiểu datetime\n",
    "df['publish_date'] = pd.to_datetime(df['publish_date'], errors='coerce')\n",
    "df['publish_date'] = df['publish_date'].dt.date  # Chuyển từ datetime sang date\n",
    "\n",
    "\n",
    "# Kết nối tới SQL Server bằng SQLAlchemy\n",
    "connection_string = \"mssql+pyodbc://@GNAHT41\\\\SQLEXPRESS/goodreads_books?driver=ODBC+Driver+17+for+SQL+Server\"\n",
    "engine = sqlalchemy.create_engine(connection_string)\n",
    "try:\n",
    "    with engine.connect() as conn:\n",
    "        print(\"Kết nối đến SQL Server thành công!\")\n",
    "except Exception as e:\n",
    "    print(f\"Đã có lỗi khi kết nối: {e}\")\n",
    "\n",
    "# Chèn dữ liệu vào bảng SQL (bảng 'books')\n",
    "try:\n",
    "    df.to_sql('books', con=engine, if_exists='append', index=False)\n",
    "    print(\"Dữ liệu đã được đưa vào bảng 'books' trong SQL Server.\")\n",
    "except Exception as e:\n",
    "    print(f\"Đã có lỗi khi chèn dữ liệu: {e}\")"
   ]
  },
  {
   "cell_type": "markdown",
   "metadata": {},
   "source": [
    "##### 3. Ratings"
   ]
  },
  {
   "cell_type": "code",
   "execution_count": 41,
   "metadata": {},
   "outputs": [
    {
     "name": "stdout",
     "output_type": "stream",
     "text": [
      "Đã có lỗi khi chèn dữ liệu: (pyodbc.IntegrityError) ('23000', \"[23000] [Microsoft][ODBC Driver 17 for SQL Server][SQL Server]Cannot insert explicit value for identity column in table 'ratings' when IDENTITY_INSERT is set to OFF. (544) (SQLExecDirectW)\")\n",
      "[SQL: INSERT INTO ratings (book_title, rating, num_ratings, num_reviews, score, rating_id) VALUES (?, ?, ?, ?, ?, ?), (?, ?, ?, ?, ?, ?), (?, ?, ?, ?, ?, ?), (?, ?, ?, ?, ?, ?), (?, ?, ?, ?, ?, ?), (?, ?, ?, ?, ?, ?), (?, ?, ?, ?, ?, ?), (?, ?, ?, ?, ?, ?) ... 6720 characters truncated ... , (?, ?, ?, ?, ?, ?), (?, ?, ?, ?, ?, ?), (?, ?, ?, ?, ?, ?), (?, ?, ?, ?, ?, ?), (?, ?, ?, ?, ?, ?)]\n",
      "[parameters: ('The Roommate', 3.9, 7757, 610, 14560, 0, 'The Knife of Never Letting Go (Chaos Walking, #1)', 3.97, 197877, 21196, 15768, 1, 'Man’s Search for Meaning', 4.37, 762458, 42196, 68249, 2, 'The Lightning Thief (Percy Jackson and the Olympians, #1)', 4.31, 3166598, 108831, 1118664, 3, 'Little House in the Big Woods (Little House, #1)', 4.21, 275012, 8238, 17399, 4, 'Franny and Zooey', 3.96, 228325, 11425, 37741, 5, 'The Art of Racing in the Rain', 4.23, 532237, 45094, 38100, 6, 'I Am Number Four (Lorien Legacies, #1)', 3.93, 345688, 17131, 16436, 7, 'Divine Secrets of the Ya-Ya Sisterhood', 3.86 ... 1994 parameters truncated ... 16170, 340, 'Pericles and Aspasia: A Story of Ancient Greece', 4.29, 16113, 70, 16506, 341, 'The Prophet', 4.23, 308678, 15318, 93497, 342, 'Watchers', 4.19, 166994, 5275, 13347, 343, 'Never Lie', 4.09, 858354, 71025, 14248, 344, 'No Country for Old Men', 4.16, 214570, 13349, 17227, 345, 'The Invention of Hugo Cabret', 4.22, 185704, 16479, 11229, 346, 'Artemis Fowl (Artemis Fowl, #1)', 3.86, 552664, 13954, 25785, 347, 'Love in the Time of Cholera', 3.94, 517918, 28688, 115429, 348)]\n",
      "(Background on this error at: https://sqlalche.me/e/20/gkpj)\n"
     ]
    }
   ],
   "source": [
    "import pandas as pd\n",
    "import sqlalchemy\n",
    "\n",
    "# Đọc file CSV vào DataFrame\n",
    "csv_file_path = \"D:\\\\My Projects\\\\crawl-data-ptdl\\\\spark_with_sql\\\\save_table_sql\\\\ratings.csv\"\n",
    "df = pd.read_csv(csv_file_path, on_bad_lines='skip')\n",
    "\n",
    "# Loại bỏ các dòng trùng lặp dựa trên 'rating_id'\n",
    "df = df.drop_duplicates(subset=['rating_id'])\n",
    "\n",
    "# Kết nối tới SQL Server bằng SQLAlchemy\n",
    "connection_string = \"mssql+pyodbc://@GNAHT41\\\\SQLEXPRESS/goodreads_books?driver=ODBC+Driver+17+for+SQL+Server\"\n",
    "engine = sqlalchemy.create_engine(connection_string)\n",
    "\n",
    "# Lọc bỏ các giá trị đã tồn tại trong SQL\n",
    "try:\n",
    "    with engine.connect() as conn:\n",
    "        existing_ids = pd.read_sql(\"SELECT rating_id FROM ratings\", con=conn)\n",
    "        df = df[~df['rating_id'].isin(existing_ids['rating_id'])]\n",
    "except Exception as e:\n",
    "    print(f\"Lỗi khi lấy dữ liệu từ SQL Server: {e}\")\n",
    "\n",
    "# Chèn dữ liệu vào SQL Server\n",
    "try:\n",
    "    df.to_sql('ratings', con=engine, if_exists='append', index=False)\n",
    "    print(\"Dữ liệu đã được đưa vào bảng 'ratings' trong SQL Server.\")\n",
    "except Exception as e:\n",
    "    print(f\"Đã có lỗi khi chèn dữ liệu: {e}\")"
   ]
  },
  {
   "cell_type": "markdown",
   "metadata": {},
   "source": [
    "##### 4. Genres"
   ]
  },
  {
   "cell_type": "code",
   "execution_count": 42,
   "metadata": {},
   "outputs": [
    {
     "name": "stdout",
     "output_type": "stream",
     "text": [
      "Đã lấy dữ liệu từ bảng 'books'.\n",
      "Dữ liệu đã được đưa vào bảng 'reviews' trong SQL Server.\n"
     ]
    }
   ],
   "source": [
    "import pandas as pd\n",
    "import sqlalchemy\n",
    "\n",
    "# Đọc file CSV vào DataFrame\n",
    "csv_file_path = \"D:\\\\My Projects\\\\crawl-data-ptdl\\\\spark_with_sql\\\\save_table_sql\\\\reviews.csv\"\n",
    "df_reviews = pd.read_csv(csv_file_path)\n",
    "\n",
    "# Kết nối tới SQL Server bằng SQLAlchemy\n",
    "connection_string = \"mssql+pyodbc://@GNAHT41\\\\SQLEXPRESS/goodreads_books?driver=ODBC+Driver+17+for+SQL+Server\"\n",
    "engine = sqlalchemy.create_engine(connection_string)\n",
    "\n",
    "# Lấy dữ liệu từ bảng 'books' để kiểm tra book_id\n",
    "try:\n",
    "    with engine.connect() as conn:\n",
    "        # Lấy tất cả book_id từ bảng 'books'\n",
    "        books_df = pd.read_sql(\"SELECT book_id FROM books\", con=conn)\n",
    "        print(\"Đã lấy dữ liệu từ bảng 'books'.\")\n",
    "except Exception as e:\n",
    "    print(f\"Đã có lỗi khi lấy dữ liệu từ bảng 'books': {e}\")\n",
    "\n",
    "# Lọc các bản ghi có book_id hợp lệ (tồn tại trong bảng 'books')\n",
    "df_reviews = df_reviews[df_reviews['book_id'].isin(books_df['book_id'])]\n",
    "\n",
    "# Bỏ cột review_id\n",
    "df_reviews.drop(columns=['review_id'], inplace=True)\n",
    "\n",
    "# Chèn dữ liệu vào bảng 'reviews'\n",
    "try:\n",
    "    df_reviews.to_sql('reviews', con=engine, if_exists='append', index=False)\n",
    "    print(\"Dữ liệu đã được đưa vào bảng 'reviews' trong SQL Server.\")\n",
    "except Exception as e:\n",
    "    print(f\"Đã có lỗi khi chèn dữ liệu: {e}\")"
   ]
  },
  {
   "cell_type": "markdown",
   "metadata": {},
   "source": [
    "##### 5. Reviews"
   ]
  },
  {
   "cell_type": "code",
   "execution_count": 43,
   "metadata": {},
   "outputs": [
    {
     "name": "stdout",
     "output_type": "stream",
     "text": [
      "review_id    int64\n",
      "book_id      int64\n",
      "Reviews      int64\n",
      "Score        int64\n",
      "dtype: object\n",
      "Đã lấy dữ liệu từ bảng 'books'.\n",
      "Dữ liệu đã được đưa vào bảng 'reviews' trong SQL Server.\n"
     ]
    }
   ],
   "source": [
    "import pandas as pd\n",
    "import sqlalchemy\n",
    "\n",
    "# Đọc file CSV vào DataFrame\n",
    "csv_file_path = \"D:\\\\My Projects\\\\crawl-data-ptdl\\\\spark_with_sql\\\\save_table_sql\\\\reviews.csv\"\n",
    "df_reviews = pd.read_csv(csv_file_path)\n",
    "\n",
    "# Kiểm tra kiểu dữ liệu của các cột trong DataFrame\n",
    "print(df_reviews.dtypes)\n",
    "\n",
    "# Đổi kiểu dữ liệu nếu cần\n",
    "df_reviews['review_id'] = df_reviews['review_id'].astype('int64')  # bigInt\n",
    "df_reviews['book_id'] = df_reviews['book_id'].astype('int64')      # bigInt\n",
    "df_reviews['Reviews'] = df_reviews['Reviews'].astype('int')        # int\n",
    "df_reviews['Score'] = df_reviews['Score'].astype('int')            # int\n",
    "\n",
    "# Kết nối tới SQL Server bằng SQLAlchemy\n",
    "connection_string = \"mssql+pyodbc://@GNAHT41\\\\SQLEXPRESS/goodreads_books?driver=ODBC+Driver+17+for+SQL+Server\"\n",
    "engine = sqlalchemy.create_engine(connection_string)\n",
    "\n",
    "# Lấy dữ liệu book_id từ bảng books\n",
    "try:\n",
    "    with engine.connect() as conn:\n",
    "        # Lấy tất cả book_id từ bảng 'books'\n",
    "        books_df = pd.read_sql(\"SELECT book_id FROM books\", con=conn)\n",
    "        print(\"Đã lấy dữ liệu từ bảng 'books'.\")\n",
    "except Exception as e:\n",
    "    print(f\"Đã có lỗi khi lấy dữ liệu từ bảng 'books': {e}\")\n",
    "\n",
    "# Lọc các bản ghi có book_id hợp lệ (tồn tại trong bảng 'books')\n",
    "df_reviews = df_reviews[df_reviews['book_id'].isin(books_df['book_id'])]\n",
    "\n",
    "# Bỏ cột review_id\n",
    "df_reviews.drop(columns=['review_id'], inplace=True)\n",
    "\n",
    "# Chèn dữ liệu vào bảng reviews\n",
    "try:\n",
    "    df_reviews.to_sql('reviews', con=engine, if_exists='append', index=False)\n",
    "    print(\"Dữ liệu đã được đưa vào bảng 'reviews' trong SQL Server.\")\n",
    "except Exception as e:\n",
    "    print(f\"Đã có lỗi khi chèn dữ liệu: {e}\")"
   ]
  },
  {
   "cell_type": "markdown",
   "metadata": {},
   "source": [
    "##### 6."
   ]
  },
  {
   "cell_type": "code",
   "execution_count": 44,
   "metadata": {},
   "outputs": [
    {
     "name": "stdout",
     "output_type": "stream",
     "text": [
      "Đã lấy dữ liệu genre_id từ bảng 'genres'.\n",
      "Dữ liệu đã được đưa vào bảng 'book_genres' trong SQL Server.\n"
     ]
    }
   ],
   "source": [
    "import pandas as pd\n",
    "import sqlalchemy\n",
    "\n",
    "# Đọc file CSV vào DataFrame\n",
    "csv_file_path = \"D:\\\\My Projects\\\\crawl-data-ptdl\\\\spark_with_sql\\\\save_table_sql\\\\book_genres.csv\"\n",
    "df_book_genres = pd.read_csv(csv_file_path)\n",
    "\n",
    "# Kết nối tới SQL Server bằng SQLAlchemy\n",
    "connection_string = \"mssql+pyodbc://@GNAHT41\\\\SQLEXPRESS/goodreads_books?driver=ODBC+Driver+17+for+SQL+Server\"\n",
    "engine = sqlalchemy.create_engine(connection_string)\n",
    "\n",
    "# Lấy tất cả genre_id từ bảng genres\n",
    "try:\n",
    "    with engine.connect() as conn:\n",
    "        genres_df = pd.read_sql(\"SELECT genre_id FROM genres\", con=conn)\n",
    "        print(\"Đã lấy dữ liệu genre_id từ bảng 'genres'.\")\n",
    "except Exception as e:\n",
    "    print(f\"Đã có lỗi khi lấy dữ liệu từ bảng 'genres': {e}\")\n",
    "\n",
    "# Lọc các bản ghi có genre_id hợp lệ (tồn tại trong bảng 'genres')\n",
    "df_book_genres = df_book_genres[df_book_genres['genre_id'].isin(\n",
    "    genres_df['genre_id'])]\n",
    "\n",
    "# Chèn dữ liệu vào bảng book_genres\n",
    "try:\n",
    "    df_book_genres.to_sql('book_genres', con=engine,\n",
    "                          if_exists='append', index=False)\n",
    "    print(\"Dữ liệu đã được đưa vào bảng 'book_genres' trong SQL Server.\")\n",
    "except Exception as e:\n",
    "    print(f\"Đã có lỗi khi chèn dữ liệu: {e}\")"
   ]
  },
  {
   "cell_type": "markdown",
   "metadata": {},
   "source": [
    "##### 7. Book_ratings"
   ]
  },
  {
   "cell_type": "code",
   "execution_count": 45,
   "metadata": {},
   "outputs": [
    {
     "name": "stdout",
     "output_type": "stream",
     "text": [
      "Số bản ghi sau khi lọc: 0\n",
      "Đã có lỗi khi chèn dữ liệu: Not an executable object: 'DELETE FROM book_ratings'\n"
     ]
    }
   ],
   "source": [
    "import pandas as pd\n",
    "import sqlalchemy\n",
    "\n",
    "# Đọc file CSV vào DataFrame\n",
    "csv_file_path = \"D:\\\\My Projects\\\\crawl-data-ptdl\\\\spark_with_sql\\\\save_table_sql\\\\book_ratings.csv\"\n",
    "df_books_ratings = pd.read_csv(csv_file_path)\n",
    "\n",
    "# Loại bỏ cột rating_id nếu có\n",
    "df_books_ratings = df_books_ratings.drop(\n",
    "    columns=[\"rating_id\"], errors='ignore')\n",
    "\n",
    "# Tạo cột rating_id tự động tăng nếu cần\n",
    "df_books_ratings['rating_id'] = range(1, len(df_books_ratings) + 1)\n",
    "\n",
    "# Kết nối tới SQL Server bằng SQLAlchemy\n",
    "connection_string = \"mssql+pyodbc://@GNAHT41\\\\SQLEXPRESS/goodreads_books?driver=ODBC+Driver+17+for+SQL+Server\"\n",
    "engine = sqlalchemy.create_engine(connection_string)\n",
    "\n",
    "# Lấy tất cả rating_id có sẵn trong bảng ratings\n",
    "with engine.connect() as connection:\n",
    "    available_rating_ids = pd.read_sql(\n",
    "        \"SELECT rating_id FROM ratings\", con=connection)\n",
    "\n",
    "# Lọc df_books_ratings chỉ giữ lại các rating_id có trong bảng ratings\n",
    "df_books_ratings = df_books_ratings[df_books_ratings['rating_id'].isin(\n",
    "    available_rating_ids['rating_id'])]\n",
    "\n",
    "# Lấy tất cả book_id có sẵn trong bảng books\n",
    "with engine.connect() as connection:\n",
    "    available_book_ids = pd.read_sql(\n",
    "        \"SELECT book_id FROM books\", con=connection)\n",
    "\n",
    "# Lọc df_books_ratings chỉ giữ lại các book_id có trong bảng books\n",
    "df_books_ratings = df_books_ratings[df_books_ratings['book_id'].isin(\n",
    "    available_book_ids['book_id'])]\n",
    "\n",
    "# Kiểm tra dữ liệu sau khi lọc\n",
    "print(f\"Số bản ghi sau khi lọc: {df_books_ratings.shape[0]}\")\n",
    "\n",
    "# Xóa tất cả dữ liệu trong bảng book_ratings trước khi chèn dữ liệu mới\n",
    "try:\n",
    "    with engine.connect() as connection:\n",
    "        connection.execute(\"DELETE FROM book_ratings\")\n",
    "    print(\"Đã xóa dữ liệu cũ trong bảng 'book_ratings'.\")\n",
    "\n",
    "    # Chèn dữ liệu vào bảng book_ratings và ghi đè dữ liệu cũ\n",
    "    df_books_ratings.to_sql('book_ratings', con=engine,\n",
    "                            if_exists='append', index=False)\n",
    "    print(\"Dữ liệu mới đã được đưa vào bảng 'book_ratings' trong SQL Server.\")\n",
    "\n",
    "except sqlalchemy.exc.IntegrityError as ie:\n",
    "    # Xử lý lỗi IntegrityError (ví dụ: vi phạm ràng buộc khóa ngoại, NULL không hợp lệ)\n",
    "    print(f\"Lỗi ràng buộc (IntegrityError): {ie.orig}\")\n",
    "except sqlalchemy.exc.OperationalError as oe:\n",
    "    # Xử lý lỗi khi kết nối hoặc thao tác cơ sở dữ liệu\n",
    "    print(f\"Lỗi kết nối cơ sở dữ liệu (OperationalError): {oe.orig}\")\n",
    "except Exception as e:\n",
    "    # Xử lý các lỗi khác\n",
    "    print(f\"Đã có lỗi khi chèn dữ liệu: {e}\")"
   ]
  }
 ],
 "metadata": {
  "kernelspec": {
   "display_name": "Python 3",
   "language": "python",
   "name": "python3"
  },
  "language_info": {
   "codemirror_mode": {
    "name": "ipython",
    "version": 3
   },
   "file_extension": ".py",
   "mimetype": "text/x-python",
   "name": "python",
   "nbconvert_exporter": "python",
   "pygments_lexer": "ipython3",
   "version": "3.12.3"
  }
 },
 "nbformat": 4,
 "nbformat_minor": 2
}
